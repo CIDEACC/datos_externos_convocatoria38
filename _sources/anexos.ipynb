{
 "cells": [
  {
   "cell_type": "markdown",
   "id": "26fcac9e",
   "metadata": {},
   "source": [
    "# **Diccionarios de variables**"
   ]
  },
  {
   "cell_type": "markdown",
   "id": "11490743",
   "metadata": {},
   "source": [
    "PONER DESCRIPCION DE LA ENCUESTA\n",
    "PONER QUE LAS VARIABLES FUERON SELECCIONADAS POR TAL Y TAL\n",
    "PONER CITA DE LA FUENTE"
   ]
  },
  {
   "cell_type": "markdown",
   "id": "e01bfd48",
   "metadata": {},
   "source": [
    "## **Encuesta Nacional de Calidad de Vida**"
   ]
  },
  {
   "cell_type": "markdown",
   "id": "f4d4e73a",
   "metadata": {},
   "source": [
    "| Variable                                       | Descripción                                                    | Categorías / Tipo                                |\n",
    "|-----------------------------------------------|----------------------------------------------------------------|--------------------------------------------------|\n",
    "| `ID`                                           | Identificador único de la vivienda donde se realizó la encuesta | `Numérico`                                       |\n",
    "| `FEX_C`                                        | Factor de expansión muestral                                   | `Numérico`                                       |\n",
    "| `COD_DPTO`                                     | Código del departamento según DANE                             | `Numérico`                                       |\n",
    "| `COD_MUNI`                                     | Código del municipio según DANE                                | `Numérico`                                       |\n",
    "| `REGION`                                       | Región geográfica del país                                     | - `CARIBE`<br> - `ANDINA`<br> - `PACIFICA`<br> - `ORINOQUIA`<br> - `AMAZONIA` <br> **En este caso solo se tendrá en cuenta la región Caribe** |\n",
    "| `MUNICIPIO`                                    | Nombre del municipio                                           | `Texto`                                          |\n",
    "| `DEPARTAMENTO`                                 | Nombre del departamento                                        | `Texto`                                          |\n",
    "| `RUIDOS`                                       | ¿Con qué frecuencia se presentan ruidos externos?              | - `NUNCA`<br> - `ALGUNAS VECES`<br> - `MUCHAS VECES`<br> - `SIEMPRE` |\n",
    "| `MALOS_OLORES`                                 | ¿Con qué frecuencia se presentan malos olores externos?        | - `NUNCA`<br> - `ALGUNAS VECES`<br> - `MUCHAS VECES`<br> - `SIEMPRE` |\n",
    "| `PRESENCIA_BASURAS`                            | ¿Con qué frecuencia se observan basuras en el entorno?         | - `NUNCA`<br> - `ALGUNAS VECES`<br> - `MUCHAS VECES`<br> - `SIEMPRE` |\n",
    "| `CONTAMINACION_AIRE`                           | ¿Con qué frecuencia se percibe contaminación del aire?         | - `NUNCA`<br> - `ALGUNAS VECES`<br> - `MUCHAS VECES`<br> - `SIEMPRE` |\n",
    "| `CONTAMINACION_AGUA`                           | ¿Contaminación en cuerpos de agua cercanos?                    | - `NUNCA`<br> - `ALGUNAS VECES`<br> - `MUCHAS VECES`<br> - `SIEMPRE` |\n",
    "| `INVASION_ESPACIO_PUBLICO`                     | ¿Se ha presentado ocupación indebida del espacio público?      | - `NUNCA`<br> - `ALGUNAS VECES`<br> - `MUCHAS VECES`<br> - `SIEMPRE` |\n",
    "| `MOLESTIAS_ANIMALES`                           | ¿Presencia de animales que generan molestias?                  | - `NUNCA`<br> - `ALGUNAS VECES`<br> - `MUCHAS VECES`<br> - `SIEMPRE` |\n",
    "| `PRESENCIA_INSECTOS`                           | ¿Presencia de insectos o plagas?                               | - `NUNCA`<br> - `ALGUNAS VECES`<br> - `MUCHAS VECES`<br> - `SIEMPRE` |\n",
    "| `INUNDACIONES_DESBORDAMIENTO_CRECIENTES_ARROYOS` | ¿La vivienda ha sido afectada por inundaciones?             | - `SI`<br> - `NO`                                  |\n",
    "| `AVALANCHAS_DERRUMBES_DESLIZAMIENTOS`          | ¿Ha sido afectada por derrumbes o deslizamientos?              | - `SI`<br> - `NO`                                  |\n",
    "| `HUNDIMIENTO_DE_TERRENO`                       | ¿Hundimiento o agrietamiento del terreno?                      | - `SI`<br> - `NO`                                  |\n",
    "| `VENTARRONES_TORMENTAS_VENDAVALES`             | ¿Fenómenos climáticos fuertes como vendavales?                 | - `SI`<br> - `NO`                                  |\n",
    "| `SISMO_TEMBLOR`                                 | ¿Ha sido afectada por sismos o temblores?                      | - `SI`<br> - `NO`                                  |\n",
    "| `INGRESO_MENSUAL_TOTAL`                        | Ingreso mensual total del hogar                                | `Numérico`                                       |\n",
    "| `PAGO_SEG_SOCIAL`                              | Valor del pago mensual en salud                                | `Numérico`                                       |\n",
    "| `UBICACION_ENTIDAD_SALUD`                      | Ubicación de la entidad de salud                               | - `MISMO MUNICIPIO`<br> - `DIFERENTE MUNICIPIO`     |\n",
    "| `RESPONSABLE_PAGO_AFILIACION`                  | Quién paga la afiliación mensual a salud                       | - `Parte propia y parte empresa`<br> - `Descuento por pensión`<br> - `Pago total propio`<br> - `Pago total empresa`<br> - `No paga (beneficiario)` |\n",
    "| `SEG_SOCIAL`                                    | Tipo de afiliación al sistema de salud                         | - `Contributivo (EPS)`<br> - `Especial (Fuerzas armadas, Ecopetrol, universidades públicas, magisterio)`<br> - `Subsidiado (EPS-S)`<br> - `No sabe, no informa` |\n",
    "| `MEDICINA_PREPAGADA`                           | ¿Tiene medicina prepagada?                                     | - `SI`<br> - `NO`                                  |\n",
    "| `PLAN_COMPLEMENTARIO_EPS`                      | ¿Tiene plan complementario de EPS?                             | - `SI`<br> - `NO`                                  |\n",
    "| `POLIZA_HOSPITALIZACION_CIRUGIA`               | ¿Cuenta con póliza para hospitalización o cirugía?             | - `SI`<br> - `NO`                                  |\n",
    "| `FRECUENCIA_INTERNET`                          | Frecuencia de acceso a internet                                | - `Todos los días`<br> - `Semanalmente`<br> - `Mensualmente`<br> - `Anualmente`<br> - `No usa internet` |\n",
    "| `PERCEPCION_CALIDAD_DE_VIDA`                   | Percepción sobre la calidad de vida                            | `10: Mejor vida - 0: Peor vida`                  |\n",
    "\n"
   ]
  },
  {
   "cell_type": "markdown",
   "id": "d8176377",
   "metadata": {},
   "source": [
    "\n",
    ":::{note}\n",
    "El factor de expansión es un valor utilizado en estadísticas para ajustar una muestra de forma que represente adecuadamente a una población más grande, compensando las diferencias en la selección de la muestra.\n",
    "*Ejemplo: Si un factor de expansión es 3, significa que cada observación en la muestra debe ser multiplicada por 3 para estimar el valor correspondiente en la población completa.*\n",
    ":::"
   ]
  },
  {
   "cell_type": "markdown",
   "id": "a231ff31",
   "metadata": {},
   "source": [
    "## **Unidad para las víctimas**"
   ]
  },
  {
   "cell_type": "markdown",
   "id": "f29ed281",
   "metadata": {},
   "source": [
    "| Variable       | Descripción                                                                 | Categorías / Tipo                                                                 |\n",
    "|----------------|------------------------------------------------------------------------------|------------------------------------------------------------------------------------|\n",
    "| `DEPARTAMENTO` | Nombre del departamento.                                                     | `Texto`                                                                            |\n",
    "| `MUNICIPIO`    | Nombre del municipio.                                                        | `Texto`                                                                            |\n",
    "| `ESTIMADO`     | Valor numérico estimado del riesgo de victimización.                        | `Numérico`                                                                         |\n",
    "| `CLUSTER`      | Agrupación del municipio según el nivel de riesgo.                          | - `BAJO`<br>- `MEDIO BAJO`<br>- `MEDIO`<br>- `MEDIO ALTO`<br>- `ALTO`             |\n"
   ]
  },
  {
   "cell_type": "markdown",
   "id": "e3ce9b0d",
   "metadata": {},
   "source": [
    "## **Censo Nacional de población y vivienda**"
   ]
  },
  {
   "cell_type": "markdown",
   "id": "7c5a4e57",
   "metadata": {},
   "source": [
    "| **Variable**                    | **Significado**                                                                                     | **Categorías** |\n",
    "|--------------------------------|-----------------------------------------------------------------------------------------------------|----------------|\n",
    "| ``DEPARTAMENTO``               | Departamento donde se realizó la encuesta                                                          |  `Texto`                |\n",
    "| ``MUNICIPIO``                  | Municipio donde se realizó la encuesta                                                             |       `Texto`         |\n",
    "| ``COD_DPTO``                   | Código del departamento                                                                            |            `Código (int)`       |\n",
    "| ``COD_MPIO``                   | Código del municipio                                                                               | `Código (int)`                   |\n",
    "| ``COD_MANZANA``                | Código de la manzana a la que pertenece                                                            |     `Código (int)`            |\n",
    "| ``TERR_ETNICA``                | Vivienda en una territorialidad étnica                                                             |  `SI`<br>`NO`              |\n",
    "| ``TIPO_TERR_ETNICA``           | Tipo de territorialidad étnica                                                                     |     `Resguardo Indígena`<br>`Territorio Colectivo de Comunidad Negra`           |\n",
    "| ``ESTRATO``                    | Estrato de la vivienda (según servicio de energía)                                                 |    `Sin Estrato`, `Estrato 1`, `Estrato 2`, `Estrato 3`, `Estrato 4`, `Estrato 5`, `Estrato 6`, `No informa`            |\n",
    "| ``ENERGIA``                    | ¿Cuenta la persona encuestada con servicio de energía eléctrica?                                     |  `SI`<br>`NO`               |\n",
    "| ``ACUEDUCTO``                  | ¿Cuenta la persona encuestada con servicio de acueducto?                                             |   `SI`<br>`NO`              |\n",
    "| ``GAS``                        | ¿Cuenta la persona encuestada con servicio de gas?                                                   |     `SI`<br>`NO` <br>`No Informa`           |\n",
    "| ``AGUA_COCINA``                | Fuente de agua para preparar los alimentos                                                         |         `Texto`       |\n",
    "| ``LUGAR_COCINA``               | Lugar donde preparan los alimentos                                                                 |    `Solo cocina`<br>`Dormitorio`<br>`Sala / Comedor con lavaplatos`<br>`Sala / Comedor sin lavaplatos`<br>`Patio o aire libre`<br>`No cocinan`<br>`No informa`|\n",
    "| ``RECONOCIMIENTO_ETNICO``      | Reconocimiento étnico                                                                              |     `Indígena`<br>`Gitano(a) o Rrom`<br>`Raizal`<br>` Palenquero(a)`<br>`Negro(a), Mulato(a), Afrodescendiente, Afrocolombiano(a)`<br>`Ningún grupo étnico`<br>`No Informa`            |\n",
    "| ``COD_ETNIA``                  | Pueblo indígena de pertenencia                                                                     |  `Texto`               |\n",
    "| ``HABLA_LENGUA_NATIVA``        | ¿Habla la lengua nativa de su pueblo?                                                              |   `SI`<br>`NO`<br>`No Aplica`<br>`No Informa`             |\n",
    "| ``ENTIENDE_LENGUA_NATIVA``     | Entiende la lengua nativa de su pueblo                                                             |  `SI`<br>`NO`<br>`No Aplica`<br>`No Informa`              |\n",
    "| ``ALFABETA``                   | ¿Sabe leer y escribir?                                                                             |  `SI`<br>`NO`<br>`No Aplica`<br>`No Informa`                  |\n",
    "| ``ASISTENCIA_ESCOLAR``         | Asistencia escolar (de forma presencial o virtual)                                                 |    `SI`<br>`NO`<br>`No Aplica`<br>`No Informa`                |\n",
    "| ``NIVEL_EDUCATIVO``            | Nivel educativo más alto alcanzado                                                                 | `Preescolar`, `Básica primaria`, `Básica secundaria`, `Media académica o clásica`, `Media técnica`, `Normalista`, `Técnica profesional o Tecnológica`, `Universitario`, `Especialización, maestría, doctorado`, `Ninguno`, `No Aplica`, `No Informa`               |\n",
    "| ``CALIDAD_SERVICIO_SALUD``     | Calidad de la prestación del servicio de salud (cuando fue atendido, no todos han sido atendidos) |         `Muy bueno`, `Bueno`, `Malo`, `Muy Malo`, `No Aplica`, `No Informa`       |"
   ]
  },
  {
   "cell_type": "markdown",
   "id": "20478249",
   "metadata": {},
   "source": [
    "## **Encuesta de cultura política**"
   ]
  },
  {
   "cell_type": "markdown",
   "id": "45442982",
   "metadata": {},
   "source": [
    "| Variable             | Descripción                                                                                          | Categorías |\n",
    "|------------------------------------|------------------------------------------------------------------------------------------------------|------------|\n",
    "| `ID`                               | Identificación única de la encuesta realizada.                                                       | `Numérico` |\n",
    "| `REGION`                               | Región donde está ubicado la persona encuestada.   <br> **En este caso solo se tendrá en cuenta la región Caribe**                                                   | `Bogotá`, `Caribe`, `Oriental`,`Central`,`Pacífica` |\n",
    "| `FEX_P`                               | Factor de expansión muestral.                                                       | `Numérico` |\n",
    "| `PERCEPCION_DEMOCRACIA`            | Percepción general sobre la democracia en Colombia.                                                  | `Democrático`<br>`Medianamente democrático`<br>`No democrático` |\n",
    "| `SATISFACCION_DEMOCRACIA`          | Grado de satisfacción con el funcionamiento de la democracia en Colombia.                            | `Muy insatisfecho(a)`<br>`Insatisfecho(a)`<br>`Ni satisfecho(a) ni insatisfecho(a)`<br>`Satisfecho(a)`<br>`Muy satisfecho(a)`<br>`No sabe/no informa` |\n",
    "| `RESPETO_ELEGIR_SER_ELEGIDO`       | Considera que en Colombia se respeta el derecho a elegir y ser elegido.                               | `SI`<br>`NO`<br>`No sabe/No informa` |\n",
    "| `GARANTIA_PARTICIPACION`           | Considera que en Colombia se garantiza el derecho a participar.                                       | `SI`<br>`NO`<br>`No sabe/No informa` |\n",
    "| `LIBERTAD_EXPRESION`               | Considera que en Colombia existe libertad para expresar y difundir el pensamiento.                   | `SI`<br>`NO`<br>`No sabe/No informa` |\n",
    "| `LIBERTAD_PERTENENCIA_POLITICA`    | Considera que en Colombia existe libertad para pertenecer a partidos y movimientos políticos.         | `SI`<br>`NO`<br>`No sabe/No informa` |\n",
    "| `GARANTIA_MANIFESTACION`           | Considera que en Colombia existen garantías para manifestarse públicamente.                          | `SI`<br>`NO`<br>`No sabe/No informa` |\n",
    "| `IGUALDAD_ANTE_LA_LEY`            | Considera que en Colombia se garantiza el derecho a la igualdad ante la ley.                          | `SI`<br>`NO`<br>`No sabe/No informa` |\n",
    "| `ACCESO_INFO_PUBLICA`              | Considera que en Colombia se facilita el acceso de los ciudadanos a la información pública.           | `SI`<br>`NO`<br>`No sabe/No informa` |\n",
    "| `CONTROL_SOCIAL_GESTION`           | Considera que en Colombia se permite a los ciudadanos ejercer control social sobre la gestión del Estado. | `SI`<br>`NO`<br>`No sabe/No informa` |\n",
    "| `PROTECCION_VIDA_LIBERTAD`         | Considera que en Colombia se protegen los derechos a la vida, libertad, integridad y seguridad.        | `SI`<br>`NO`<br>`No sabe/No informa` |\n",
    "| `PROTECCION_DERECHOS_SOCIALES`     | Considera que en Colombia se protegen los derechos a educación, salud, seguridad social, trabajo y vivienda. | `SI`<br>`NO`<br>`No sabe/No informa` |\n",
    "| `PROTECCION_LIBERTAD_INFORMACION`  | Considera que en Colombia se protegen los derechos a la libertad de expresión, conciencia y divulgación de información. | `SI`<br>`NO`<br>`No sabe/No informa` |\n",
    "| `PROTECCION_RECREACION_CULTURA`    | Considera que en Colombia se protegen los derechos a la recreación y la cultura.                      | `SI`<br>`NO`<br>`No sabe/No informa` |\n",
    "| `PROTECCION_DERECHOS_MINORIAS`     | Considera que en Colombia se protegen los derechos de las minorías étnicas y sociales.                | `SI`<br>`NO`<br>`No sabe/No informa` |\n",
    "| `PROTECCION_DERECHOS_CAMPESINOS`   | Considera que en Colombia se protegen los derechos del campesinado.                                   | `SI`<br>`NO`<br>`No sabe/No informa` |\n",
    "| `PROTECCION_DERECHOS_MUJERES`      | Considera que en Colombia se protegen los derechos de las mujeres.                                    | `SI`<br>`NO`<br>`No sabe/No informa` |\n",
    "| `RIESGOS_COMUNIDAD`                | Percepción sobre si en el último año surgieron riesgos en la comunidad del encuestado contra la vida, libertad e integridad (por ejemplo, estigmatización o discriminación). | `SI`<br>`NO`<br>`No sabe/No informa` |\n",
    "| `CONFIANZA_ALCALDIA`               | Nivel de confianza del encuestado en la Alcaldía Municipal o Distrital.                               | `No confía`<br>`Confía poco`<br>`Ni mucho ni poco`<br>`Confía`<br>`Confía mucho`<br>`No sabe/No informa` |\n",
    "| `CONFIANZA_FUERZAS_MILITARES`      | Nivel de confianza del encuestado en las Fuerzas Militares (Ejército, Armada y Fuerza Aérea).        | `No confía`<br>`Confía poco`<br>`Ni mucho ni poco`<br>`Confía`<br>`Confía mucho`<br>`No sabe/No informa` |\n"
   ]
  },
  {
   "cell_type": "markdown",
   "id": "dd0f10f1",
   "metadata": {},
   "source": [
    "## **PIB**"
   ]
  },
  {
   "cell_type": "markdown",
   "id": "d8c1fdf8",
   "metadata": {},
   "source": [
    "| Variable       | Descripción                                                                 | Categorías / Tipo                                                                 |\n",
    "|----------------|------------------------------------------------------------------------------|------------------------------------------------------------------------------------|\n",
    "| `COD_DEPTO` | Código del departamento.                                                     | `Texto`                                                                            |\n",
    "| `DEPARTAMENTO`    | Nombre del departamento.<br> **En este caso solo se tendrán en cuenta los departamentos de la región Caribe**                                                  | `Texto`                                                                            |\n",
    "| `PIB`     | Producto interno bruto departamental a precios corrientes y en miles de millones de pesos.                        | `Numérico`                                                                         |\n",
    "| `PARTICIPACION_PORCENTUAL`      | Participación porcentual de cada departamento en el PIB global de Colombia                          | `Numérico`                                                                         |\n",
    "| `AÑO`| Año en el que fue evaluada la medida PIB  |   `2023`|"
   ]
  }
 ],
 "metadata": {
  "language_info": {
   "name": "python"
  }
 },
 "nbformat": 4,
 "nbformat_minor": 5
}
