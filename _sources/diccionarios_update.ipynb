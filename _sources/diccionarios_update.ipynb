{
 "cells": [
  {
   "cell_type": "markdown",
   "id": "e9724f41",
   "metadata": {},
   "source": [
    "# **Diccionarios: Identificación de variables**"
   ]
  },
  {
   "cell_type": "markdown",
   "id": "3231e41e",
   "metadata": {},
   "source": [
    "| **Grupo**                                 | **Descripción**                                                                                                                  | **Ejemplos de variables**                                           |\n",
    "|-------------------------------------------|----------------------------------------------------------------------------------------------------------------------------------|---------------------------------------------------------------------|\n",
    "| **General**                               | Información de identificación, ubicación y temporalidad de cada registro.                                                        | `COD_DEPTO`, `COD_MUNI`, `DEPARTAMENTO`, `MUNICIPIO`, `AÑO`         |\n",
    "| **Vulnerabilidad Económica (VE)**         | Mide la capacidad financiera de la población para acceder a recursos y servicios básicos de salud; bajos ingresos o desempleo elevado incrementan la vulnerabilidad. | `TASA_POBREZA`, `INGRESO_PROMEDIO_HOGAR`, `ESTRATO_SOCIOECONÓMICO`   |\n",
    "| **Vulnerabilidad Cultural (VC)**          | Evalúa las barreras derivadas de idioma, creencias o falta de adaptación cultural de los servicios de salud; mayor diversidad lingüística o prácticas tradicionales no atendidas aumentan la vulnerabilidad. | `IDIOMA_PRINCIPAL`, `PARTICIPACIÓN_CULTURAL`                        |\n",
    "| **Vulnerabilidad de Infraestructura (VI)**| Se refiere a la disponibilidad y calidad de equipamientos sanitarios, saneamiento y transporte hacia centros de salud; deficiencias en estos elementos elevan la vulnerabilidad. | `DISTANCIA_HOSPITAL_KM`, `ACCESO_SANEAMIENTO`, `TRANSPORTE_SALUD`    |\n",
    "| **Vulnerabilidad de Acceso a Salud (VH)** | Considera la cobertura, costo y cercanía de los servicios médicos; barreras económicas, geográficas o de calidad en la atención incrementan la vulnerabilidad. | `COBERTURA_SEGURO_SOCIAL`, `COSTO_CONSULTA`, `ÍNDICE_CALIDAD_SERVICIOS` |\n",
    "| **Vulnerabilidad Ambiental (VAM)**        | Mide la exposición a riesgos ambientales —contaminación, desastres naturales o cambios climáticos— que afectan la salud y la integridad del hábitat; mayor exposición empeora la vulnerabilidad. | `ÍNDICE_CONTAMINACIÓN`, `FRECUENCIA_DESASTRES_NATURALES`, `TEMPERATURA_EXTREMA` |\n",
    "| **Vulnerabilidad Geográfica (VG)**        | Mide la dificultad de acceso físico a servicios de salud debido a la ubicación en zonas rurales remotas o de difícil acceso; el aislamiento geográfico incrementa la vulnerabilidad. | `ES_ZONA_RURAL_REMOTA`, `ALTITUD`, `TIPO_DE_TERRENO`                |\n",
    "| **Vulnerabilidad Tecnológica (VT)**       | Refleja el acceso a tecnologías médicas y conectividad digital para consultas y seguimiento; falta de cobertura de internet o servicios de telemedicina eleva la vulnerabilidad. | `COBERTURA_INTERNET`, `USO_TELEMEDICINA`                            |\n",
    "| **Vulnerabilidad Social (VS)**            | Involucra dinámicas de discriminación, exclusión o violencia que afectan el acceso a recursos y servicios de salud; mayor marginación social aumenta la vulnerabilidad. | `TASA_VIOLENCIA`, `ÍNDICE_EXCLUSIÓN_SOCIAL`                         |\n",
    "| **Vulnerabilidad de Acceso a Información (VA)** | Se refiere a la disponibilidad y comprensión de la información en salud pública; carencia de materiales adaptados o bajo nivel de alfabetización elevan la vulnerabilidad. | `DISPONIBILIDAD_MATERIALES_INFORMATIVOS`, `NIVEL_ALFABETISMO`       |\n",
    "| **Vulnerabilidad Política (VP)**          | Evalúa la estabilidad del entorno político y su impacto en la provisión de servicios de salud; conflictos o inestabilidad institucional empeoran la vulnerabilidad. | `ÍNDICE_ESTABILIDAD_PÚBLICA`, `NÚMERO_PROTESTAS`                    |\n",
    "| **Vulnerabilidad por Género y Barreras Sociales (VGBS)** | Mide cómo las normas de género o barreras sociales limitan el acceso a servicios y recursos de salud; desigualdades de género o roles tradicionales no considerados aumentan la vulnerabilidad. | `BRECHA_ACCESO_SALUD_MUJERES`, `BARRERAS_CULTURALES`                |\n"
   ]
  },
  {
   "cell_type": "markdown",
   "id": "e91a712e",
   "metadata": {},
   "source": [
    "## **General**"
   ]
  },
  {
   "cell_type": "markdown",
   "id": "a00acaa0",
   "metadata": {},
   "source": [
    "Es importante destacar que en todos los conjuntos de datos que se usan y se describen, se incluyen las siguientes variables:\n",
    "\n",
    "| **Variable**   | **Tipo de variable** | **Descripción de la variable**                                                            |\n",
    "|----------------|----------------------|--------------------------------------------------------------------------------------------|\n",
    "| `COD_DEPTO`    | Texto                | Código DANE del departamento (2 dígitos)                                                  |\n",
    "| `DEPARTAMENTO` | Texto                | Nombre del departamento                                                                   |\n",
    "| `COD_MUNI`     | Texto                | Código DANE del municipio (5 dígitos, que incluye el código del departamento)              |\n",
    "| `MUNICIPIO`    | Texto                | Nombre del municipio                                                                       |\n",
    "\n",
    "\n"
   ]
  },
  {
   "cell_type": "markdown",
   "id": "2c78f476",
   "metadata": {},
   "source": [
    "## **Data PIB (Producto Interno Bruto)**"
   ]
  },
  {
   "cell_type": "markdown",
   "id": "63d834e6",
   "metadata": {},
   "source": [
    "| **Variable**               | **Tipo de variable**  | **Descripción**                                                                            | **Categorías/Tipo** | **Tipo de vulnerabilidad**      |\n",
    "| -------------------------- | --------------------- | ------------------------------------------------------------------------------------------ | ------------------- | ------------------------------- |\n",
    "| `PIB`                      | Cuantitativa continua | Producto interno bruto departamental a precios corrientes y en miles de millones de pesos. | Valor numérico            | `Vulnerabilidad Económica (VE)` |\n",
    "| `PARTICIPACION_PORCENTUAL` | Cuantitativa continua | Participación porcentual de cada departamento en el PIB global de Colombia                 | Valor numérico            | `Vulnerabilidad Económica (VE)` |\n"
   ]
  },
  {
   "cell_type": "markdown",
   "id": "0a0554fe",
   "metadata": {},
   "source": [
    "## **Data Calidad del Agua para Consumo Humano**\n",
    "\n",
    "\n",
    "\n",
    "\n",
    "\n"
   ]
  },
  {
   "cell_type": "markdown",
   "id": "bf678ced",
   "metadata": {},
   "source": [
    "| **Variable**       | **Tipo de variable**     | **Descripción**                                                                                               | **Categorías/Tipo**                                                                                     | **Tipo de vulnerabilidad** |\n",
    "|--------------------|--------------------------|---------------------------------------------------------------------------------------------------------------|---------------------------------------------------------------------------------------------------|----------------------------|\n",
    "| `AÑO`              | Cuantitativa discreta    | Año del registro de calidad de agua potable (por ejemplo, 2023).                                              | `2007 - 2023`                                                                                                | `General`                    |\n",
    "| `IRCA`             | Cuantitativa continua    | Índice de Riesgo de la Calidad del Agua.                                       | Valor numérico                                                                                              |      `Vulnerabilidad de infraestructura (VI)`       |\n",
    "| `NIVEL_RIESGO`     | Categórica ordinal       | Clasificación cualitativa del riesgo según el IRCA.                                                           | `Sin riesgo`<br>`Bajo`<br>`Medio`<br>  `Alto`<br>  `Inviable sanitariamente` |     `Vulnerabilidad de infraestructura (VI)`     |"
   ]
  },
  {
   "cell_type": "markdown",
   "id": "55369acf",
   "metadata": {},
   "source": [
    "## **Data Acceso a Internet**\n",
    "\n"
   ]
  },
  {
   "cell_type": "markdown",
   "id": "bf266308",
   "metadata": {},
   "source": [
    "| **Variable**          | **Tipo de variable**       | **Descripción**                                                                                             | **Categorías/Tipo**      |     **Tipo de vulnerabilidad**          |\n",
    "|-----------------------|----------------------------|-------------------------------------------------------------------------------------------------------------|--------------------------------|-----------------------------|\n",
    "| `AÑO`                 | Cuantitativa discreta      | Año al que corresponde el registro (e.g., 2023).                                                            |       `2015 - 2023`                  |     General                |\n",
    "| `ACCESO_INTERNET`     | Cuantitativa discreta      | Número de accesos fijos a Internet por cada 100 habitantes en el año y municipio correspondiente.          |  Valor numérico   |  `Vulnerabilidad tecnológica (VT)` |\n"
   ]
  },
  {
   "cell_type": "markdown",
   "id": "38f0f09d",
   "metadata": {},
   "source": [
    "## **Data Homicidios**"
   ]
  },
  {
   "cell_type": "markdown",
   "id": "50dd8024",
   "metadata": {},
   "source": [
    "\n",
    "\n",
    "| **Variable** | **Tipo de variable**  | **Descripción**                                                                          | **Categorías/Tipo**     |       **Tipo de vulnerabilidad**   |\n",
    "|--------------|-----------------------|------------------------------------------------------------------------------------------|----------------------------|----------------------------|\n",
    "| `AÑO`        | Cuantitativa discreta | Año al que corresponde el registro (p.ej., 2023).                                        |         `2003 - 2024`         | `General `               |\n",
    "| `CANTIDAD`   | Cuantitativa discreta | Número de homicidios reportados en el año y municipio correspondientes.                  |   Valor numérico   |  `Vulnerabilidad social (VS)` |\n",
    "\n"
   ]
  },
  {
   "cell_type": "markdown",
   "id": "f3670d3b",
   "metadata": {},
   "source": [
    "## **Data Riesgo de victimización**"
   ]
  },
  {
   "cell_type": "markdown",
   "id": "d202fc7e",
   "metadata": {},
   "source": [
    "| **Variable**             | **Tipo de variable**    | **Descripción**                                                                                                                                         | **Categorías/Tipo**                                   | **Tipo de vulnerabilidad**  |\n",
    "|--------------------------|-------------------------|---------------------------------------------------------------------------------------------------------------------------------------------------------|-------------------------------------------------------|-----------------------------|\n",
    "| `PDET`         | Categórica nominal      | Indica si el municipio hace parte del programa PDET                                                                         | `SI`<br>`NO`                                    | `Vulnerabilidad geográfica (VG)`    |\n",
    "| `PDET_SITIO`         | Categórica nominal      | Indica el lugar al que corresponde el municipio PDET                                                                         | Texto                                 | `Vulnerabilidad geográfica (VG)`    |\n",
    "| `CLUSTER_RIESGO`         | Categórica ordinal      | Nivel de riesgo de victimización del municipio, calculado a partir de indicadores de criminalidad y violencia, y clasificado en cinco niveles ordenados. | `Bajo`<br>`Medio Bajo`<br>`Medio`<br>`Medio Alto`<br>`Alto` | `Vulnerabilidad social (VS)`        |\n",
    "| `VALOR_ESTIMADO_CLUSTER` | Cuantitativa continua   | Valor numérico que estima el índice de riesgo de victimización por cada 100 habitantes, asociado al cluster de riesgo correspondiente.                  | Valor numérico                                         | `Vulnerabilidad social (VS)`       |\n",
    "\n"
   ]
  },
  {
   "cell_type": "markdown",
   "id": "21aac2f8",
   "metadata": {},
   "source": [
    "## **Data Censo Nacional de Población y Vivienda 2018**"
   ]
  },
  {
   "cell_type": "markdown",
   "id": "6996d03e",
   "metadata": {},
   "source": [
    "| **Variable**              | **Tipo de variable**      | **Descripción**                                                       | **Categorías/Tipo**                                                                                                                                                     | **Tipo de vulnerabilidad**                    |\n",
    "| ------------------------- | ------------------------- | --------------------------------------------------------------------- | ----------------------------------------------------------------------------------------------------------------------------------------------------------------------- | --------------------------------------------- |\n",
    "| `COD_MANZANA`             | Cualitativa discreta (ID) | Código de la manzana para identificar y fusionar con datos de manzana | Código alfanumérico                                                                                                                                                     | `General`                                     |\n",
    "| `ALFABETA`                | Categórica nominal        | Sabe leer y escribir                                                  | `1: Sí`<br>`2: No`<br>`4: No aplica`<br>`9: No informa`                                                                                                                 | `Vulnerabilidad de Acceso a Información (VA)` |\n",
    "| `ASISTENCIA_ESCOLAR`      | Categórica nominal        | Asistencia escolar (presencial o virtual)                             | `1: Sí`<br>`2: No`<br>`4: No aplica`<br>`9: No informa`                                                                                                                 | `Vulnerabilidad Social (VS)`                  |\n",
    "| `NIVEL_EDUCATIVO`         | Categórica ordinal        | Nivel educativo más alto alcanzado y último año o grado aprobado      | Categorías sobre nivel educativo                                                                                                                                        | `Vulnerabilidad de Acceso a Información (VA)` |\n",
    "| `ULTIMOS_PROBLEMAS_SALUD` | Texto                     | Algún problema de salud en los últimos 30 días, sin hospitalización   | Texto libre                                                                                                                                                             | `Vulnerabilidad de Acceso a Salud (VH)`       |\n",
    "| `CALIDAD_SERVICIO_SALUD`  | Categórica ordinal        | Calidad de la prestación del servicio de salud                        | `1: Muy bueno`<br>`2: Bueno`<br>`3: Malo`<br>`4: Muy malo`<br>`6: No aplica`<br>`9: No informa`                                                                         | `Vulnerabilidad de Acceso a Salud (VH)`       |\n",
    "| `TIPO_VIVIENDA`           | Categórica nominal        | Tipo de vivienda                                                      | `1: Casa`<br>`2: Apartamento`<br>`3: Tipo cuarto`<br>`4: Vivienda tradicional indígena`<br>`5: Vivienda tradicional étnica (Afrocolombiana, Isleña, Rrom)`<br>`6: Otro` | `Vulnerabilidad Geográfica (VG)`              |\n",
    "| `TOTAL_HOGARES`           | Cuantitativa discreta     | Total de hogares en la vivienda                                       | Número entero                                                                                                                                                           | `General`                                     |\n",
    "| `TOTAL_PERSONAS_HOGAR`    | Cuantitativa discreta     | Total de personas en el hogar                                         | Número entero                                                                                                                                                           | `General`                                     |\n",
    "| `MATERIAL_PARED`          | Categórica nominal        | Material predominante en paredes exteriores                           | Categorías de materiales                                                                                                                                                | `Vulnerabilidad de Infraestructura (VI)`      |\n",
    "| `MATERIAL_PISO`           | Categórica nominal        | Material predominante en los pisos                                    | Categorías de materiales                                                                                                                                                | `Vulnerabilidad de Infraestructura (VI)`      |\n",
    "| `ALCANTARILLADO`          | Categórica nominal        | Cuenta con servicio de alcantarillado                                 | `1: Sí`<br>`2: No`                                                                                                                                                      | `Vulnerabilidad de Infraestructura (VI)`      |\n",
    "| `SERVICIO_INTERNET`       | Categórica nominal        | Cuenta con servicio de internet (fijo o móvil)                        | `1: Sí`<br>`2: No`<br>`9: No informa`                                                                                                                                   | `Vulnerabilidad Tecnológica (VT)`             |\n",
    "| `ENERGIA`                 | Categórica nominal        | Cuenta con servicio de energía eléctrica                              | `1: Sí`<br>`2: No`                                                                                                                                                      | `General`                                     |\n",
    "| `ACUEDUCTO`               | Categórica nominal        | Cuenta con servicio de acueducto                                      | `1: Sí`<br>`2: No`                                                                                                                                                      | `Vulnerabilidad de Infraestructura (VI)`      |\n",
    "| `GAS`                     | Categórica nominal        | Cuenta con servicio de gas natural conectado a red pública            | `1: Sí`<br>`2: No`<br>`9: No informa`                                                                                                                                   | `Vulnerabilidad de Infraestructura (VI)`      |\n",
    "| `ESTRATO`                 | Categórica ordinal        | Estrato de la vivienda (según servicio de energía)                    | `0: Sin estrato`<br>`1: Estrato 1`<br>`2: Estrato 2`<br>`3: Estrato 3`<br>`4: Estrato 4`<br>`5: Estrato 5`<br>`6: Estrato 6`<br>`9: No sabe el estrato`                 | `Vulnerabilidad Económica (VE)`               |\n",
    "| `AGUA_COCINA`             | Categórica nominal        | Fuente de agua para preparar los alimentos                            | Categorías de fuente de agua                                                                                                                                            | `Vulnerabilidad de Infraestructura (VI)`      |\n",
    "| `LUGAR_COCINA`            | Categórica nominal        | Lugar donde preparan los alimentos                                    | Categorías de ubicación                                                                                                                                                 | `Vulnerabilidad de Infraestructura (VI)`      |\n",
    "| `TERR_ETNICA`             | Categórica nominal        | Vivienda en una territorialidad étnica                                | `1: Sí`<br>`2: No`                                                                                                                                                      | `Vulnerabilidad Cultural (VC)`                |\n",
    "| `TIPO_TERR_ETNICA`        | Categórica nominal        | Tipo de territorialidad étnica                                        | `1: Resguardo indígena`<br>`2: Territorio colectivo de comunidad negra`                                                                                                 | `Vulnerabilidad Cultural (VC)`                |\n",
    "| `VIVIENDA_AREA_PROTEGIDA` | Categórica nominal        | Vivienda en un área protegida                                         | `1: Sí`<br>`2: No`<br>`4: No aplica`<br>`9: No informa`                                                                                                                 | `Vulnerabilidad Ambiental (VAM)`              |\n",
    "| `COD_VIV_AREA_PROTEGIDA`  | Cualitativa discreta (ID) | Código del área protegida                                             | Códigos de áreas protegidas                                                                                                                                             | `Vulnerabilidad Ambiental (VAM)`              |\n",
    "| `RECONOCIMIENTO_ETNICO`   | Categórica nominal        | Reconocimiento étnico                                                 | Categorías sobre grupos étnicos                                                                                                                                         | `Vulnerabilidad Cultural (VC)`                |\n",
    "| `COD_ETNIA`               | Categórica nominal        | Pueblo indígena de pertenencia                                        | Categorías sobre pueblos                                                                                                                                                | `Vulnerabilidad Cultural (VC)`                |\n",
    "| `HABLA_LENGUA_NATIVA`     | Categórica nominal        | Habla la lengua nativa de su pueblo                                   | `1: Sí`<br>`2: No`<br>`4: No aplica`<br>`9: No informa`                                                                                                                 | `Vulnerabilidad Cultural (VC)`                |\n",
    "| `ENTIENDE_LENGUA_NATIVA`  | Categórica nominal        | Entiende la lengua nativa de su pueblo                                | `1: Sí`<br>`2: No`<br>`4: No aplica`<br>`9: No informa`                                                                                                                 | `Vulnerabilidad Cultural (VC)`                |\n"
   ]
  }
 ],
 "metadata": {
  "language_info": {
   "name": "python"
  }
 },
 "nbformat": 4,
 "nbformat_minor": 5
}
