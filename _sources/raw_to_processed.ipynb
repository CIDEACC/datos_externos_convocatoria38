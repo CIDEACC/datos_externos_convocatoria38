{
 "cells": [
  {
   "cell_type": "markdown",
   "id": "dcb31702",
   "metadata": {},
   "source": [
    "# **Raw to Processed**"
   ]
  },
  {
   "cell_type": "markdown",
   "id": "0483625c",
   "metadata": {},
   "source": [
    "## **Librerías y modulos necesarios**"
   ]
  },
  {
   "cell_type": "code",
   "execution_count": 7,
   "id": "dcc586a5",
   "metadata": {},
   "outputs": [],
   "source": [
    "import warnings\n",
    "import pandas as pd\n",
    "from funciones.faltantes import *\n",
    "warnings.filterwarnings(\"ignore\")\n",
    "from funciones_datas.data_pib import *\n",
    "from funciones_datas.data_ecv import *\n",
    "from funciones_datas.data_calidad_agua import *\n",
    "from funciones_datas.data_acceso_internet import *\n",
    "from funciones_datas.data_casos_de_homicidio import *\n",
    "from funciones_datas.data_censo.data_censo_dane import *\n",
    "from funciones_datas.data_riesgo_de_victimizacion import *"
   ]
  },
  {
   "cell_type": "markdown",
   "id": "ae3a8f71",
   "metadata": {},
   "source": [
    "### **Indicaciones para el análisis y limpieza de cada conjunto de datos**\n",
    "\n",
    "Por cada conjunto de datos, se debe realizar el siguiente proceso:\n",
    "\n",
    "1. **Descripción del conjunto de datos**\n",
    "   Presentar un resumen claro y conciso que explique la naturaleza, origen y variables principales del dataset.\n",
    "\n",
    "2. **Lectura del dataset original**\n",
    "   Cargar el archivo de datos en el entorno de trabajo respetando su formato original.\n",
    "\n",
    "3. **Aplicación del método de limpieza**\n",
    "   Aplicar el método previamente creado para el proceso de limpieza de datos.\n",
    "\n",
    "4. **Análisis de datos faltantes**\n",
    "   Identificar y documentar la cantidad y porcentaje de datos ausentes en cada variable relevante.\n",
    "\n",
    "5. **Visualización o impresión del dataset limpio**\n",
    "   Mostrar el dataset final tras la limpieza para verificar su estructura y contenido.\n",
    "\n",
    "6. **Diccionario de variables**\n",
    "   Incluir una tabla o listado que explique el significado y tipo de cada variable en el dataset."
   ]
  },
  {
   "cell_type": "markdown",
   "id": "338fab18",
   "metadata": {},
   "source": [
    "## **Nivel: Departamental**"
   ]
  },
  {
   "cell_type": "markdown",
   "id": "77a9f25c",
   "metadata": {},
   "source": [
    "### **Data PIB (Producto Interno Bruto)**"
   ]
  },
  {
   "cell_type": "markdown",
   "id": "7966f29f",
   "metadata": {},
   "source": [
    "**Descripción:**\n",
    "\n",
    "El Producto Interno Bruto **(PIB)** en Colombia es una medida clave de la actividad económica de cada uno de los departamentos del país. Al analizar el PIB de un departamento, se puede obtener una visión general de su capacidad productiva y de su nivel de desarrollo económico. Un PIB bajo o en crecimiento lento puede reflejar un nivel de pobreza más alto, ya que indica una menor generación de riqueza en comparación con otros departamentos. Además, una correlación entre el PIB per cápita y las tasas de pobreza permite identificar áreas con más necesidades, donde los recursos limitados pueden no ser suficientes para satisfacer las demandas básicas de la población. De esta forma, el PIB se convierte en una herramienta útil para evaluar las disparidades económicas y focalizar esfuerzos de políticas públicas que busquen mitigar la pobreza.\n",
    "\n",
    "***Observación***:El conjunto de datos contiene el histórico del valor del PIB departamental a precios corrientes y la participación porcentual de cada departamento en el PIB nacional.\n",
    "\n",
    "**Fuentes:**  \n",
    "\n",
    "- Pagina oficial: {cite}`DANE_pib_departamental` \n",
    "\n",
    "\n",
    "\n",
    "**Diccionario de variables:**"
   ]
  },
  {
   "cell_type": "code",
   "execution_count": 8,
   "id": "d125e01c",
   "metadata": {},
   "outputs": [],
   "source": [
    "data_raw_pib = pd.read_csv(\"https://docs.google.com/spreadsheets/d/1xywhKY3jsXeYFKP8dVrPJKb5wAsmmiV9/export?format=csv\")\n",
    "data_processed_pib = data_cleaned_pib(data_raw_pib, 'CARIBE')"
   ]
  },
  {
   "cell_type": "code",
   "execution_count": 9,
   "id": "8f6fa89d",
   "metadata": {},
   "outputs": [
    {
     "name": "stdout",
     "output_type": "stream",
     "text": [
      "No hay datos faltantes.\n"
     ]
    }
   ],
   "source": [
    "analizar_columnas_faltantes(data_processed_pib)"
   ]
  },
  {
   "cell_type": "code",
   "execution_count": 10,
   "id": "a3790e7e",
   "metadata": {},
   "outputs": [
    {
     "data": {
      "application/vnd.microsoft.datawrangler.viewer.v0+json": {
       "columns": [
        {
         "name": "index",
         "rawType": "int64",
         "type": "integer"
        },
        {
         "name": "COD_DEPTO",
         "rawType": "object",
         "type": "string"
        },
        {
         "name": "DEPARTAMENTO",
         "rawType": "object",
         "type": "string"
        },
        {
         "name": "PIB",
         "rawType": "object",
         "type": "string"
        },
        {
         "name": "PARTICIPACION_PORCENTUAL",
         "rawType": "float64",
         "type": "float"
        }
       ],
       "ref": "711fb2a7-3db8-4905-aded-2f0e09470622",
       "rows": [
        [
         "4",
         "08",
         "ATLANTICO",
         "70.862",
         "4.5"
        ],
        [
         "6",
         "13",
         "BOLIVAR",
         "56.924",
         "3.6"
        ],
        [
         "12",
         "20",
         "CESAR",
         "34.821",
         "2.2"
        ],
        [
         "14",
         "23",
         "CORDOBA",
         "28.303",
         "1.8"
        ],
        [
         "19",
         "44",
         "LA GUAJIRA",
         "20.346",
         "1.3"
        ]
       ],
       "shape": {
        "columns": 4,
        "rows": 5
       }
      },
      "text/html": [
       "<div>\n",
       "<style scoped>\n",
       "    .dataframe tbody tr th:only-of-type {\n",
       "        vertical-align: middle;\n",
       "    }\n",
       "\n",
       "    .dataframe tbody tr th {\n",
       "        vertical-align: top;\n",
       "    }\n",
       "\n",
       "    .dataframe thead th {\n",
       "        text-align: right;\n",
       "    }\n",
       "</style>\n",
       "<table border=\"1\" class=\"dataframe\">\n",
       "  <thead>\n",
       "    <tr style=\"text-align: right;\">\n",
       "      <th></th>\n",
       "      <th>COD_DEPTO</th>\n",
       "      <th>DEPARTAMENTO</th>\n",
       "      <th>PIB</th>\n",
       "      <th>PARTICIPACION_PORCENTUAL</th>\n",
       "    </tr>\n",
       "  </thead>\n",
       "  <tbody>\n",
       "    <tr>\n",
       "      <th>4</th>\n",
       "      <td>08</td>\n",
       "      <td>ATLANTICO</td>\n",
       "      <td>70.862</td>\n",
       "      <td>4.5</td>\n",
       "    </tr>\n",
       "    <tr>\n",
       "      <th>6</th>\n",
       "      <td>13</td>\n",
       "      <td>BOLIVAR</td>\n",
       "      <td>56.924</td>\n",
       "      <td>3.6</td>\n",
       "    </tr>\n",
       "    <tr>\n",
       "      <th>12</th>\n",
       "      <td>20</td>\n",
       "      <td>CESAR</td>\n",
       "      <td>34.821</td>\n",
       "      <td>2.2</td>\n",
       "    </tr>\n",
       "    <tr>\n",
       "      <th>14</th>\n",
       "      <td>23</td>\n",
       "      <td>CORDOBA</td>\n",
       "      <td>28.303</td>\n",
       "      <td>1.8</td>\n",
       "    </tr>\n",
       "    <tr>\n",
       "      <th>19</th>\n",
       "      <td>44</td>\n",
       "      <td>LA GUAJIRA</td>\n",
       "      <td>20.346</td>\n",
       "      <td>1.3</td>\n",
       "    </tr>\n",
       "  </tbody>\n",
       "</table>\n",
       "</div>"
      ],
      "text/plain": [
       "   COD_DEPTO DEPARTAMENTO     PIB  PARTICIPACION_PORCENTUAL\n",
       "4         08    ATLANTICO  70.862                       4.5\n",
       "6         13      BOLIVAR  56.924                       3.6\n",
       "12        20        CESAR  34.821                       2.2\n",
       "14        23      CORDOBA  28.303                       1.8\n",
       "19        44   LA GUAJIRA  20.346                       1.3"
      ]
     },
     "execution_count": 10,
     "metadata": {},
     "output_type": "execute_result"
    }
   ],
   "source": [
    "data_processed_pib.head()"
   ]
  },
  {
   "cell_type": "markdown",
   "id": "5b4f3eb9",
   "metadata": {},
   "source": [
    "## **Nivel: Municipal**"
   ]
  },
  {
   "cell_type": "markdown",
   "id": "60d9a787",
   "metadata": {},
   "source": [
    "### **Data Acceso a Internet**"
   ]
  },
  {
   "cell_type": "markdown",
   "id": "d26e7ef3",
   "metadata": {},
   "source": [
    "**Descripción:**\n",
    "\n",
    "Número de suscriptores con acceso dedicado a Internet para cada uno de los departamentos y municipios de Colombia, según los datos reportados por los proveedores al último día de cada trimestre . Basados en estos datos y en las proyecciones del DANE para la población por municipio, departamento y en total en Colombia, se muestra el porcentaje de penetración de Internet fijo para el periodo comprendido desde 2015-4T hasta el ultimo trimestre publicado.\n",
    "\n",
    "***Observación:*** En la base de datos se tienen los registros de los ``accesos de interner fijos por cada 100 habitantes por departamentos y municipios de Colombia`` desde año a año \n",
    "\n",
    "**Fuentes:**  \n",
    "\n",
    "- Pagina oficial: {cite}`colombia_tic` \n",
    "- Datos: {cite}`internet_fijo_penetracion` \n",
    "\n",
    "**Diccionario de variables**"
   ]
  },
  {
   "cell_type": "code",
   "execution_count": 14,
   "id": "b0a96a06",
   "metadata": {},
   "outputs": [],
   "source": [
    "data_raw_internet = pd.read_csv(\"https://drive.google.com/uc?export=download&id=1itLnFvy4_OBlT57dzn__VxBtkSUA7XFr\")\n",
    "data_processed_internet = data_cleaned_acceso_internet(data_raw_internet, 'CARIBE', 2023)"
   ]
  },
  {
   "cell_type": "code",
   "execution_count": 15,
   "id": "258194ad",
   "metadata": {},
   "outputs": [
    {
     "name": "stdout",
     "output_type": "stream",
     "text": [
      "No hay datos faltantes.\n"
     ]
    }
   ],
   "source": [
    "analizar_columnas_faltantes(data_processed_internet)"
   ]
  },
  {
   "cell_type": "code",
   "execution_count": 16,
   "id": "02e2ef76",
   "metadata": {},
   "outputs": [
    {
     "data": {
      "application/vnd.microsoft.datawrangler.viewer.v0+json": {
       "columns": [
        {
         "name": "index",
         "rawType": "int64",
         "type": "integer"
        },
        {
         "name": "AÑO",
         "rawType": "int64",
         "type": "integer"
        },
        {
         "name": "COD_DEPTO",
         "rawType": "object",
         "type": "string"
        },
        {
         "name": "DEPARTAMENTO",
         "rawType": "object",
         "type": "string"
        },
        {
         "name": "COD_MUNI",
         "rawType": "object",
         "type": "string"
        },
        {
         "name": "ACCESO_INTERNET",
         "rawType": "float64",
         "type": "float"
        },
        {
         "name": "MUNICIPIO",
         "rawType": "object",
         "type": "string"
        }
       ],
       "ref": "3bfe283c-441c-4f38-9b77-4e4682ae9c96",
       "rows": [
        [
         "125",
         "2023",
         "08",
         "ATLANTICO",
         "08001",
         "307144.0",
         "BARRANQUILLA"
        ],
        [
         "126",
         "2023",
         "08",
         "ATLANTICO",
         "08078",
         "5615.0",
         "BARANOA"
        ],
        [
         "127",
         "2023",
         "08",
         "ATLANTICO",
         "08137",
         "432.0",
         "CAMPO DE LA CRUZ"
        ],
        [
         "128",
         "2023",
         "08",
         "ATLANTICO",
         "08141",
         "262.0",
         "CANDELARIA"
        ],
        [
         "129",
         "2023",
         "08",
         "ATLANTICO",
         "08296",
         "10155.0",
         "GALAPA"
        ]
       ],
       "shape": {
        "columns": 6,
        "rows": 5
       }
      },
      "text/html": [
       "<div>\n",
       "<style scoped>\n",
       "    .dataframe tbody tr th:only-of-type {\n",
       "        vertical-align: middle;\n",
       "    }\n",
       "\n",
       "    .dataframe tbody tr th {\n",
       "        vertical-align: top;\n",
       "    }\n",
       "\n",
       "    .dataframe thead th {\n",
       "        text-align: right;\n",
       "    }\n",
       "</style>\n",
       "<table border=\"1\" class=\"dataframe\">\n",
       "  <thead>\n",
       "    <tr style=\"text-align: right;\">\n",
       "      <th></th>\n",
       "      <th>AÑO</th>\n",
       "      <th>COD_DEPTO</th>\n",
       "      <th>DEPARTAMENTO</th>\n",
       "      <th>COD_MUNI</th>\n",
       "      <th>ACCESO_INTERNET</th>\n",
       "      <th>MUNICIPIO</th>\n",
       "    </tr>\n",
       "  </thead>\n",
       "  <tbody>\n",
       "    <tr>\n",
       "      <th>125</th>\n",
       "      <td>2023</td>\n",
       "      <td>08</td>\n",
       "      <td>ATLANTICO</td>\n",
       "      <td>08001</td>\n",
       "      <td>307144.0</td>\n",
       "      <td>BARRANQUILLA</td>\n",
       "    </tr>\n",
       "    <tr>\n",
       "      <th>126</th>\n",
       "      <td>2023</td>\n",
       "      <td>08</td>\n",
       "      <td>ATLANTICO</td>\n",
       "      <td>08078</td>\n",
       "      <td>5615.0</td>\n",
       "      <td>BARANOA</td>\n",
       "    </tr>\n",
       "    <tr>\n",
       "      <th>127</th>\n",
       "      <td>2023</td>\n",
       "      <td>08</td>\n",
       "      <td>ATLANTICO</td>\n",
       "      <td>08137</td>\n",
       "      <td>432.0</td>\n",
       "      <td>CAMPO DE LA CRUZ</td>\n",
       "    </tr>\n",
       "    <tr>\n",
       "      <th>128</th>\n",
       "      <td>2023</td>\n",
       "      <td>08</td>\n",
       "      <td>ATLANTICO</td>\n",
       "      <td>08141</td>\n",
       "      <td>262.0</td>\n",
       "      <td>CANDELARIA</td>\n",
       "    </tr>\n",
       "    <tr>\n",
       "      <th>129</th>\n",
       "      <td>2023</td>\n",
       "      <td>08</td>\n",
       "      <td>ATLANTICO</td>\n",
       "      <td>08296</td>\n",
       "      <td>10155.0</td>\n",
       "      <td>GALAPA</td>\n",
       "    </tr>\n",
       "  </tbody>\n",
       "</table>\n",
       "</div>"
      ],
      "text/plain": [
       "      AÑO COD_DEPTO DEPARTAMENTO COD_MUNI  ACCESO_INTERNET         MUNICIPIO\n",
       "125  2023        08    ATLANTICO    08001         307144.0      BARRANQUILLA\n",
       "126  2023        08    ATLANTICO    08078           5615.0           BARANOA\n",
       "127  2023        08    ATLANTICO    08137            432.0  CAMPO DE LA CRUZ\n",
       "128  2023        08    ATLANTICO    08141            262.0        CANDELARIA\n",
       "129  2023        08    ATLANTICO    08296          10155.0            GALAPA"
      ]
     },
     "execution_count": 16,
     "metadata": {},
     "output_type": "execute_result"
    }
   ],
   "source": [
    "data_processed_internet.head()"
   ]
  },
  {
   "cell_type": "markdown",
   "id": "17f4cb66",
   "metadata": {},
   "source": [
    "### **Data Homicidios**"
   ]
  },
  {
   "cell_type": "markdown",
   "id": "829f9a0a",
   "metadata": {},
   "source": [
    "**Descripción:**\n",
    "\n",
    "Este conjunto de datos “HOMICIDIO” (categoría Seguridad y Defensa) recoge, a nivel municipal y anual, la cantidad de muertes intencionales causadas por otra persona, incluyendo civiles, miembros de la Fuerza Pública y actores criminales, pero excluyendo las víctimas de accidentes de tránsito y cualquier muerte no atribuible a la voluntad homicida de un tercero.\n",
    "\n",
    "\n",
    "***Observación:*** En la base de datos se tienen los registros de los ``casos de homicidio que se presentaron por departamentos y municipios de Colombia`` desde 2003 a 2025 \n",
    "\n",
    "**Fuentes:**  \n",
    "\n",
    "- Datos: {cite}`homicidio` \n",
    "\n",
    "**Diccionario de variables:**"
   ]
  },
  {
   "cell_type": "code",
   "execution_count": null,
   "id": "5a3fae79",
   "metadata": {},
   "outputs": [],
   "source": [
    "data_raw_homicidios = pd.read_csv('https://drive.google.com/uc?export=download&id=1ZjHIxKmfboAtuAPWdAH14JMOe5yMujBo')\n",
    "data_processed_homicidios = data_cleaned_homicidios(data_raw_homicidios, 'CARIBE', 2023)"
   ]
  },
  {
   "cell_type": "code",
   "execution_count": null,
   "id": "93bb4068",
   "metadata": {},
   "outputs": [
    {
     "name": "stdout",
     "output_type": "stream",
     "text": [
      "No hay datos faltantes.\n"
     ]
    }
   ],
   "source": [
    "analizar_columnas_faltantes(data_processed_homicidios)"
   ]
  },
  {
   "cell_type": "code",
   "execution_count": null,
   "id": "488bbb2d",
   "metadata": {},
   "outputs": [
    {
     "data": {
      "application/vnd.microsoft.datawrangler.viewer.v0+json": {
       "columns": [
        {
         "name": "index",
         "rawType": "int64",
         "type": "integer"
        },
        {
         "name": "COD_DEPTO",
         "rawType": "object",
         "type": "string"
        },
        {
         "name": "DEPARTAMENTO",
         "rawType": "object",
         "type": "string"
        },
        {
         "name": "COD_MUNI",
         "rawType": "object",
         "type": "string"
        },
        {
         "name": "AÑO",
         "rawType": "int64",
         "type": "integer"
        },
        {
         "name": "CANTIDAD",
         "rawType": "int32",
         "type": "integer"
        },
        {
         "name": "MUNICIPIO",
         "rawType": "object",
         "type": "string"
        }
       ],
       "ref": "abd83982-1d2d-4d24-8d00-d1078b90b227",
       "rows": [
        [
         "0",
         "08",
         "ATLANTICO",
         "08001",
         "2023",
         "375",
         "BARRANQUILLA"
        ],
        [
         "1",
         "13",
         "BOLIVAR",
         "13001",
         "2023",
         "0",
         "CARTAGENA DE INDIAS"
        ],
        [
         "2",
         "13",
         "BOLIVAR",
         "13244",
         "2023",
         "33",
         "EL CARMEN DE BOLIVAR"
        ],
        [
         "3",
         "23",
         "CORDOBA",
         "23678",
         "2023",
         "9",
         "SAN CARLOS"
        ],
        [
         "4",
         "44",
         "LA GUAJIRA",
         "44078",
         "2023",
         "7",
         "BARRANCAS"
        ]
       ],
       "shape": {
        "columns": 6,
        "rows": 5
       }
      },
      "text/html": [
       "<div>\n",
       "<style scoped>\n",
       "    .dataframe tbody tr th:only-of-type {\n",
       "        vertical-align: middle;\n",
       "    }\n",
       "\n",
       "    .dataframe tbody tr th {\n",
       "        vertical-align: top;\n",
       "    }\n",
       "\n",
       "    .dataframe thead th {\n",
       "        text-align: right;\n",
       "    }\n",
       "</style>\n",
       "<table border=\"1\" class=\"dataframe\">\n",
       "  <thead>\n",
       "    <tr style=\"text-align: right;\">\n",
       "      <th></th>\n",
       "      <th>COD_DEPTO</th>\n",
       "      <th>DEPARTAMENTO</th>\n",
       "      <th>COD_MUNI</th>\n",
       "      <th>AÑO</th>\n",
       "      <th>CANTIDAD</th>\n",
       "      <th>MUNICIPIO</th>\n",
       "    </tr>\n",
       "  </thead>\n",
       "  <tbody>\n",
       "    <tr>\n",
       "      <th>0</th>\n",
       "      <td>08</td>\n",
       "      <td>ATLANTICO</td>\n",
       "      <td>08001</td>\n",
       "      <td>2023</td>\n",
       "      <td>375</td>\n",
       "      <td>BARRANQUILLA</td>\n",
       "    </tr>\n",
       "    <tr>\n",
       "      <th>1</th>\n",
       "      <td>13</td>\n",
       "      <td>BOLIVAR</td>\n",
       "      <td>13001</td>\n",
       "      <td>2023</td>\n",
       "      <td>0</td>\n",
       "      <td>CARTAGENA DE INDIAS</td>\n",
       "    </tr>\n",
       "    <tr>\n",
       "      <th>2</th>\n",
       "      <td>13</td>\n",
       "      <td>BOLIVAR</td>\n",
       "      <td>13244</td>\n",
       "      <td>2023</td>\n",
       "      <td>33</td>\n",
       "      <td>EL CARMEN DE BOLIVAR</td>\n",
       "    </tr>\n",
       "    <tr>\n",
       "      <th>3</th>\n",
       "      <td>23</td>\n",
       "      <td>CORDOBA</td>\n",
       "      <td>23678</td>\n",
       "      <td>2023</td>\n",
       "      <td>9</td>\n",
       "      <td>SAN CARLOS</td>\n",
       "    </tr>\n",
       "    <tr>\n",
       "      <th>4</th>\n",
       "      <td>44</td>\n",
       "      <td>LA GUAJIRA</td>\n",
       "      <td>44078</td>\n",
       "      <td>2023</td>\n",
       "      <td>7</td>\n",
       "      <td>BARRANCAS</td>\n",
       "    </tr>\n",
       "  </tbody>\n",
       "</table>\n",
       "</div>"
      ],
      "text/plain": [
       "  COD_DEPTO DEPARTAMENTO COD_MUNI   AÑO  CANTIDAD             MUNICIPIO\n",
       "0        08    ATLANTICO    08001  2023       375          BARRANQUILLA\n",
       "1        13      BOLIVAR    13001  2023         0   CARTAGENA DE INDIAS\n",
       "2        13      BOLIVAR    13244  2023        33  EL CARMEN DE BOLIVAR\n",
       "3        23      CORDOBA    23678  2023         9            SAN CARLOS\n",
       "4        44   LA GUAJIRA    44078  2023         7             BARRANCAS"
      ]
     },
     "metadata": {},
     "output_type": "display_data"
    }
   ],
   "source": [
    "data_processed_homicidios.head()"
   ]
  },
  {
   "cell_type": "markdown",
   "id": "ab257c12",
   "metadata": {},
   "source": [
    "### **Data Calidad del Agua para Consumo Humano en Colombia**"
   ]
  },
  {
   "cell_type": "markdown",
   "id": "cd1bd1ad",
   "metadata": {},
   "source": [
    "**Descripción:**\n",
    "\n",
    "El Sistema de Información de la Vigilancia de la Calidad del Agua de Potable **(SIVICAP)** fue creado para monitorear la calidad del agua potable en Colombia desde la perspectiva de la vigilancia en salud pública. Este sistema genera el Índice de Riesgo de la Calidad de Agua Potable **(IRCA)**, que cuantifica en porcentaje el nivel de riesgo de ocurrencia de enfermedades asociadas al incumplimiento de características físicas, químicas y microbiológicas del agua destinada al consumo humano.\n",
    "\n",
    "\n",
    "***Observación:*** El conjunto de datos contiene históricos del valor promedio anual del IRCA, desagregados por departamento, municipio, área urbana y área rural, cubriendo el periodo desde 2007 en adelante. En este caso, el nivel escogido es municipal. \n",
    "\n",
    "**Fuentes:**  \n",
    "\n",
    "- Pagina oficial: {cite}`SIVICAP2025` \n",
    "- Datos: {cite}`ICA_Agua2025` \n",
    "\n",
    "\n",
    "**Diccionario de variables:**"
   ]
  },
  {
   "cell_type": "code",
   "execution_count": null,
   "id": "f340516a",
   "metadata": {},
   "outputs": [
    {
     "name": "stdout",
     "output_type": "stream",
     "text": [
      "En la región Caribe hay 197 municipios.\n",
      "Tu DataFrame incluye datos de 181 de los 197 municipios de la región Caribe; Faltan 16 municipios.\n"
     ]
    }
   ],
   "source": [
    "data_raw_calidad_agua = pd.read_csv(\"https://drive.google.com/uc?export=download&id=1rPVSPwtca-q248RwKBYuEqO8BE1pzvMn\")\n",
    "data_processed_calidad_agua = data_cleaned_calidad_del_agua(data_raw_calidad_agua, 'CARIBE', 2023)"
   ]
  },
  {
   "cell_type": "code",
   "execution_count": null,
   "id": "19e119d6",
   "metadata": {},
   "outputs": [
    {
     "name": "stdout",
     "output_type": "stream",
     "text": [
      "No hay datos faltantes.\n"
     ]
    }
   ],
   "source": [
    "analizar_columnas_faltantes(data_processed_calidad_agua)"
   ]
  },
  {
   "cell_type": "code",
   "execution_count": null,
   "id": "48edc13a",
   "metadata": {},
   "outputs": [
    {
     "data": {
      "application/vnd.microsoft.datawrangler.viewer.v0+json": {
       "columns": [
        {
         "name": "index",
         "rawType": "int64",
         "type": "integer"
        },
        {
         "name": "COD_DEPTO",
         "rawType": "object",
         "type": "string"
        },
        {
         "name": "DEPARTAMENTO",
         "rawType": "object",
         "type": "string"
        },
        {
         "name": "COD_MUNI",
         "rawType": "object",
         "type": "string"
        },
        {
         "name": "IRCA",
         "rawType": "float64",
         "type": "float"
        },
        {
         "name": "NIVEL_RIESGO",
         "rawType": "object",
         "type": "string"
        },
        {
         "name": "MUNICIPIO",
         "rawType": "object",
         "type": "string"
        }
       ],
       "ref": "2b6652b8-2dce-48a7-8e8a-122fd52ee82b",
       "rows": [
        [
         "6",
         "70",
         "SUCRE",
         "70235",
         "4.6",
         "Sin riesgo",
         "GALERAS"
        ],
        [
         "2129",
         "08",
         "ATLANTICO",
         "08001",
         "0.0",
         "Sin riesgo",
         "BARRANQUILLA"
        ],
        [
         "2146",
         "08",
         "ATLANTICO",
         "08078",
         "10.5",
         "Riesgo bajo",
         "BARANOA"
        ],
        [
         "2163",
         "08",
         "ATLANTICO",
         "08137",
         "0.0",
         "Sin riesgo",
         "CAMPO DE LA CRUZ"
        ],
        [
         "2180",
         "08",
         "ATLANTICO",
         "08141",
         "0.0",
         "Sin riesgo",
         "CANDELARIA"
        ]
       ],
       "shape": {
        "columns": 6,
        "rows": 5
       }
      },
      "text/html": [
       "<div>\n",
       "<style scoped>\n",
       "    .dataframe tbody tr th:only-of-type {\n",
       "        vertical-align: middle;\n",
       "    }\n",
       "\n",
       "    .dataframe tbody tr th {\n",
       "        vertical-align: top;\n",
       "    }\n",
       "\n",
       "    .dataframe thead th {\n",
       "        text-align: right;\n",
       "    }\n",
       "</style>\n",
       "<table border=\"1\" class=\"dataframe\">\n",
       "  <thead>\n",
       "    <tr style=\"text-align: right;\">\n",
       "      <th></th>\n",
       "      <th>COD_DEPTO</th>\n",
       "      <th>DEPARTAMENTO</th>\n",
       "      <th>COD_MUNI</th>\n",
       "      <th>IRCA</th>\n",
       "      <th>NIVEL_RIESGO</th>\n",
       "      <th>MUNICIPIO</th>\n",
       "    </tr>\n",
       "  </thead>\n",
       "  <tbody>\n",
       "    <tr>\n",
       "      <th>6</th>\n",
       "      <td>70</td>\n",
       "      <td>SUCRE</td>\n",
       "      <td>70235</td>\n",
       "      <td>4.6</td>\n",
       "      <td>Sin riesgo</td>\n",
       "      <td>GALERAS</td>\n",
       "    </tr>\n",
       "    <tr>\n",
       "      <th>2129</th>\n",
       "      <td>08</td>\n",
       "      <td>ATLANTICO</td>\n",
       "      <td>08001</td>\n",
       "      <td>0.0</td>\n",
       "      <td>Sin riesgo</td>\n",
       "      <td>BARRANQUILLA</td>\n",
       "    </tr>\n",
       "    <tr>\n",
       "      <th>2146</th>\n",
       "      <td>08</td>\n",
       "      <td>ATLANTICO</td>\n",
       "      <td>08078</td>\n",
       "      <td>10.5</td>\n",
       "      <td>Riesgo bajo</td>\n",
       "      <td>BARANOA</td>\n",
       "    </tr>\n",
       "    <tr>\n",
       "      <th>2163</th>\n",
       "      <td>08</td>\n",
       "      <td>ATLANTICO</td>\n",
       "      <td>08137</td>\n",
       "      <td>0.0</td>\n",
       "      <td>Sin riesgo</td>\n",
       "      <td>CAMPO DE LA CRUZ</td>\n",
       "    </tr>\n",
       "    <tr>\n",
       "      <th>2180</th>\n",
       "      <td>08</td>\n",
       "      <td>ATLANTICO</td>\n",
       "      <td>08141</td>\n",
       "      <td>0.0</td>\n",
       "      <td>Sin riesgo</td>\n",
       "      <td>CANDELARIA</td>\n",
       "    </tr>\n",
       "  </tbody>\n",
       "</table>\n",
       "</div>"
      ],
      "text/plain": [
       "     COD_DEPTO DEPARTAMENTO COD_MUNI  IRCA NIVEL_RIESGO         MUNICIPIO\n",
       "6           70        SUCRE    70235   4.6   Sin riesgo           GALERAS\n",
       "2129        08    ATLANTICO    08001   0.0   Sin riesgo      BARRANQUILLA\n",
       "2146        08    ATLANTICO    08078  10.5  Riesgo bajo           BARANOA\n",
       "2163        08    ATLANTICO    08137   0.0   Sin riesgo  CAMPO DE LA CRUZ\n",
       "2180        08    ATLANTICO    08141   0.0   Sin riesgo        CANDELARIA"
      ]
     },
     "metadata": {},
     "output_type": "display_data"
    }
   ],
   "source": [
    "data_processed_calidad_agua.head()"
   ]
  },
  {
   "cell_type": "markdown",
   "id": "663f773a",
   "metadata": {},
   "source": [
    "### **Data Riesgo de victimización**"
   ]
  },
  {
   "cell_type": "markdown",
   "id": "a3d06748",
   "metadata": {},
   "source": [
    "**Descripción:**  \n",
    "El Índice de Riesgo de Victimización es una medida compuesta que integra múltiples indicadores socioeconómicos y de seguridad para cuantificar la probabilidad de ocurrencia de nuevos episodios de violencia en cada municipio de Colombia. Este índice facilita la identificación temprana de zonas con mayores niveles de vulnerabilidad, apoyando la focalización de recursos y acciones preventivas en el marco del Plan Nacional de Atención y Reparación Integral a las Víctimas.\n",
    "\n",
    "***Observación:***  \n",
    "Para cada municipio se reporta:\n",
    "- El valor estimado del índice de riesgo de victimización.  \n",
    "- El clúster al que pertenece según niveles de riesgo (bajo, medio, alto).  \n",
    "- Si el municipio pertenece a los Programas de Desarrollo con Enfoque Territorial (PDET) o no.  \n",
    "\n",
    "**Fuentes:**  \n",
    "- Página oficial y datos: {cite}`unidadvictimas:riesgo2025` \n",
    "\n",
    "**Diccionario de variables**"
   ]
  },
  {
   "cell_type": "code",
   "execution_count": 20,
   "id": "a234171a",
   "metadata": {},
   "outputs": [],
   "source": [
    "data_raw_riesgo_de_victimizacion = pd.read_csv('https://docs.google.com/spreadsheets/d/1qEo0NCDoLLb9RayhLiIibxlQ6xiD9xI1/export?format=csv')\n",
    "data_processed_riesgo_de_victimizacion = data_cleaned_riesgo_de_victimizacion(data_raw_riesgo_de_victimizacion, 'CARIBE')"
   ]
  },
  {
   "cell_type": "code",
   "execution_count": 21,
   "id": "96c5ec0b",
   "metadata": {},
   "outputs": [
    {
     "name": "stdout",
     "output_type": "stream",
     "text": [
      "No hay datos faltantes.\n"
     ]
    }
   ],
   "source": [
    "analizar_columnas_faltantes(data_processed_riesgo_de_victimizacion)"
   ]
  },
  {
   "cell_type": "code",
   "execution_count": 22,
   "id": "8dfdc050",
   "metadata": {},
   "outputs": [
    {
     "data": {
      "application/vnd.microsoft.datawrangler.viewer.v0+json": {
       "columns": [
        {
         "name": "index",
         "rawType": "int64",
         "type": "integer"
        },
        {
         "name": "COD_DEPTO",
         "rawType": "object",
         "type": "string"
        },
        {
         "name": "COD_MUNI",
         "rawType": "object",
         "type": "string"
        },
        {
         "name": "DEPARTAMENTO",
         "rawType": "object",
         "type": "string"
        },
        {
         "name": "VALOR_ESTIMADO_CLUSTER",
         "rawType": "float64",
         "type": "float"
        },
        {
         "name": "CLUSTER_RIESGO",
         "rawType": "object",
         "type": "string"
        },
        {
         "name": "PDET",
         "rawType": "object",
         "type": "string"
        },
        {
         "name": "PDET_SITIO",
         "rawType": "object",
         "type": "string"
        },
        {
         "name": "MUNICIPIO",
         "rawType": "object",
         "type": "string"
        }
       ],
       "ref": "b96432c4-fdba-4fc6-906d-293f09c626c1",
       "rows": [
        [
         "125",
         "08",
         "08001",
         "ATLANTICO",
         "0.11820945",
         "Bajo",
         "NO",
         "NO APLICA",
         "BARRANQUILLA"
        ],
        [
         "126",
         "08",
         "08078",
         "ATLANTICO",
         "0.08709065",
         "Bajo",
         "NO",
         "NO APLICA",
         "BARANOA"
        ],
        [
         "127",
         "08",
         "08137",
         "ATLANTICO",
         "0.08335476",
         "Bajo",
         "NO",
         "NO APLICA",
         "CAMPO DE LA CRUZ"
        ],
        [
         "128",
         "08",
         "08141",
         "ATLANTICO",
         "0.10927986",
         "Bajo",
         "NO",
         "NO APLICA",
         "CANDELARIA"
        ],
        [
         "129",
         "08",
         "08296",
         "ATLANTICO",
         "0.11687407",
         "Bajo",
         "NO",
         "NO APLICA",
         "GALAPA"
        ]
       ],
       "shape": {
        "columns": 8,
        "rows": 5
       }
      },
      "text/html": [
       "<div>\n",
       "<style scoped>\n",
       "    .dataframe tbody tr th:only-of-type {\n",
       "        vertical-align: middle;\n",
       "    }\n",
       "\n",
       "    .dataframe tbody tr th {\n",
       "        vertical-align: top;\n",
       "    }\n",
       "\n",
       "    .dataframe thead th {\n",
       "        text-align: right;\n",
       "    }\n",
       "</style>\n",
       "<table border=\"1\" class=\"dataframe\">\n",
       "  <thead>\n",
       "    <tr style=\"text-align: right;\">\n",
       "      <th></th>\n",
       "      <th>COD_DEPTO</th>\n",
       "      <th>COD_MUNI</th>\n",
       "      <th>DEPARTAMENTO</th>\n",
       "      <th>VALOR_ESTIMADO_CLUSTER</th>\n",
       "      <th>CLUSTER_RIESGO</th>\n",
       "      <th>PDET</th>\n",
       "      <th>PDET_SITIO</th>\n",
       "      <th>MUNICIPIO</th>\n",
       "    </tr>\n",
       "  </thead>\n",
       "  <tbody>\n",
       "    <tr>\n",
       "      <th>125</th>\n",
       "      <td>08</td>\n",
       "      <td>08001</td>\n",
       "      <td>ATLANTICO</td>\n",
       "      <td>0.118209</td>\n",
       "      <td>Bajo</td>\n",
       "      <td>NO</td>\n",
       "      <td>NO APLICA</td>\n",
       "      <td>BARRANQUILLA</td>\n",
       "    </tr>\n",
       "    <tr>\n",
       "      <th>126</th>\n",
       "      <td>08</td>\n",
       "      <td>08078</td>\n",
       "      <td>ATLANTICO</td>\n",
       "      <td>0.087091</td>\n",
       "      <td>Bajo</td>\n",
       "      <td>NO</td>\n",
       "      <td>NO APLICA</td>\n",
       "      <td>BARANOA</td>\n",
       "    </tr>\n",
       "    <tr>\n",
       "      <th>127</th>\n",
       "      <td>08</td>\n",
       "      <td>08137</td>\n",
       "      <td>ATLANTICO</td>\n",
       "      <td>0.083355</td>\n",
       "      <td>Bajo</td>\n",
       "      <td>NO</td>\n",
       "      <td>NO APLICA</td>\n",
       "      <td>CAMPO DE LA CRUZ</td>\n",
       "    </tr>\n",
       "    <tr>\n",
       "      <th>128</th>\n",
       "      <td>08</td>\n",
       "      <td>08141</td>\n",
       "      <td>ATLANTICO</td>\n",
       "      <td>0.109280</td>\n",
       "      <td>Bajo</td>\n",
       "      <td>NO</td>\n",
       "      <td>NO APLICA</td>\n",
       "      <td>CANDELARIA</td>\n",
       "    </tr>\n",
       "    <tr>\n",
       "      <th>129</th>\n",
       "      <td>08</td>\n",
       "      <td>08296</td>\n",
       "      <td>ATLANTICO</td>\n",
       "      <td>0.116874</td>\n",
       "      <td>Bajo</td>\n",
       "      <td>NO</td>\n",
       "      <td>NO APLICA</td>\n",
       "      <td>GALAPA</td>\n",
       "    </tr>\n",
       "  </tbody>\n",
       "</table>\n",
       "</div>"
      ],
      "text/plain": [
       "    COD_DEPTO COD_MUNI DEPARTAMENTO  VALOR_ESTIMADO_CLUSTER CLUSTER_RIESGO  \\\n",
       "125        08    08001    ATLANTICO                0.118209           Bajo   \n",
       "126        08    08078    ATLANTICO                0.087091           Bajo   \n",
       "127        08    08137    ATLANTICO                0.083355           Bajo   \n",
       "128        08    08141    ATLANTICO                0.109280           Bajo   \n",
       "129        08    08296    ATLANTICO                0.116874           Bajo   \n",
       "\n",
       "    PDET PDET_SITIO         MUNICIPIO  \n",
       "125   NO  NO APLICA      BARRANQUILLA  \n",
       "126   NO  NO APLICA           BARANOA  \n",
       "127   NO  NO APLICA  CAMPO DE LA CRUZ  \n",
       "128   NO  NO APLICA        CANDELARIA  \n",
       "129   NO  NO APLICA            GALAPA  "
      ]
     },
     "execution_count": 22,
     "metadata": {},
     "output_type": "execute_result"
    }
   ],
   "source": [
    "data_processed_riesgo_de_victimizacion.head()"
   ]
  },
  {
   "cell_type": "markdown",
   "id": "e5ec8c94",
   "metadata": {},
   "source": [
    "### **Data Encuesta Nacional de Calidad de vida**"
   ]
  },
  {
   "cell_type": "code",
   "execution_count": 23,
   "id": "c56c17f6",
   "metadata": {},
   "outputs": [],
   "source": [
    "df_servicios_2023 = pd.read_csv(\"https://drive.google.com/uc?export=download&id=1E7ErWrsPAR48RlI8BPctjpIhvbkpYkH2\", sep=';')\n",
    "df_salud_2023 = pd.read_csv(\"https://drive.google.com/uc?export=download&id=1DkzguaTEm0NauAIdB3mXGomU5AF3r-pP\", sep=';')\n",
    "df_internet_2023 = pd.read_csv(\"https://drive.google.com/uc?export=download&id=1ZeKQD4eWcXlf4-O41K51qRd4NWnF1BJ2\", sep=';')\n",
    "df_vivienda_2023 = pd.read_csv(\"https://drive.google.com/uc?export=download&id=1P8zk8hkaRDld9LVunssQ40bn5KbfxcHi\", sep=';')\n",
    "df_hogar_2023 = pd.read_csv(\"https://drive.google.com/uc?export=download&id=1B7YBNLnYc4mzwHHGGvzzlG63-4QY6kvc\", sep=';')"
   ]
  },
  {
   "cell_type": "code",
   "execution_count": 24,
   "id": "22a8f048",
   "metadata": {},
   "outputs": [
    {
     "name": "stdout",
     "output_type": "stream",
     "text": [
      "En la región Caribe hay 197 municipios.\n",
      "Tu DataFrame incluye datos de 147 de los 197 municipios de la región Caribe; Faltan 50 municipios.\n"
     ]
    }
   ],
   "source": [
    "data_processed_ecv = data_cleaned_ecv(df_vivienda_2023, df_hogar_2023, df_servicios_2023, df_salud_2023, df_internet_2023)"
   ]
  },
  {
   "cell_type": "code",
   "execution_count": 25,
   "id": "f198051b",
   "metadata": {},
   "outputs": [
    {
     "data": {
      "image/png": "[encoded data removed]",
      "text/plain": [
       "<Figure size 1200x600 with 1 Axes>"
      ]
     },
     "metadata": {},
     "output_type": "display_data"
    }
   ],
   "source": [
    "analizar_columnas_faltantes(data_processed_ecv)"
   ]
  },
  {
   "cell_type": "code",
   "execution_count": 26,
   "id": "7abaf2ce",
   "metadata": {},
   "outputs": [
    {
     "data": {
      "application/vnd.microsoft.datawrangler.viewer.v0+json": {
       "columns": [
        {
         "name": "index",
         "rawType": "int64",
         "type": "integer"
        },
        {
         "name": "COD_DEPTO",
         "rawType": "object",
         "type": "string"
        },
        {
         "name": "COD_MUNI",
         "rawType": "object",
         "type": "string"
        },
        {
         "name": "DEPARTAMENTO",
         "rawType": "object",
         "type": "string"
        },
        {
         "name": "MUNICIPIO",
         "rawType": "object",
         "type": "string"
        },
        {
         "name": "RUIDOS",
         "rawType": "int64",
         "type": "integer"
        },
        {
         "name": "MALOS_OLORES",
         "rawType": "int64",
         "type": "integer"
        },
        {
         "name": "PRESENCIA_BASURAS",
         "rawType": "int64",
         "type": "integer"
        },
        {
         "name": "CONTAMINACION_AIRE",
         "rawType": "int64",
         "type": "integer"
        },
        {
         "name": "CONTAMINACION_AGUA",
         "rawType": "int64",
         "type": "integer"
        },
        {
         "name": "INVASION_ESPACIO_PUBLICO",
         "rawType": "int64",
         "type": "integer"
        },
        {
         "name": "MOLESTIAS_ANIMALES",
         "rawType": "int64",
         "type": "integer"
        },
        {
         "name": "PRESENCIA_INSECTOS",
         "rawType": "int64",
         "type": "integer"
        },
        {
         "name": "INUNDACIONES_DESBORDAMIENTO_CRECIENTES_ARROYOS",
         "rawType": "int64",
         "type": "integer"
        },
        {
         "name": "AVALANCHAS_DERRUMBES_DESLIZAMIENTOS",
         "rawType": "int64",
         "type": "integer"
        },
        {
         "name": "HUNDIMIENTO_DE_TERRENO",
         "rawType": "int64",
         "type": "integer"
        },
        {
         "name": "VENTARRONES_TORMENTAS_VENDAVALES",
         "rawType": "int64",
         "type": "integer"
        },
        {
         "name": "SISMO_TEMBLOR",
         "rawType": "int64",
         "type": "integer"
        },
        {
         "name": "INGRESO_MENSUAL_TOTAL",
         "rawType": "float64",
         "type": "float"
        },
        {
         "name": "PAGO_SEG_SOCIAL",
         "rawType": "float64",
         "type": "float"
        },
        {
         "name": "UBICACION_ENTIDAD_SALUD",
         "rawType": "float64",
         "type": "float"
        },
        {
         "name": "RESPONSABLE_PAGO_AFILIACION",
         "rawType": "float64",
         "type": "float"
        },
        {
         "name": "SEG_SOCIAL",
         "rawType": "float64",
         "type": "float"
        },
        {
         "name": "MEDICINA_PREPAGADA",
         "rawType": "int64",
         "type": "integer"
        },
        {
         "name": "PLAN_COMPLEMENTARIO_EPS",
         "rawType": "int64",
         "type": "integer"
        },
        {
         "name": "POLIZA_HOSPITALIZACION_CIRUGIA",
         "rawType": "int64",
         "type": "integer"
        },
        {
         "name": "FRECUENCIA_INTERNET",
         "rawType": "int64",
         "type": "integer"
        },
        {
         "name": "PERCEPCION_CALIDAD_DE_VIDA",
         "rawType": "float64",
         "type": "float"
        }
       ],
       "ref": "66231112-a1e4-4bc0-afc3-cb88215ce7dd",
       "rows": [
        [
         "3",
         "47",
         "47245",
         "MAGDALENA",
         "EL BANCO",
         "1",
         "1",
         "1",
         "2",
         "1",
         "1",
         "1",
         "4",
         "2",
         "2",
         "1",
         "2",
         "2",
         "720000.0",
         null,
         "1.0",
         null,
         "3.0",
         "2",
         "2",
         "2",
         "1",
         "8.0"
        ],
        [
         "63",
         "13",
         "13001",
         "BOLIVAR",
         "CARTAGENA DE INDIAS",
         "1",
         "1",
         "1",
         "1",
         "1",
         "1",
         "1",
         "2",
         "2",
         "2",
         "2",
         "2",
         "2",
         "1400000.0",
         null,
         "1.0",
         null,
         "3.0",
         "2",
         "2",
         "2",
         "5",
         "8.0"
        ],
        [
         "64",
         "13",
         "13001",
         "BOLIVAR",
         "CARTAGENA DE INDIAS",
         "1",
         "2",
         "2",
         "3",
         "1",
         "1",
         "1",
         "3",
         "2",
         "2",
         "2",
         "2",
         "2",
         "900000.0",
         null,
         "1.0",
         null,
         "3.0",
         "2",
         "2",
         "2",
         "1",
         "6.0"
        ],
        [
         "140",
         "13",
         "13001",
         "BOLIVAR",
         "CARTAGENA DE INDIAS",
         "3",
         "2",
         "1",
         "1",
         "1",
         "1",
         "1",
         "1",
         "2",
         "2",
         "2",
         "2",
         "2",
         "4131433.3333",
         "145000.0",
         "1.0",
         "1.0",
         "2.0",
         "2",
         "2",
         "2",
         "1",
         "8.0"
        ],
        [
         "143",
         "13",
         "13001",
         "BOLIVAR",
         "CARTAGENA DE INDIAS",
         "2",
         "2",
         "2",
         "2",
         "1",
         "1",
         "2",
         "2",
         "2",
         "2",
         "2",
         "1",
         "2",
         "1004166.6667",
         null,
         "1.0",
         null,
         "3.0",
         "2",
         "2",
         "2",
         "5",
         "5.0"
        ]
       ],
       "shape": {
        "columns": 27,
        "rows": 5
       }
      },
      "text/html": [
       "<div>\n",
       "<style scoped>\n",
       "    .dataframe tbody tr th:only-of-type {\n",
       "        vertical-align: middle;\n",
       "    }\n",
       "\n",
       "    .dataframe tbody tr th {\n",
       "        vertical-align: top;\n",
       "    }\n",
       "\n",
       "    .dataframe thead th {\n",
       "        text-align: right;\n",
       "    }\n",
       "</style>\n",
       "<table border=\"1\" class=\"dataframe\">\n",
       "  <thead>\n",
       "    <tr style=\"text-align: right;\">\n",
       "      <th></th>\n",
       "      <th>COD_DEPTO</th>\n",
       "      <th>COD_MUNI</th>\n",
       "      <th>DEPARTAMENTO</th>\n",
       "      <th>MUNICIPIO</th>\n",
       "      <th>RUIDOS</th>\n",
       "      <th>MALOS_OLORES</th>\n",
       "      <th>PRESENCIA_BASURAS</th>\n",
       "      <th>CONTAMINACION_AIRE</th>\n",
       "      <th>CONTAMINACION_AGUA</th>\n",
       "      <th>INVASION_ESPACIO_PUBLICO</th>\n",
       "      <th>...</th>\n",
       "      <th>INGRESO_MENSUAL_TOTAL</th>\n",
       "      <th>PAGO_SEG_SOCIAL</th>\n",
       "      <th>UBICACION_ENTIDAD_SALUD</th>\n",
       "      <th>RESPONSABLE_PAGO_AFILIACION</th>\n",
       "      <th>SEG_SOCIAL</th>\n",
       "      <th>MEDICINA_PREPAGADA</th>\n",
       "      <th>PLAN_COMPLEMENTARIO_EPS</th>\n",
       "      <th>POLIZA_HOSPITALIZACION_CIRUGIA</th>\n",
       "      <th>FRECUENCIA_INTERNET</th>\n",
       "      <th>PERCEPCION_CALIDAD_DE_VIDA</th>\n",
       "    </tr>\n",
       "  </thead>\n",
       "  <tbody>\n",
       "    <tr>\n",
       "      <th>3</th>\n",
       "      <td>47</td>\n",
       "      <td>47245</td>\n",
       "      <td>MAGDALENA</td>\n",
       "      <td>EL BANCO</td>\n",
       "      <td>1</td>\n",
       "      <td>1</td>\n",
       "      <td>1</td>\n",
       "      <td>2</td>\n",
       "      <td>1</td>\n",
       "      <td>1</td>\n",
       "      <td>...</td>\n",
       "      <td>7.200000e+05</td>\n",
       "      <td>NaN</td>\n",
       "      <td>1.0</td>\n",
       "      <td>NaN</td>\n",
       "      <td>3.0</td>\n",
       "      <td>2</td>\n",
       "      <td>2</td>\n",
       "      <td>2</td>\n",
       "      <td>1</td>\n",
       "      <td>8.0</td>\n",
       "    </tr>\n",
       "    <tr>\n",
       "      <th>63</th>\n",
       "      <td>13</td>\n",
       "      <td>13001</td>\n",
       "      <td>BOLIVAR</td>\n",
       "      <td>CARTAGENA DE INDIAS</td>\n",
       "      <td>1</td>\n",
       "      <td>1</td>\n",
       "      <td>1</td>\n",
       "      <td>1</td>\n",
       "      <td>1</td>\n",
       "      <td>1</td>\n",
       "      <td>...</td>\n",
       "      <td>1.400000e+06</td>\n",
       "      <td>NaN</td>\n",
       "      <td>1.0</td>\n",
       "      <td>NaN</td>\n",
       "      <td>3.0</td>\n",
       "      <td>2</td>\n",
       "      <td>2</td>\n",
       "      <td>2</td>\n",
       "      <td>5</td>\n",
       "      <td>8.0</td>\n",
       "    </tr>\n",
       "    <tr>\n",
       "      <th>64</th>\n",
       "      <td>13</td>\n",
       "      <td>13001</td>\n",
       "      <td>BOLIVAR</td>\n",
       "      <td>CARTAGENA DE INDIAS</td>\n",
       "      <td>1</td>\n",
       "      <td>2</td>\n",
       "      <td>2</td>\n",
       "      <td>3</td>\n",
       "      <td>1</td>\n",
       "      <td>1</td>\n",
       "      <td>...</td>\n",
       "      <td>9.000000e+05</td>\n",
       "      <td>NaN</td>\n",
       "      <td>1.0</td>\n",
       "      <td>NaN</td>\n",
       "      <td>3.0</td>\n",
       "      <td>2</td>\n",
       "      <td>2</td>\n",
       "      <td>2</td>\n",
       "      <td>1</td>\n",
       "      <td>6.0</td>\n",
       "    </tr>\n",
       "    <tr>\n",
       "      <th>140</th>\n",
       "      <td>13</td>\n",
       "      <td>13001</td>\n",
       "      <td>BOLIVAR</td>\n",
       "      <td>CARTAGENA DE INDIAS</td>\n",
       "      <td>3</td>\n",
       "      <td>2</td>\n",
       "      <td>1</td>\n",
       "      <td>1</td>\n",
       "      <td>1</td>\n",
       "      <td>1</td>\n",
       "      <td>...</td>\n",
       "      <td>4.131433e+06</td>\n",
       "      <td>145000.0</td>\n",
       "      <td>1.0</td>\n",
       "      <td>1.0</td>\n",
       "      <td>2.0</td>\n",
       "      <td>2</td>\n",
       "      <td>2</td>\n",
       "      <td>2</td>\n",
       "      <td>1</td>\n",
       "      <td>8.0</td>\n",
       "    </tr>\n",
       "    <tr>\n",
       "      <th>143</th>\n",
       "      <td>13</td>\n",
       "      <td>13001</td>\n",
       "      <td>BOLIVAR</td>\n",
       "      <td>CARTAGENA DE INDIAS</td>\n",
       "      <td>2</td>\n",
       "      <td>2</td>\n",
       "      <td>2</td>\n",
       "      <td>2</td>\n",
       "      <td>1</td>\n",
       "      <td>1</td>\n",
       "      <td>...</td>\n",
       "      <td>1.004167e+06</td>\n",
       "      <td>NaN</td>\n",
       "      <td>1.0</td>\n",
       "      <td>NaN</td>\n",
       "      <td>3.0</td>\n",
       "      <td>2</td>\n",
       "      <td>2</td>\n",
       "      <td>2</td>\n",
       "      <td>5</td>\n",
       "      <td>5.0</td>\n",
       "    </tr>\n",
       "  </tbody>\n",
       "</table>\n",
       "<p>5 rows × 27 columns</p>\n",
       "</div>"
      ],
      "text/plain": [
       "    COD_DEPTO COD_MUNI DEPARTAMENTO            MUNICIPIO  RUIDOS  \\\n",
       "3          47    47245    MAGDALENA             EL BANCO       1   \n",
       "63         13    13001      BOLIVAR  CARTAGENA DE INDIAS       1   \n",
       "64         13    13001      BOLIVAR  CARTAGENA DE INDIAS       1   \n",
       "140        13    13001      BOLIVAR  CARTAGENA DE INDIAS       3   \n",
       "143        13    13001      BOLIVAR  CARTAGENA DE INDIAS       2   \n",
       "\n",
       "     MALOS_OLORES  PRESENCIA_BASURAS  CONTAMINACION_AIRE  CONTAMINACION_AGUA  \\\n",
       "3               1                  1                   2                   1   \n",
       "63              1                  1                   1                   1   \n",
       "64              2                  2                   3                   1   \n",
       "140             2                  1                   1                   1   \n",
       "143             2                  2                   2                   1   \n",
       "\n",
       "     INVASION_ESPACIO_PUBLICO  ...  INGRESO_MENSUAL_TOTAL  PAGO_SEG_SOCIAL  \\\n",
       "3                           1  ...           7.200000e+05              NaN   \n",
       "63                          1  ...           1.400000e+06              NaN   \n",
       "64                          1  ...           9.000000e+05              NaN   \n",
       "140                         1  ...           4.131433e+06         145000.0   \n",
       "143                         1  ...           1.004167e+06              NaN   \n",
       "\n",
       "     UBICACION_ENTIDAD_SALUD  RESPONSABLE_PAGO_AFILIACION  SEG_SOCIAL  \\\n",
       "3                        1.0                          NaN         3.0   \n",
       "63                       1.0                          NaN         3.0   \n",
       "64                       1.0                          NaN         3.0   \n",
       "140                      1.0                          1.0         2.0   \n",
       "143                      1.0                          NaN         3.0   \n",
       "\n",
       "     MEDICINA_PREPAGADA  PLAN_COMPLEMENTARIO_EPS  \\\n",
       "3                     2                        2   \n",
       "63                    2                        2   \n",
       "64                    2                        2   \n",
       "140                   2                        2   \n",
       "143                   2                        2   \n",
       "\n",
       "     POLIZA_HOSPITALIZACION_CIRUGIA  FRECUENCIA_INTERNET  \\\n",
       "3                                 2                    1   \n",
       "63                                2                    5   \n",
       "64                                2                    1   \n",
       "140                               2                    1   \n",
       "143                               2                    5   \n",
       "\n",
       "     PERCEPCION_CALIDAD_DE_VIDA  \n",
       "3                           8.0  \n",
       "63                          8.0  \n",
       "64                          6.0  \n",
       "140                         8.0  \n",
       "143                         5.0  \n",
       "\n",
       "[5 rows x 27 columns]"
      ]
     },
     "execution_count": 26,
     "metadata": {},
     "output_type": "execute_result"
    }
   ],
   "source": [
    "data_processed_ecv.head()"
   ]
  },
  {
   "cell_type": "markdown",
   "id": "551ed17e",
   "metadata": {},
   "source": [
    "## **Nivel: Manzana**"
   ]
  },
  {
   "cell_type": "markdown",
   "id": "57d4f977",
   "metadata": {},
   "source": [
    "### **Data Censo Nacional de Población y Vivienda 2018**"
   ]
  },
  {
   "cell_type": "markdown",
   "id": "0a1f681b",
   "metadata": {},
   "source": [
    "**Descripción:** El Censo Nacional de Población y Vivienda (CNPV) 2018 es la operación estadística decenal más amplia de Colombia. Cada diez años, un equipo recorre puerta a puerta todas las viviendas del territorio continental e insular para registrar datos básicos de hogares y personas a nivel de manzana. Sus resultados nutren el sistema nacional de información estadística y orientan la planificación de políticas públicas en salud, educación, infraestructura y desarrollo regional.\n",
    "\n",
    "***Observación:*** Las preguntas del censo se clasifican en cuatro grandes grupos de variables, cada uno disponible como un archivo independiente dentro de la carpeta de cada departamento:\n",
    "\n",
    "* **Viviendas:** detalles sobre las características físicas de la construcción, como materiales, servicios básicos, antigüedad y uso del suelo.\n",
    "* **Personas:** información sociodemográfica de los residentes, incluyendo edad, sexo, nivel educativo y ocupación.\n",
    "* **Hogares:** datos sobre la composición familiar, número de integrantes, relaciones entre ellos, ingresos y condiciones socioeconómicas.\n",
    "* **Georreferenciación:** coordenadas precisas y datos de ubicación de cada vivienda para análisis espacial y mapeo.\n",
    "\n",
    "***Nota*:**\n",
    "Debido al gran volumen de archivos, la data no está alojada en la nube y se trabaja desde un repositorio local. En este caso, sólo se han organizado los conjuntos de datos correspondientes a los departamentos de la Región Caribe. En este caso, el conjunto de datos corresponde solo a observaciones tomadas en 2018.\n",
    "\n",
    "**Fuentes:**  \n",
    "\n",
    "- Pagina oficial: {cite}`dane_cnpv_2018` \n",
    "- Datos: {cite}`dane_cnpv_page` \n",
    "\n",
    "\n",
    "**Diccionario de variables:**"
   ]
  },
  {
   "cell_type": "code",
   "execution_count": 27,
   "id": "a7e18449",
   "metadata": {},
   "outputs": [],
   "source": [
    "data_processed_censo = data_cleaned_censo(r\"C:\\Users\\CCOSTA397\\OneDrive\\Desktop\\CIDEACC\\convocatoria38\\raw_data\\data_dane\")"
   ]
  },
  {
   "cell_type": "code",
   "execution_count": 28,
   "id": "82fc0865",
   "metadata": {},
   "outputs": [
    {
     "data": {
      "image/png": "[encoded data removed]",
      "text/plain": [
       "<Figure size 1200x600 with 1 Axes>"
      ]
     },
     "metadata": {},
     "output_type": "display_data"
    }
   ],
   "source": [
    "analizar_columnas_faltantes(data_processed_censo)"
   ]
  },
  {
   "cell_type": "code",
   "execution_count": 29,
   "id": "7dd98555",
   "metadata": {},
   "outputs": [
    {
     "data": {
      "application/vnd.microsoft.datawrangler.viewer.v0+json": {
       "columns": [
        {
         "name": "index",
         "rawType": "int64",
         "type": "integer"
        },
        {
         "name": "COD_DEPTO",
         "rawType": "object",
         "type": "string"
        },
        {
         "name": "DEPARTAMENTO",
         "rawType": "object",
         "type": "string"
        },
        {
         "name": "COD_MUNI",
         "rawType": "object",
         "type": "string"
        },
        {
         "name": "MUNICIPIO",
         "rawType": "object",
         "type": "string"
        },
        {
         "name": "COD_MANZANA",
         "rawType": "object",
         "type": "string"
        },
        {
         "name": "ALFABETA",
         "rawType": "category",
         "type": "unknown"
        },
        {
         "name": "ASISTENCIA_ESCOLAR",
         "rawType": "category",
         "type": "unknown"
        },
        {
         "name": "NIVEL_EDUCATIVO",
         "rawType": "category",
         "type": "unknown"
        },
        {
         "name": "ULTIMOS_PROBLEMAS_SALUD",
         "rawType": "category",
         "type": "unknown"
        },
        {
         "name": "CALIDAD_SERVICIO_SALUD",
         "rawType": "category",
         "type": "unknown"
        },
        {
         "name": "TIPO_VIVIENDA",
         "rawType": "category",
         "type": "unknown"
        },
        {
         "name": "TOTAL_HOGARES",
         "rawType": "float64",
         "type": "float"
        },
        {
         "name": "TOTAL_PERSONAS_HOGAR",
         "rawType": "float64",
         "type": "float"
        },
        {
         "name": "MATERIAL_PARED",
         "rawType": "category",
         "type": "unknown"
        },
        {
         "name": "MATERIAL_PISO",
         "rawType": "category",
         "type": "unknown"
        },
        {
         "name": "ALCANTARILLADO",
         "rawType": "category",
         "type": "unknown"
        },
        {
         "name": "SERVICIO_INTERNET",
         "rawType": "category",
         "type": "unknown"
        },
        {
         "name": "ENERGIA",
         "rawType": "category",
         "type": "unknown"
        },
        {
         "name": "ACUEDUCTO",
         "rawType": "category",
         "type": "unknown"
        },
        {
         "name": "GAS",
         "rawType": "category",
         "type": "unknown"
        },
        {
         "name": "ESTRATO",
         "rawType": "category",
         "type": "unknown"
        },
        {
         "name": "AGUA_COCINA",
         "rawType": "category",
         "type": "unknown"
        },
        {
         "name": "LUGAR_COCINA",
         "rawType": "category",
         "type": "unknown"
        },
        {
         "name": "TERR_ETNICA",
         "rawType": "category",
         "type": "unknown"
        },
        {
         "name": "TIPO_TERR_ETNICA",
         "rawType": "category",
         "type": "unknown"
        },
        {
         "name": "VIVIENDA_AREA_PROTEGIDA",
         "rawType": "category",
         "type": "unknown"
        },
        {
         "name": "COD_VIV_AREA_PROTEGIDA",
         "rawType": "category",
         "type": "unknown"
        },
        {
         "name": "RECONOCIMIENTO_ETNICO",
         "rawType": "category",
         "type": "unknown"
        },
        {
         "name": "COD_ETNIA",
         "rawType": "category",
         "type": "unknown"
        },
        {
         "name": "HABLA_LENGUA_NATIVA",
         "rawType": "category",
         "type": "unknown"
        },
        {
         "name": "ENTIENDE_LENGUA_NATIVA",
         "rawType": "category",
         "type": "unknown"
        }
       ],
       "ref": "0e762c21-ac1e-4bdb-8ba7-004f005bd504",
       "rows": [
        [
         "0",
         "08",
         "ATLANTICO",
         "08001",
         "BARRANQUILLA",
         "0800110000000011070301",
         "1.0",
         "2.0",
         "8.0",
         "2.0",
         null,
         "1.0",
         "1.0",
         "3.0",
         "1.0",
         "4.0",
         "1.0",
         "1.0",
         "1.0",
         "1.0",
         "1.0",
         "4.0",
         "1.0",
         "1.0",
         null,
         null,
         "2",
         null,
         "6",
         null,
         null,
         null
        ],
        [
         "1",
         "08",
         "ATLANTICO",
         "08001",
         "BARRANQUILLA",
         "0800110000000011070302",
         "1.0",
         "2.0",
         "8.0",
         "2.0",
         null,
         "1.0",
         "1.0",
         "7.0",
         "1.0",
         "4.0",
         "1.0",
         "1.0",
         "1.0",
         "1.0",
         "1.0",
         "4.0",
         "1.0",
         "1.0",
         null,
         null,
         "2",
         null,
         "6",
         null,
         null,
         null
        ],
        [
         "2",
         "08",
         "ATLANTICO",
         "08001",
         "BARRANQUILLA",
         "0800110000000011070301",
         "1.0",
         "2.0",
         "2.0",
         "2.0",
         null,
         "1.0",
         "1.0",
         "4.0",
         "1.0",
         "2.0",
         "1.0",
         "1.0",
         "1.0",
         "1.0",
         "1.0",
         "4.0",
         "1.0",
         "1.0",
         null,
         null,
         "2",
         null,
         "6",
         null,
         null,
         null
        ],
        [
         "3",
         "08",
         "ATLANTICO",
         "08001",
         "BARRANQUILLA",
         "0800110000000011070301",
         "1.0",
         "1.0",
         "7.0",
         "2.0",
         null,
         "1.0",
         "1.0",
         "4.0",
         "1.0",
         "2.0",
         "1.0",
         "1.0",
         "1.0",
         "1.0",
         "1.0",
         "4.0",
         "1.0",
         "1.0",
         null,
         null,
         "2",
         null,
         "6",
         null,
         null,
         null
        ],
        [
         "4",
         "08",
         "ATLANTICO",
         "08001",
         "BARRANQUILLA",
         "0800110000000004020101",
         "1.0",
         "2.0",
         "2.0",
         "1.0",
         "2.0",
         "2.0",
         "1.0",
         "4.0",
         "2.0",
         "2.0",
         "1.0",
         "1.0",
         "1.0",
         "1.0",
         "1.0",
         "5.0",
         "1.0",
         "1.0",
         null,
         null,
         "2",
         null,
         "6",
         null,
         null,
         null
        ]
       ],
       "shape": {
        "columns": 31,
        "rows": 5
       }
      },
      "text/html": [
       "<div>\n",
       "<style scoped>\n",
       "    .dataframe tbody tr th:only-of-type {\n",
       "        vertical-align: middle;\n",
       "    }\n",
       "\n",
       "    .dataframe tbody tr th {\n",
       "        vertical-align: top;\n",
       "    }\n",
       "\n",
       "    .dataframe thead th {\n",
       "        text-align: right;\n",
       "    }\n",
       "</style>\n",
       "<table border=\"1\" class=\"dataframe\">\n",
       "  <thead>\n",
       "    <tr style=\"text-align: right;\">\n",
       "      <th></th>\n",
       "      <th>COD_DEPTO</th>\n",
       "      <th>DEPARTAMENTO</th>\n",
       "      <th>COD_MUNI</th>\n",
       "      <th>MUNICIPIO</th>\n",
       "      <th>COD_MANZANA</th>\n",
       "      <th>ALFABETA</th>\n",
       "      <th>ASISTENCIA_ESCOLAR</th>\n",
       "      <th>NIVEL_EDUCATIVO</th>\n",
       "      <th>ULTIMOS_PROBLEMAS_SALUD</th>\n",
       "      <th>CALIDAD_SERVICIO_SALUD</th>\n",
       "      <th>...</th>\n",
       "      <th>AGUA_COCINA</th>\n",
       "      <th>LUGAR_COCINA</th>\n",
       "      <th>TERR_ETNICA</th>\n",
       "      <th>TIPO_TERR_ETNICA</th>\n",
       "      <th>VIVIENDA_AREA_PROTEGIDA</th>\n",
       "      <th>COD_VIV_AREA_PROTEGIDA</th>\n",
       "      <th>RECONOCIMIENTO_ETNICO</th>\n",
       "      <th>COD_ETNIA</th>\n",
       "      <th>HABLA_LENGUA_NATIVA</th>\n",
       "      <th>ENTIENDE_LENGUA_NATIVA</th>\n",
       "    </tr>\n",
       "  </thead>\n",
       "  <tbody>\n",
       "    <tr>\n",
       "      <th>0</th>\n",
       "      <td>08</td>\n",
       "      <td>ATLANTICO</td>\n",
       "      <td>08001</td>\n",
       "      <td>BARRANQUILLA</td>\n",
       "      <td>0800110000000011070301</td>\n",
       "      <td>1.0</td>\n",
       "      <td>2.0</td>\n",
       "      <td>8.0</td>\n",
       "      <td>2.0</td>\n",
       "      <td>NaN</td>\n",
       "      <td>...</td>\n",
       "      <td>1.0</td>\n",
       "      <td>1.0</td>\n",
       "      <td>NaN</td>\n",
       "      <td>NaN</td>\n",
       "      <td>2</td>\n",
       "      <td>NaN</td>\n",
       "      <td>6</td>\n",
       "      <td>NaN</td>\n",
       "      <td>NaN</td>\n",
       "      <td>NaN</td>\n",
       "    </tr>\n",
       "    <tr>\n",
       "      <th>1</th>\n",
       "      <td>08</td>\n",
       "      <td>ATLANTICO</td>\n",
       "      <td>08001</td>\n",
       "      <td>BARRANQUILLA</td>\n",
       "      <td>0800110000000011070302</td>\n",
       "      <td>1.0</td>\n",
       "      <td>2.0</td>\n",
       "      <td>8.0</td>\n",
       "      <td>2.0</td>\n",
       "      <td>NaN</td>\n",
       "      <td>...</td>\n",
       "      <td>1.0</td>\n",
       "      <td>1.0</td>\n",
       "      <td>NaN</td>\n",
       "      <td>NaN</td>\n",
       "      <td>2</td>\n",
       "      <td>NaN</td>\n",
       "      <td>6</td>\n",
       "      <td>NaN</td>\n",
       "      <td>NaN</td>\n",
       "      <td>NaN</td>\n",
       "    </tr>\n",
       "    <tr>\n",
       "      <th>2</th>\n",
       "      <td>08</td>\n",
       "      <td>ATLANTICO</td>\n",
       "      <td>08001</td>\n",
       "      <td>BARRANQUILLA</td>\n",
       "      <td>0800110000000011070301</td>\n",
       "      <td>1.0</td>\n",
       "      <td>2.0</td>\n",
       "      <td>2.0</td>\n",
       "      <td>2.0</td>\n",
       "      <td>NaN</td>\n",
       "      <td>...</td>\n",
       "      <td>1.0</td>\n",
       "      <td>1.0</td>\n",
       "      <td>NaN</td>\n",
       "      <td>NaN</td>\n",
       "      <td>2</td>\n",
       "      <td>NaN</td>\n",
       "      <td>6</td>\n",
       "      <td>NaN</td>\n",
       "      <td>NaN</td>\n",
       "      <td>NaN</td>\n",
       "    </tr>\n",
       "    <tr>\n",
       "      <th>3</th>\n",
       "      <td>08</td>\n",
       "      <td>ATLANTICO</td>\n",
       "      <td>08001</td>\n",
       "      <td>BARRANQUILLA</td>\n",
       "      <td>0800110000000011070301</td>\n",
       "      <td>1.0</td>\n",
       "      <td>1.0</td>\n",
       "      <td>7.0</td>\n",
       "      <td>2.0</td>\n",
       "      <td>NaN</td>\n",
       "      <td>...</td>\n",
       "      <td>1.0</td>\n",
       "      <td>1.0</td>\n",
       "      <td>NaN</td>\n",
       "      <td>NaN</td>\n",
       "      <td>2</td>\n",
       "      <td>NaN</td>\n",
       "      <td>6</td>\n",
       "      <td>NaN</td>\n",
       "      <td>NaN</td>\n",
       "      <td>NaN</td>\n",
       "    </tr>\n",
       "    <tr>\n",
       "      <th>4</th>\n",
       "      <td>08</td>\n",
       "      <td>ATLANTICO</td>\n",
       "      <td>08001</td>\n",
       "      <td>BARRANQUILLA</td>\n",
       "      <td>0800110000000004020101</td>\n",
       "      <td>1.0</td>\n",
       "      <td>2.0</td>\n",
       "      <td>2.0</td>\n",
       "      <td>1.0</td>\n",
       "      <td>2.0</td>\n",
       "      <td>...</td>\n",
       "      <td>1.0</td>\n",
       "      <td>1.0</td>\n",
       "      <td>NaN</td>\n",
       "      <td>NaN</td>\n",
       "      <td>2</td>\n",
       "      <td>NaN</td>\n",
       "      <td>6</td>\n",
       "      <td>NaN</td>\n",
       "      <td>NaN</td>\n",
       "      <td>NaN</td>\n",
       "    </tr>\n",
       "  </tbody>\n",
       "</table>\n",
       "<p>5 rows × 31 columns</p>\n",
       "</div>"
      ],
      "text/plain": [
       "  COD_DEPTO DEPARTAMENTO COD_MUNI     MUNICIPIO             COD_MANZANA  \\\n",
       "0        08    ATLANTICO    08001  BARRANQUILLA  0800110000000011070301   \n",
       "1        08    ATLANTICO    08001  BARRANQUILLA  0800110000000011070302   \n",
       "2        08    ATLANTICO    08001  BARRANQUILLA  0800110000000011070301   \n",
       "3        08    ATLANTICO    08001  BARRANQUILLA  0800110000000011070301   \n",
       "4        08    ATLANTICO    08001  BARRANQUILLA  0800110000000004020101   \n",
       "\n",
       "  ALFABETA ASISTENCIA_ESCOLAR NIVEL_EDUCATIVO ULTIMOS_PROBLEMAS_SALUD  \\\n",
       "0      1.0                2.0             8.0                     2.0   \n",
       "1      1.0                2.0             8.0                     2.0   \n",
       "2      1.0                2.0             2.0                     2.0   \n",
       "3      1.0                1.0             7.0                     2.0   \n",
       "4      1.0                2.0             2.0                     1.0   \n",
       "\n",
       "  CALIDAD_SERVICIO_SALUD  ... AGUA_COCINA  LUGAR_COCINA  TERR_ETNICA  \\\n",
       "0                    NaN  ...         1.0           1.0          NaN   \n",
       "1                    NaN  ...         1.0           1.0          NaN   \n",
       "2                    NaN  ...         1.0           1.0          NaN   \n",
       "3                    NaN  ...         1.0           1.0          NaN   \n",
       "4                    2.0  ...         1.0           1.0          NaN   \n",
       "\n",
       "  TIPO_TERR_ETNICA VIVIENDA_AREA_PROTEGIDA COD_VIV_AREA_PROTEGIDA  \\\n",
       "0              NaN                       2                    NaN   \n",
       "1              NaN                       2                    NaN   \n",
       "2              NaN                       2                    NaN   \n",
       "3              NaN                       2                    NaN   \n",
       "4              NaN                       2                    NaN   \n",
       "\n",
       "  RECONOCIMIENTO_ETNICO COD_ETNIA HABLA_LENGUA_NATIVA ENTIENDE_LENGUA_NATIVA  \n",
       "0                     6       NaN                 NaN                    NaN  \n",
       "1                     6       NaN                 NaN                    NaN  \n",
       "2                     6       NaN                 NaN                    NaN  \n",
       "3                     6       NaN                 NaN                    NaN  \n",
       "4                     6       NaN                 NaN                    NaN  \n",
       "\n",
       "[5 rows x 31 columns]"
      ]
     },
     "execution_count": 29,
     "metadata": {},
     "output_type": "execute_result"
    }
   ],
   "source": [
    "data_processed_censo.head()"
   ]
  },
  {
   "cell_type": "markdown",
   "id": "04afc370",
   "metadata": {},
   "source": [
    "\n",
    "\n",
    "# **Referencias**\n",
    "\n",
    "```{bibliography} references.bib\n",
    ":style: plain\n"
   ]
  }
 ],
 "metadata": {
  "kernelspec": {
   "display_name": "convocatoria_38",
   "language": "python",
   "name": "python3"
  },
  "language_info": {
   "codemirror_mode": {
    "name": "ipython",
    "version": 3
   },
   "file_extension": ".py",
   "mimetype": "text/x-python",
   "name": "python",
   "nbconvert_exporter": "python",
   "pygments_lexer": "ipython3",
   "version": "3.9.21"
  }
 },
 "nbformat": 4,
 "nbformat_minor": 5
}
