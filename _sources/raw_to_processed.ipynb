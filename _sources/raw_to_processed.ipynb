{
 "cells": [
  {
   "cell_type": "markdown",
   "id": "dcb31702",
   "metadata": {},
   "source": [
    "# **Raw to Processed**"
   ]
  },
  {
   "cell_type": "markdown",
   "id": "0483625c",
   "metadata": {},
   "source": [
    "## **Librerías y modulos necesarios**"
   ]
  },
  {
   "cell_type": "code",
   "execution_count": 1,
   "id": "dcc586a5",
   "metadata": {},
   "outputs": [],
   "source": [
    "import pandas as pd\n",
    "from funciones.faltantes import *\n",
    "from funciones_datas.data_calidad_agua import *\n",
    "from funciones_datas.data_acceso_internet import *\n",
    "from funciones_datas.data_casos_de_homicidio import *"
   ]
  },
  {
   "cell_type": "markdown",
   "id": "ae3a8f71",
   "metadata": {},
   "source": [
    "### **Indicaciones para el análisis y limpieza de cada conjunto de datos**\n",
    "\n",
    "Por cada conjunto de datos, se debe realizar el siguiente proceso:\n",
    "\n",
    "1. **Descripción del conjunto de datos**\n",
    "   Presentar un resumen claro y conciso que explique la naturaleza, origen y variables principales del dataset.\n",
    "\n",
    "2. **Lectura del dataset original**\n",
    "   Cargar el archivo de datos en el entorno de trabajo respetando su formato original.\n",
    "\n",
    "3. **Aplicación del método de limpieza**\n",
    "   Aplicar el método previamente creado para el proceso de limpieza de datos.\n",
    "\n",
    "4. **Análisis de datos faltantes**\n",
    "   Identificar y documentar la cantidad y porcentaje de datos ausentes en cada variable relevante.\n",
    "\n",
    "5. **Visualización o impresión del dataset limpio**\n",
    "   Mostrar el dataset final tras la limpieza para verificar su estructura y contenido.\n",
    "\n",
    "6. **Diccionario de variables**\n",
    "   Incluir una tabla o listado que explique el significado y tipo de cada variable en el dataset."
   ]
  },
  {
   "cell_type": "markdown",
   "id": "338fab18",
   "metadata": {},
   "source": [
    "## **Nivel: Departamental**"
   ]
  },
  {
   "cell_type": "markdown",
   "id": "5b4f3eb9",
   "metadata": {},
   "source": [
    "## **Nivel: Municipal**"
   ]
  },
  {
   "cell_type": "markdown",
   "id": "ab257c12",
   "metadata": {},
   "source": [
    "### **Data: Calidad del Agua para Consumo Humano en Colombia**"
   ]
  },
  {
   "cell_type": "markdown",
   "id": "f98024b9",
   "metadata": {},
   "source": [
    "**Descripción:**\n",
    "\n",
    "El Sistema de Información de la Vigilancia de la Calidad del Agua de Potable **(SIVICAP)** fue creado para monitorear la calidad del agua potable en Colombia desde la perspectiva de la vigilancia en salud pública. Este sistema genera el Índice de Riesgo de la Calidad de Agua Potable **(IRCA)**, que cuantifica en porcentaje el nivel de riesgo de ocurrencia de enfermedades asociadas al incumplimiento de características físicas, químicas y microbiológicas del agua destinada al consumo humano.\n",
    "\n",
    "\n",
    "***Observación:*** El conjunto de datos contiene históricos del valor promedio anual del IRCA, desagregados por departamento, municipio, área urbana y área rural, cubriendo el periodo desde 2007 en adelante. En este caso, el nivel escogido es municipal. \n",
    "\n",
    "**Fuentes:**  \n",
    "\n",
    "- Pagina oficial: {cite}`SIVICAP2025` \n",
    "- Datos: {cite}`ICA_Agua2025` \n"
   ]
  },
  {
   "cell_type": "code",
   "execution_count": 2,
   "id": "c7205bcd",
   "metadata": {},
   "outputs": [],
   "source": [
    "data_raw_calidad_agua = pd.read_csv(\"https://drive.google.com/uc?export=download&id=1rPVSPwtca-q248RwKBYuEqO8BE1pzvMn\")\n",
    "data_processed_calidad_agua = data_cleaned_calidad_del_agua(data_raw_calidad_agua, 'CARIBE', 2023)"
   ]
  },
  {
   "cell_type": "code",
   "execution_count": 3,
   "id": "bcd61751",
   "metadata": {},
   "outputs": [
    {
     "name": "stdout",
     "output_type": "stream",
     "text": [
      "No hay datos faltantes.\n"
     ]
    }
   ],
   "source": [
    "analizar_columnas_faltantes(data_processed_calidad_agua)"
   ]
  },
  {
   "cell_type": "code",
   "execution_count": 4,
   "id": "35b30384",
   "metadata": {},
   "outputs": [
    {
     "data": {
      "application/vnd.microsoft.datawrangler.viewer.v0+json": {
       "columns": [
        {
         "name": "index",
         "rawType": "int64",
         "type": "integer"
        },
        {
         "name": "COD_DEPTO",
         "rawType": "object",
         "type": "string"
        },
        {
         "name": "DEPARTAMENTO",
         "rawType": "object",
         "type": "string"
        },
        {
         "name": "COD_MUNI",
         "rawType": "object",
         "type": "string"
        },
        {
         "name": "IRCA",
         "rawType": "float64",
         "type": "float"
        },
        {
         "name": "NIVEL_RIESGO",
         "rawType": "object",
         "type": "string"
        },
        {
         "name": "NIVEL_RIESGO_COD",
         "rawType": "int64",
         "type": "integer"
        },
        {
         "name": "MUNICIPIO",
         "rawType": "object",
         "type": "string"
        }
       ],
       "ref": "c3faad2a-8254-49a6-b41a-c37bcbea4c27",
       "rows": [
        [
         "6",
         "70",
         "SUCRE",
         "70235",
         "4.6",
         "Sin riesgo",
         "0",
         "GALERAS"
        ],
        [
         "2129",
         "08",
         "ATLANTICO",
         "08001",
         "0.0",
         "Sin riesgo",
         "0",
         "BARRANQUILLA"
        ],
        [
         "2146",
         "08",
         "ATLANTICO",
         "08078",
         "10.5",
         "Riesgo bajo",
         "1",
         "BARANOA"
        ],
        [
         "2163",
         "08",
         "ATLANTICO",
         "08137",
         "0.0",
         "Sin riesgo",
         "0",
         "CAMPO DE LA CRUZ"
        ],
        [
         "2180",
         "08",
         "ATLANTICO",
         "08141",
         "0.0",
         "Sin riesgo",
         "0",
         "CANDELARIA"
        ]
       ],
       "shape": {
        "columns": 7,
        "rows": 5
       }
      },
      "text/html": [
       "<div>\n",
       "<style scoped>\n",
       "    .dataframe tbody tr th:only-of-type {\n",
       "        vertical-align: middle;\n",
       "    }\n",
       "\n",
       "    .dataframe tbody tr th {\n",
       "        vertical-align: top;\n",
       "    }\n",
       "\n",
       "    .dataframe thead th {\n",
       "        text-align: right;\n",
       "    }\n",
       "</style>\n",
       "<table border=\"1\" class=\"dataframe\">\n",
       "  <thead>\n",
       "    <tr style=\"text-align: right;\">\n",
       "      <th></th>\n",
       "      <th>COD_DEPTO</th>\n",
       "      <th>DEPARTAMENTO</th>\n",
       "      <th>COD_MUNI</th>\n",
       "      <th>IRCA</th>\n",
       "      <th>NIVEL_RIESGO</th>\n",
       "      <th>NIVEL_RIESGO_COD</th>\n",
       "      <th>MUNICIPIO</th>\n",
       "    </tr>\n",
       "  </thead>\n",
       "  <tbody>\n",
       "    <tr>\n",
       "      <th>6</th>\n",
       "      <td>70</td>\n",
       "      <td>SUCRE</td>\n",
       "      <td>70235</td>\n",
       "      <td>4.6</td>\n",
       "      <td>Sin riesgo</td>\n",
       "      <td>0</td>\n",
       "      <td>GALERAS</td>\n",
       "    </tr>\n",
       "    <tr>\n",
       "      <th>2129</th>\n",
       "      <td>08</td>\n",
       "      <td>ATLANTICO</td>\n",
       "      <td>08001</td>\n",
       "      <td>0.0</td>\n",
       "      <td>Sin riesgo</td>\n",
       "      <td>0</td>\n",
       "      <td>BARRANQUILLA</td>\n",
       "    </tr>\n",
       "    <tr>\n",
       "      <th>2146</th>\n",
       "      <td>08</td>\n",
       "      <td>ATLANTICO</td>\n",
       "      <td>08078</td>\n",
       "      <td>10.5</td>\n",
       "      <td>Riesgo bajo</td>\n",
       "      <td>1</td>\n",
       "      <td>BARANOA</td>\n",
       "    </tr>\n",
       "    <tr>\n",
       "      <th>2163</th>\n",
       "      <td>08</td>\n",
       "      <td>ATLANTICO</td>\n",
       "      <td>08137</td>\n",
       "      <td>0.0</td>\n",
       "      <td>Sin riesgo</td>\n",
       "      <td>0</td>\n",
       "      <td>CAMPO DE LA CRUZ</td>\n",
       "    </tr>\n",
       "    <tr>\n",
       "      <th>2180</th>\n",
       "      <td>08</td>\n",
       "      <td>ATLANTICO</td>\n",
       "      <td>08141</td>\n",
       "      <td>0.0</td>\n",
       "      <td>Sin riesgo</td>\n",
       "      <td>0</td>\n",
       "      <td>CANDELARIA</td>\n",
       "    </tr>\n",
       "  </tbody>\n",
       "</table>\n",
       "</div>"
      ],
      "text/plain": [
       "     COD_DEPTO DEPARTAMENTO COD_MUNI  IRCA NIVEL_RIESGO  NIVEL_RIESGO_COD  \\\n",
       "6           70        SUCRE    70235   4.6   Sin riesgo                 0   \n",
       "2129        08    ATLANTICO    08001   0.0   Sin riesgo                 0   \n",
       "2146        08    ATLANTICO    08078  10.5  Riesgo bajo                 1   \n",
       "2163        08    ATLANTICO    08137   0.0   Sin riesgo                 0   \n",
       "2180        08    ATLANTICO    08141   0.0   Sin riesgo                 0   \n",
       "\n",
       "             MUNICIPIO  \n",
       "6              GALERAS  \n",
       "2129      BARRANQUILLA  \n",
       "2146           BARANOA  \n",
       "2163  CAMPO DE LA CRUZ  \n",
       "2180        CANDELARIA  "
      ]
     },
     "execution_count": 4,
     "metadata": {},
     "output_type": "execute_result"
    }
   ],
   "source": [
    "data_processed_calidad_agua.head()"
   ]
  },
  {
   "cell_type": "markdown",
   "id": "f9362a98",
   "metadata": {},
   "source": [
    "Diccionario de variables : poner enlace"
   ]
  },
  {
   "cell_type": "markdown",
   "id": "60d9a787",
   "metadata": {},
   "source": [
    "### **Data Acceso a Internet**"
   ]
  },
  {
   "cell_type": "markdown",
   "id": "d26e7ef3",
   "metadata": {},
   "source": [
    "**Descripción:**\n",
    "\n",
    "Número de suscriptores con acceso dedicado a Internet para cada uno de los departamentos y municipios de Colombia, según los datos reportados por los proveedores al último día de cada trimestre . Basados en estos datos y en las proyecciones del DANE para la población por municipio, departamento y en total en Colombia, se muestra el porcentaje de penetración de Internet fijo para el periodo comprendido desde 2015-4T hasta el ultimo trimestre publicado.\n",
    "\n",
    "***Observación:*** En la base de datos se tienen los registros de los ``accesos de interner fijos por cada 100 habitantes por departamentos y municipios de Colombia`` desde año a año \n",
    "\n",
    "**Fuentes:**  \n",
    "\n",
    "- Pagina oficial: {cite}`colombia_tic` \n",
    "- Datos: {cite}`internet_fijo_penetracion` \n"
   ]
  },
  {
   "cell_type": "code",
   "execution_count": 2,
   "id": "b0a96a06",
   "metadata": {},
   "outputs": [],
   "source": [
    "data_raw_internet = pd.read_csv(\"https://drive.google.com/uc?export=download&id=1itLnFvy4_OBlT57dzn__VxBtkSUA7XFr\")"
   ]
  },
  {
   "cell_type": "code",
   "execution_count": 3,
   "id": "e0ce31a5",
   "metadata": {},
   "outputs": [],
   "source": [
    "data_processed_internet = data_cleaned_acceso_internet(data_raw_internet, 'CARIBE', 2023)"
   ]
  },
  {
   "cell_type": "code",
   "execution_count": 4,
   "id": "258194ad",
   "metadata": {},
   "outputs": [
    {
     "name": "stdout",
     "output_type": "stream",
     "text": [
      "No hay datos faltantes.\n"
     ]
    }
   ],
   "source": [
    "analizar_columnas_faltantes(data_processed_internet)"
   ]
  },
  {
   "cell_type": "code",
   "execution_count": 5,
   "id": "02e2ef76",
   "metadata": {},
   "outputs": [
    {
     "data": {
      "application/vnd.microsoft.datawrangler.viewer.v0+json": {
       "columns": [
        {
         "name": "index",
         "rawType": "int64",
         "type": "integer"
        },
        {
         "name": "AÑO",
         "rawType": "int64",
         "type": "integer"
        },
        {
         "name": "COD_DEPTO",
         "rawType": "object",
         "type": "string"
        },
        {
         "name": "DEPARTAMENTO",
         "rawType": "object",
         "type": "string"
        },
        {
         "name": "COD_MUNI",
         "rawType": "object",
         "type": "string"
        },
        {
         "name": "ACCESO_INTERNET",
         "rawType": "float64",
         "type": "float"
        },
        {
         "name": "MUNICIPIO",
         "rawType": "object",
         "type": "string"
        }
       ],
       "ref": "3dda9c91-08a6-4075-b8e4-d087b0467318",
       "rows": [
        [
         "125",
         "2023",
         "08",
         "ATLANTICO",
         "08001",
         "307144.0",
         "BARRANQUILLA"
        ],
        [
         "126",
         "2023",
         "08",
         "ATLANTICO",
         "08078",
         "5615.0",
         "BARANOA"
        ],
        [
         "127",
         "2023",
         "08",
         "ATLANTICO",
         "08137",
         "432.0",
         "CAMPO DE LA CRUZ"
        ],
        [
         "128",
         "2023",
         "08",
         "ATLANTICO",
         "08141",
         "262.0",
         "CANDELARIA"
        ],
        [
         "129",
         "2023",
         "08",
         "ATLANTICO",
         "08296",
         "10155.0",
         "GALAPA"
        ]
       ],
       "shape": {
        "columns": 6,
        "rows": 5
       }
      },
      "text/html": [
       "<div>\n",
       "<style scoped>\n",
       "    .dataframe tbody tr th:only-of-type {\n",
       "        vertical-align: middle;\n",
       "    }\n",
       "\n",
       "    .dataframe tbody tr th {\n",
       "        vertical-align: top;\n",
       "    }\n",
       "\n",
       "    .dataframe thead th {\n",
       "        text-align: right;\n",
       "    }\n",
       "</style>\n",
       "<table border=\"1\" class=\"dataframe\">\n",
       "  <thead>\n",
       "    <tr style=\"text-align: right;\">\n",
       "      <th></th>\n",
       "      <th>AÑO</th>\n",
       "      <th>COD_DEPTO</th>\n",
       "      <th>DEPARTAMENTO</th>\n",
       "      <th>COD_MUNI</th>\n",
       "      <th>ACCESO_INTERNET</th>\n",
       "      <th>MUNICIPIO</th>\n",
       "    </tr>\n",
       "  </thead>\n",
       "  <tbody>\n",
       "    <tr>\n",
       "      <th>125</th>\n",
       "      <td>2023</td>\n",
       "      <td>08</td>\n",
       "      <td>ATLANTICO</td>\n",
       "      <td>08001</td>\n",
       "      <td>307144.0</td>\n",
       "      <td>BARRANQUILLA</td>\n",
       "    </tr>\n",
       "    <tr>\n",
       "      <th>126</th>\n",
       "      <td>2023</td>\n",
       "      <td>08</td>\n",
       "      <td>ATLANTICO</td>\n",
       "      <td>08078</td>\n",
       "      <td>5615.0</td>\n",
       "      <td>BARANOA</td>\n",
       "    </tr>\n",
       "    <tr>\n",
       "      <th>127</th>\n",
       "      <td>2023</td>\n",
       "      <td>08</td>\n",
       "      <td>ATLANTICO</td>\n",
       "      <td>08137</td>\n",
       "      <td>432.0</td>\n",
       "      <td>CAMPO DE LA CRUZ</td>\n",
       "    </tr>\n",
       "    <tr>\n",
       "      <th>128</th>\n",
       "      <td>2023</td>\n",
       "      <td>08</td>\n",
       "      <td>ATLANTICO</td>\n",
       "      <td>08141</td>\n",
       "      <td>262.0</td>\n",
       "      <td>CANDELARIA</td>\n",
       "    </tr>\n",
       "    <tr>\n",
       "      <th>129</th>\n",
       "      <td>2023</td>\n",
       "      <td>08</td>\n",
       "      <td>ATLANTICO</td>\n",
       "      <td>08296</td>\n",
       "      <td>10155.0</td>\n",
       "      <td>GALAPA</td>\n",
       "    </tr>\n",
       "  </tbody>\n",
       "</table>\n",
       "</div>"
      ],
      "text/plain": [
       "      AÑO COD_DEPTO DEPARTAMENTO COD_MUNI  ACCESO_INTERNET         MUNICIPIO\n",
       "125  2023        08    ATLANTICO    08001         307144.0      BARRANQUILLA\n",
       "126  2023        08    ATLANTICO    08078           5615.0           BARANOA\n",
       "127  2023        08    ATLANTICO    08137            432.0  CAMPO DE LA CRUZ\n",
       "128  2023        08    ATLANTICO    08141            262.0        CANDELARIA\n",
       "129  2023        08    ATLANTICO    08296          10155.0            GALAPA"
      ]
     },
     "execution_count": 5,
     "metadata": {},
     "output_type": "execute_result"
    }
   ],
   "source": [
    "data_processed_internet.head()"
   ]
  },
  {
   "cell_type": "markdown",
   "id": "3feddfcd",
   "metadata": {},
   "source": [
    "### **Data Homicidios**"
   ]
  },
  {
   "cell_type": "markdown",
   "id": "1132db94",
   "metadata": {},
   "source": [
    "**Descripción:**\n",
    "\n",
    "Este conjunto de datos “HOMICIDIO” (categoría Seguridad y Defensa) recoge, a nivel municipal y anual, la cantidad de muertes intencionales causadas por otra persona, incluyendo civiles, miembros de la Fuerza Pública y actores criminales, pero excluyendo las víctimas de accidentes de tránsito y cualquier muerte no atribuible a la voluntad homicida de un tercero.\n",
    "\n",
    "\n",
    "***Observación:*** En la base de datos se tienen los registros de los ``casos de homicidio que se presentaron por departamentos y municipios de Colombia`` desde 2003 a 2025 \n",
    "\n",
    "**Fuentes:**  \n",
    "\n",
    "- Datos: {cite}`homicidio` "
   ]
  },
  {
   "cell_type": "code",
   "execution_count": 6,
   "id": "0040653a",
   "metadata": {},
   "outputs": [],
   "source": [
    "data_raw_homicidios = pd.read_csv('https://drive.google.com/uc?export=download&id=1ZjHIxKmfboAtuAPWdAH14JMOe5yMujBo')\n",
    "data_processed_homicidios = data_cleaned_homicidios(data_raw_homicidios, 'CARIBE', 2023)"
   ]
  },
  {
   "cell_type": "code",
   "execution_count": 7,
   "id": "1468ff49",
   "metadata": {},
   "outputs": [
    {
     "name": "stdout",
     "output_type": "stream",
     "text": [
      "No hay datos faltantes.\n"
     ]
    }
   ],
   "source": [
    "analizar_columnas_faltantes(data_processed_homicidios)"
   ]
  },
  {
   "cell_type": "code",
   "execution_count": 8,
   "id": "f50fed0c",
   "metadata": {},
   "outputs": [
    {
     "data": {
      "application/vnd.microsoft.datawrangler.viewer.v0+json": {
       "columns": [
        {
         "name": "index",
         "rawType": "int64",
         "type": "integer"
        },
        {
         "name": "COD_DEPTO",
         "rawType": "object",
         "type": "string"
        },
        {
         "name": "DEPARTAMENTO",
         "rawType": "object",
         "type": "string"
        },
        {
         "name": "COD_MUNI",
         "rawType": "object",
         "type": "string"
        },
        {
         "name": "AÑO",
         "rawType": "int64",
         "type": "integer"
        },
        {
         "name": "CANTIDAD",
         "rawType": "int32",
         "type": "integer"
        },
        {
         "name": "MUNICIPIO",
         "rawType": "object",
         "type": "string"
        }
       ],
       "ref": "dce624f7-480b-45c6-af64-0aa94f9024ea",
       "rows": [
        [
         "0",
         "08",
         "ATLANTICO",
         "08001",
         "2023",
         "375",
         "BARRANQUILLA"
        ],
        [
         "1",
         "13",
         "BOLIVAR",
         "13001",
         "2023",
         "0",
         "CARTAGENA DE INDIAS"
        ],
        [
         "2",
         "13",
         "BOLIVAR",
         "13244",
         "2023",
         "33",
         "EL CARMEN DE BOLIVAR"
        ],
        [
         "3",
         "23",
         "CORDOBA",
         "23678",
         "2023",
         "9",
         "SAN CARLOS"
        ],
        [
         "4",
         "44",
         "LA GUAJIRA",
         "44078",
         "2023",
         "7",
         "BARRANCAS"
        ]
       ],
       "shape": {
        "columns": 6,
        "rows": 5
       }
      },
      "text/html": [
       "<div>\n",
       "<style scoped>\n",
       "    .dataframe tbody tr th:only-of-type {\n",
       "        vertical-align: middle;\n",
       "    }\n",
       "\n",
       "    .dataframe tbody tr th {\n",
       "        vertical-align: top;\n",
       "    }\n",
       "\n",
       "    .dataframe thead th {\n",
       "        text-align: right;\n",
       "    }\n",
       "</style>\n",
       "<table border=\"1\" class=\"dataframe\">\n",
       "  <thead>\n",
       "    <tr style=\"text-align: right;\">\n",
       "      <th></th>\n",
       "      <th>COD_DEPTO</th>\n",
       "      <th>DEPARTAMENTO</th>\n",
       "      <th>COD_MUNI</th>\n",
       "      <th>AÑO</th>\n",
       "      <th>CANTIDAD</th>\n",
       "      <th>MUNICIPIO</th>\n",
       "    </tr>\n",
       "  </thead>\n",
       "  <tbody>\n",
       "    <tr>\n",
       "      <th>0</th>\n",
       "      <td>08</td>\n",
       "      <td>ATLANTICO</td>\n",
       "      <td>08001</td>\n",
       "      <td>2023</td>\n",
       "      <td>375</td>\n",
       "      <td>BARRANQUILLA</td>\n",
       "    </tr>\n",
       "    <tr>\n",
       "      <th>1</th>\n",
       "      <td>13</td>\n",
       "      <td>BOLIVAR</td>\n",
       "      <td>13001</td>\n",
       "      <td>2023</td>\n",
       "      <td>0</td>\n",
       "      <td>CARTAGENA DE INDIAS</td>\n",
       "    </tr>\n",
       "    <tr>\n",
       "      <th>2</th>\n",
       "      <td>13</td>\n",
       "      <td>BOLIVAR</td>\n",
       "      <td>13244</td>\n",
       "      <td>2023</td>\n",
       "      <td>33</td>\n",
       "      <td>EL CARMEN DE BOLIVAR</td>\n",
       "    </tr>\n",
       "    <tr>\n",
       "      <th>3</th>\n",
       "      <td>23</td>\n",
       "      <td>CORDOBA</td>\n",
       "      <td>23678</td>\n",
       "      <td>2023</td>\n",
       "      <td>9</td>\n",
       "      <td>SAN CARLOS</td>\n",
       "    </tr>\n",
       "    <tr>\n",
       "      <th>4</th>\n",
       "      <td>44</td>\n",
       "      <td>LA GUAJIRA</td>\n",
       "      <td>44078</td>\n",
       "      <td>2023</td>\n",
       "      <td>7</td>\n",
       "      <td>BARRANCAS</td>\n",
       "    </tr>\n",
       "  </tbody>\n",
       "</table>\n",
       "</div>"
      ],
      "text/plain": [
       "  COD_DEPTO DEPARTAMENTO COD_MUNI   AÑO  CANTIDAD             MUNICIPIO\n",
       "0        08    ATLANTICO    08001  2023       375          BARRANQUILLA\n",
       "1        13      BOLIVAR    13001  2023         0   CARTAGENA DE INDIAS\n",
       "2        13      BOLIVAR    13244  2023        33  EL CARMEN DE BOLIVAR\n",
       "3        23      CORDOBA    23678  2023         9            SAN CARLOS\n",
       "4        44   LA GUAJIRA    44078  2023         7             BARRANCAS"
      ]
     },
     "execution_count": 8,
     "metadata": {},
     "output_type": "execute_result"
    }
   ],
   "source": [
    "data_processed_homicidios.head()"
   ]
  },
  {
   "cell_type": "markdown",
   "id": "551ed17e",
   "metadata": {},
   "source": [
    "## **Nivel: Manzana**"
   ]
  },
  {
   "cell_type": "markdown",
   "id": "04afc370",
   "metadata": {},
   "source": [
    "\n",
    "\n",
    "# **Referencias**\n",
    "\n",
    "```{bibliography} references.bib\n",
    ":style: plain\n"
   ]
  }
 ],
 "metadata": {
  "kernelspec": {
   "display_name": "convocatoria38",
   "language": "python",
   "name": "python3"
  },
  "language_info": {
   "codemirror_mode": {
    "name": "ipython",
    "version": 3
   },
   "file_extension": ".py",
   "mimetype": "text/x-python",
   "name": "python",
   "nbconvert_exporter": "python",
   "pygments_lexer": "ipython3",
   "version": "3.11.11"
  }
 },
 "nbformat": 4,
 "nbformat_minor": 5
}
