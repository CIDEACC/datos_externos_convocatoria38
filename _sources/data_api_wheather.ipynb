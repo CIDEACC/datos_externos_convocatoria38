{
 "cells": [
  {
   "cell_type": "markdown",
   "id": "0f5c23e1",
   "metadata": {},
   "source": [
    "# **Prueba de uso *Open-Meteo Historical Weather API***"
   ]
  },
  {
   "cell_type": "markdown",
   "id": "63c206fc",
   "metadata": {},
   "source": [
    "Variables disponibles en Open-Meteo Historical Weather API:\n",
    "1. Temperaturas:\n",
    "\n",
    "    - ``temperature_2m_min``: Temperatura mínima a 2 metros.\n",
    "\n",
    "    - ``temperature_2m_max``: Temperatura máxima a 2 metros.\n",
    "\n",
    "    - ``temperature_2m_mean``: Temperatura media a 2 metros (promedio entre mínima y máxima).\n",
    "\n",
    "2. Precipitación:\n",
    "\n",
    "    - ``precipitation_sum``: Precipitación total en el día (en milímetros).\n",
    "\n",
    "    - ``precipitation_hours``: Horas de lluvia en el día.\n",
    "\n",
    "3. Humedad:\n",
    "\n",
    "    - ``humidity_2m_mean``: Humedad relativa media a 2 metros.\n",
    "\n",
    "    - ``humidity_2m_max``: Humedad máxima a 2 metros.\n",
    "\n",
    "    - ``humidity_2m_min``: Humedad mínima a 2 metros.\n",
    "\n",
    "4. Viento:\n",
    "\n",
    "    - ``windspeed_10m_max``: Velocidad máxima del viento a 10 metros.\n",
    "\n",
    "    - ``windspeed_10m_mean``: Velocidad media del viento a 10 metros.\n",
    "\n",
    "    - ``windgusts_10m_max``: Ráfagas máximas del viento a 10 metros.\n",
    "\n",
    "5. Radiación solar:\n",
    "\n",
    "    - ``radiation_sum``: Radiación solar total en el día (en MJ/m²).\n",
    "\n",
    "6. Cobertura de nubes:\n",
    "\n",
    "    - ``cloudcover_mean``: Promedio de la cobertura de nubes (en porcentaje).\n",
    "\n",
    "    - ``cloudcover_max``: Cobertura máxima de nubes (en porcentaje).\n",
    "\n",
    "    - ``cloudcover_min``: Cobertura mínima de nubes (en porcentaje).\n",
    "\n",
    "7. Otros:\n",
    "\n",
    "    - ``pressure_mean``: Presión atmosférica media.\n",
    "\n",
    "    - ``weathercode``: Código del tipo de tiempo (despejado, lluvioso, etc.)."
   ]
  },
  {
   "cell_type": "markdown",
   "id": "4781ead3",
   "metadata": {},
   "source": [
    "params = {\n",
    "    \"start_date\": \"2018-01-01\",\n",
    "    \"end_date\": \"2018-12-31\",\n",
    "    \"daily\": \"temperature_2m_max,precipitation_sum,humidity_2m_mean\",\n",
    "    \"timezone\": \"America/Bogota\"\n",
    "}"
   ]
  },
  {
   "cell_type": "markdown",
   "id": "397b4032",
   "metadata": {},
   "source": [
    "TEMPERATURA, HUMEDAD Y VIENTO\n",
    "\n",
    "Open-Meteo Historical Weather API\n",
    "\n",
    "https://open-meteo.com/en/docs/historical-weather-api"
   ]
  },
  {
   "cell_type": "code",
   "execution_count": 3,
   "id": "7757e6a9",
   "metadata": {},
   "outputs": [],
   "source": [
    "import pandas as pd\n",
    "import requests"
   ]
  },
  {
   "cell_type": "code",
   "execution_count": 15,
   "id": "961129a6",
   "metadata": {},
   "outputs": [],
   "source": [
    "# Coordenadas de las capitales de la región Caribe\n",
    "capitales = {\n",
    "    'Barranquilla': {'lat': 10.9878, 'lon': -74.7889},\n",
    "    'Cartagena': {'lat': 10.3910, 'lon': -75.4794},\n",
    "    'Valledupar': {'lat': 10.4639, 'lon': -73.2505},\n",
    "    'Riohacha': {'lat': 11.5441, 'lon': -72.9074},\n",
    "    'Santa Marta': {'lat': 11.2408, 'lon': -74.1990},\n",
    "    'San Andrés': {'lat': 12.5840, 'lon': -81.7117},\n",
    "    'Sincelejo': {'lat': 9.3037, 'lon': -75.3972},\n",
    "    'Montería': {'lat': 8.7491, 'lon': -75.8813}\n",
    "}\n",
    "\n",
    "# Parámetros comunes para la API\n",
    "url = \"https://archive-api.open-meteo.com/v1/archive\"\n",
    "params = {\n",
    "    \"start_date\": \"2018-01-01\",\n",
    "    \"end_date\": \"2018-12-31\",\n",
    "    \"daily\": \"temperature_2m_max\",\n",
    "    \"timezone\": \"America/Bogota\"\n",
    "}\n",
    "\n",
    "# Diccionario para almacenar los resultados\n",
    "resultados = {}\n",
    "\n",
    "# Peticiones a la API para cada capital\n",
    "for ciudad, coords in capitales.items():\n",
    "    params['latitude'] = coords['lat']\n",
    "    params['longitude'] = coords['lon']\n",
    "    \n",
    "    response = requests.get(url, params=params)\n",
    "    response.raise_for_status()\n",
    "    data = response.json()\n",
    "    \n",
    "    # Convertir los datos a DataFrame y calcular el promedio mensual\n",
    "    df = pd.DataFrame({\n",
    "        'fecha': data['daily']['time'],\n",
    "        'temp_max': data['daily']['temperature_2m_max']\n",
    "    })\n",
    "    df['fecha'] = pd.to_datetime(df['fecha'])\n",
    "    df.set_index('fecha', inplace=True)\n",
    "    mensual_max = df.resample('ME').mean()\n",
    "    \n",
    "    # Guardar los resultados\n",
    "    resultados[ciudad] = mensual_max\n"
   ]
  },
  {
   "cell_type": "code",
   "execution_count": 16,
   "id": "9cb4633e",
   "metadata": {},
   "outputs": [
    {
     "data": {
      "application/vnd.microsoft.datawrangler.viewer.v0+json": {
       "columns": [
        {
         "name": "fecha",
         "rawType": "datetime64[ns]",
         "type": "datetime"
        },
        {
         "name": "temp_max",
         "rawType": "float64",
         "type": "float"
        }
       ],
       "conversionMethod": "pd.DataFrame",
       "ref": "1df1eb3c-d81d-4895-a5a3-0b5de8723c3f",
       "rows": [
        [
         "2018-01-31 00:00:00",
         "29.62258064516129"
        ],
        [
         "2018-02-28 00:00:00",
         "28.935714285714287"
        ],
        [
         "2018-03-31 00:00:00",
         "29.783870967741933"
        ],
        [
         "2018-04-30 00:00:00",
         "30.57"
        ],
        [
         "2018-05-31 00:00:00",
         "30.016129032258064"
        ],
        [
         "2018-06-30 00:00:00",
         "30.5"
        ],
        [
         "2018-07-31 00:00:00",
         "30.361290322580647"
        ],
        [
         "2018-08-31 00:00:00",
         "30.74516129032258"
        ],
        [
         "2018-09-30 00:00:00",
         "30.60666666666667"
        ],
        [
         "2018-10-31 00:00:00",
         "29.903225806451612"
        ],
        [
         "2018-11-30 00:00:00",
         "29.933333333333334"
        ],
        [
         "2018-12-31 00:00:00",
         "29.677419354838708"
        ]
       ],
       "shape": {
        "columns": 1,
        "rows": 12
       }
      },
      "text/html": [
       "<div>\n",
       "<style scoped>\n",
       "    .dataframe tbody tr th:only-of-type {\n",
       "        vertical-align: middle;\n",
       "    }\n",
       "\n",
       "    .dataframe tbody tr th {\n",
       "        vertical-align: top;\n",
       "    }\n",
       "\n",
       "    .dataframe thead th {\n",
       "        text-align: right;\n",
       "    }\n",
       "</style>\n",
       "<table border=\"1\" class=\"dataframe\">\n",
       "  <thead>\n",
       "    <tr style=\"text-align: right;\">\n",
       "      <th></th>\n",
       "      <th>temp_max</th>\n",
       "    </tr>\n",
       "    <tr>\n",
       "      <th>fecha</th>\n",
       "      <th></th>\n",
       "    </tr>\n",
       "  </thead>\n",
       "  <tbody>\n",
       "    <tr>\n",
       "      <th>2018-01-31</th>\n",
       "      <td>29.622581</td>\n",
       "    </tr>\n",
       "    <tr>\n",
       "      <th>2018-02-28</th>\n",
       "      <td>28.935714</td>\n",
       "    </tr>\n",
       "    <tr>\n",
       "      <th>2018-03-31</th>\n",
       "      <td>29.783871</td>\n",
       "    </tr>\n",
       "    <tr>\n",
       "      <th>2018-04-30</th>\n",
       "      <td>30.570000</td>\n",
       "    </tr>\n",
       "    <tr>\n",
       "      <th>2018-05-31</th>\n",
       "      <td>30.016129</td>\n",
       "    </tr>\n",
       "    <tr>\n",
       "      <th>2018-06-30</th>\n",
       "      <td>30.500000</td>\n",
       "    </tr>\n",
       "    <tr>\n",
       "      <th>2018-07-31</th>\n",
       "      <td>30.361290</td>\n",
       "    </tr>\n",
       "    <tr>\n",
       "      <th>2018-08-31</th>\n",
       "      <td>30.745161</td>\n",
       "    </tr>\n",
       "    <tr>\n",
       "      <th>2018-09-30</th>\n",
       "      <td>30.606667</td>\n",
       "    </tr>\n",
       "    <tr>\n",
       "      <th>2018-10-31</th>\n",
       "      <td>29.903226</td>\n",
       "    </tr>\n",
       "    <tr>\n",
       "      <th>2018-11-30</th>\n",
       "      <td>29.933333</td>\n",
       "    </tr>\n",
       "    <tr>\n",
       "      <th>2018-12-31</th>\n",
       "      <td>29.677419</td>\n",
       "    </tr>\n",
       "  </tbody>\n",
       "</table>\n",
       "</div>"
      ],
      "text/plain": [
       "             temp_max\n",
       "fecha                \n",
       "2018-01-31  29.622581\n",
       "2018-02-28  28.935714\n",
       "2018-03-31  29.783871\n",
       "2018-04-30  30.570000\n",
       "2018-05-31  30.016129\n",
       "2018-06-30  30.500000\n",
       "2018-07-31  30.361290\n",
       "2018-08-31  30.745161\n",
       "2018-09-30  30.606667\n",
       "2018-10-31  29.903226\n",
       "2018-11-30  29.933333\n",
       "2018-12-31  29.677419"
      ]
     },
     "execution_count": 16,
     "metadata": {},
     "output_type": "execute_result"
    }
   ],
   "source": [
    "resultados['Barranquilla']"
   ]
  },
  {
   "cell_type": "markdown",
   "id": "ecb1dc70",
   "metadata": {},
   "source": [
    "# **Prueba de uso *Open-Meteo Air Quality API***"
   ]
  },
  {
   "cell_type": "code",
   "execution_count": 7,
   "id": "f1a3bc8a",
   "metadata": {},
   "outputs": [
    {
     "name": "stdout",
     "output_type": "stream",
     "text": [
      "No hay datos para Barranquilla\n",
      "No hay datos para Cartagena\n",
      "No hay datos para Valledupar\n",
      "No hay datos para Riohacha\n",
      "No hay datos para Santa Marta\n",
      "No hay datos para San Andrés\n",
      "No hay datos para Sincelejo\n",
      "No hay datos para Montería\n",
      "None\n"
     ]
    }
   ],
   "source": [
    "import requests\n",
    "import pandas as pd\n",
    "\n",
    "capitales = {\n",
    "    'Barranquilla': {'lat': 10.9878, 'lon': -74.7889},\n",
    "    'Cartagena': {'lat': 10.3910, 'lon': -75.4794},\n",
    "    'Valledupar': {'lat': 10.4639, 'lon': -73.2505},\n",
    "    'Riohacha': {'lat': 11.5441, 'lon': -72.9074},\n",
    "    'Santa Marta': {'lat': 11.2408, 'lon': -74.1990},\n",
    "    'San Andrés': {'lat': 12.5840, 'lon': -81.7117},\n",
    "    'Sincelejo': {'lat': 9.3037, 'lon': -75.3972},\n",
    "    'Montería': {'lat': 8.7491, 'lon': -75.8813}\n",
    "}\n",
    "\n",
    "url = \"https://air-quality-api.open-meteo.com/v1/air-quality\"\n",
    "\n",
    "params_base = {\n",
    "    \"start_date\": \"2023-01-02\",\n",
    "    \"end_date\": \"2024-01-02\",\n",
    "    \"daily\": \"pm10\",\n",
    "    \"timezone\": \"America/Bogota\"\n",
    "}\n",
    "\n",
    "resultados = {}\n",
    "\n",
    "for ciudad, coords in capitales.items():\n",
    "    params = params_base.copy()\n",
    "    params['latitude'] = coords['lat']\n",
    "    params['longitude'] = coords['lon']\n",
    "    \n",
    "    response = requests.get(url, params=params)\n",
    "    \n",
    "    if response.status_code == 200:\n",
    "        data = response.json()\n",
    "        pm10_values = data.get(\"daily\", {}).get(\"pm10\", [])\n",
    "        fechas = data.get(\"daily\", {}).get(\"time\", [])\n",
    "        \n",
    "        if pm10_values and fechas:\n",
    "            df = pd.DataFrame({\n",
    "                'fecha': pd.to_datetime(fechas),\n",
    "                'pm10': pm10_values\n",
    "            })\n",
    "            df.set_index('fecha', inplace=True)\n",
    "            mensual_pm10 = df.resample('M').mean()\n",
    "            resultados[ciudad] = mensual_pm10\n",
    "        else:\n",
    "            print(f\"No hay datos para {ciudad}\")\n",
    "    else:\n",
    "        print(f\"Error en la consulta para {ciudad}: {response.status_code}\")\n",
    "\n",
    "# Mostrar promedio mensual PM10 en Barranquilla\n",
    "print(resultados.get('Barranquilla'))\n"
   ]
  }
 ],
 "metadata": {
  "kernelspec": {
   "display_name": "convocatoria_38",
   "language": "python",
   "name": "python3"
  },
  "language_info": {
   "codemirror_mode": {
    "name": "ipython",
    "version": 3
   },
   "file_extension": ".py",
   "mimetype": "text/x-python",
   "name": "python",
   "nbconvert_exporter": "python",
   "pygments_lexer": "ipython3",
   "version": "3.9.21"
  }
 },
 "nbformat": 4,
 "nbformat_minor": 5
}
