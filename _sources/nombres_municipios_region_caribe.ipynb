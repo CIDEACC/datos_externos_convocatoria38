{
 "cells": [
  {
   "cell_type": "markdown",
   "id": "f85e6526",
   "metadata": {},
   "source": [
    "# **Municipios Región Caribe**"
   ]
  },
  {
   "cell_type": "markdown",
   "id": "da7e3582",
   "metadata": {},
   "source": [
    "## **Librerías y modulos necesarios**"
   ]
  },
  {
   "cell_type": "code",
   "execution_count": 4,
   "id": "7c7a6a62",
   "metadata": {},
   "outputs": [],
   "source": [
    "import warnings\n",
    "import pandas as pd\n",
    "from unidecode import unidecode\n",
    "warnings.filterwarnings(\"ignore\")\n",
    "from funciones.rename_nivel import *"
   ]
  },
  {
   "cell_type": "code",
   "execution_count": 5,
   "id": "e5f38a93",
   "metadata": {},
   "outputs": [],
   "source": [
    "column_types = {\"Código Departamento\": \"object\", \"Código Municipio\": \"object\", \"Código Centro Poblado\": \"object\", \"Nombre Departamento\": \"object\", \"Nombre Municipio\": \"object\",\n",
    "    \"Nombre Centro Poblado\t\": \"object\", \"Tipo\": \"object\"}\n",
    "url = \"https://raw.githubusercontent.com/sePerezAlbor/Data/refs/heads/main/Divipola.csv\"\n",
    "data_divipola = pd.read_csv(url, delimiter = \",\", na_values = [\" \"], dtype = column_types)"
   ]
  },
  {
   "cell_type": "code",
   "execution_count": 6,
   "id": "cc4c91b5",
   "metadata": {},
   "outputs": [],
   "source": [
    "data_divipola[\"Nombre Departamento\"] = data_divipola[\"Nombre Departamento\"].apply(lambda x: unidecode(x))\n",
    "data_divipola[\"Nombre Municipio\"] = data_divipola[\"Nombre Municipio\"].apply(lambda x: unidecode(x))\n",
    "data_divipola = data_divipola[data_divipola[\"Nombre Departamento\"].isin(regiones['CARIBE'])]"
   ]
  },
  {
   "cell_type": "code",
   "execution_count": 7,
   "id": "e76b5d67",
   "metadata": {},
   "outputs": [],
   "source": [
    "data_municipios = data_divipola[['Código Municipio', 'Nombre Municipio']]\n",
    "data_municipios.drop_duplicates(subset=[ 'Código Municipio', 'Nombre Municipio'], inplace=True)\n",
    "data_municipios.rename(columns={'Código Municipio': 'COD_MUNI', 'Nombre Municipio': 'MUNICIPIO'}, inplace=True)\n",
    "data_municipios['COD_MUNI'] = data_municipios['COD_MUNI'].astype(str).str.zfill(5)"
   ]
  },
  {
   "cell_type": "code",
   "execution_count": 8,
   "id": "1ff98c16",
   "metadata": {},
   "outputs": [],
   "source": [
    "data_municipios.loc[len(data_municipios)] = ['88001', 'SAN ANDRÉS']\n",
    "data_municipios.loc[len(data_municipios)] = ['88564', 'PROVIDENCIA']"
   ]
  },
  {
   "cell_type": "code",
   "execution_count": 9,
   "id": "2c66f8b1",
   "metadata": {},
   "outputs": [
    {
     "data": {
      "application/vnd.microsoft.datawrangler.viewer.v0+json": {
       "columns": [
        {
         "name": "index",
         "rawType": "int64",
         "type": "integer"
        },
        {
         "name": "COD_MUNI",
         "rawType": "object",
         "type": "string"
        },
        {
         "name": "MUNICIPIO",
         "rawType": "object",
         "type": "string"
        }
       ],
       "ref": "ee523290-0adb-4d67-99ab-b5e9e32ac773",
       "rows": [
        [
         "836",
         "08001",
         "BARRANQUILLA"
        ],
        [
         "839",
         "08078",
         "BARANOA"
        ],
        [
         "843",
         "08137",
         "CAMPO DE LA CRUZ"
        ],
        [
         "845",
         "08141",
         "CANDELARIA"
        ],
        [
         "848",
         "08296",
         "GALAPA"
        ],
        [
         "850",
         "08372",
         "JUAN DE ACOSTA"
        ],
        [
         "856",
         "08421",
         "LURUACO"
        ],
        [
         "866",
         "08433",
         "MALAMBO"
        ],
        [
         "870",
         "08436",
         "MANATI"
        ],
        [
         "872",
         "08520",
         "PALMAR DE VARELA"
        ],
        [
         "874",
         "08549",
         "PIOJO"
        ],
        [
         "877",
         "08558",
         "POLONUEVO"
        ],
        [
         "879",
         "08560",
         "PONEDERA"
        ],
        [
         "885",
         "08573",
         "PUERTO COLOMBIA"
        ],
        [
         "893",
         "08606",
         "REPELON"
        ],
        [
         "900",
         "08634",
         "SABANAGRANDE"
        ],
        [
         "901",
         "08638",
         "SABANALARGA"
        ],
        [
         "911",
         "08675",
         "SANTA LUCIA"
        ],
        [
         "913",
         "08685",
         "SANTO TOMAS"
        ],
        [
         "915",
         "08758",
         "SOLEDAD"
        ],
        [
         "916",
         "08770",
         "SUAN"
        ],
        [
         "917",
         "08832",
         "TUBARA"
        ],
        [
         "925",
         "08849",
         "USIACURI"
        ],
        [
         "933",
         "13001",
         "CARTAGENA DE INDIAS"
        ],
        [
         "964",
         "13006",
         "ACHI"
        ],
        [
         "988",
         "13030",
         "ALTOS DEL ROSARIO"
        ],
        [
         "993",
         "13042",
         "ARENAL"
        ],
        [
         "998",
         "13052",
         "ARJONA"
        ],
        [
         "1005",
         "13062",
         "ARROYOHONDO"
        ],
        [
         "1011",
         "13074",
         "BARRANCO DE LOBA"
        ],
        [
         "1016",
         "13140",
         "CALAMAR"
        ],
        [
         "1021",
         "13160",
         "CANTAGALLO"
        ],
        [
         "1041",
         "13188",
         "CICUCO"
        ],
        [
         "1047",
         "13212",
         "CORDOBA"
        ],
        [
         "1061",
         "13222",
         "CLEMENCIA"
        ],
        [
         "1065",
         "13244",
         "EL CARMEN DE BOLIVAR"
        ],
        [
         "1078",
         "13248",
         "EL GUAMO"
        ],
        [
         "1084",
         "13268",
         "EL PENON"
        ],
        [
         "1091",
         "13300",
         "HATILLO DE LOBA"
        ],
        [
         "1101",
         "13430",
         "MAGANGUE"
        ],
        [
         "1145",
         "13433",
         "MAHATES"
        ],
        [
         "1153",
         "13440",
         "MARGARITA"
        ],
        [
         "1174",
         "13442",
         "MARIA LA BAJA"
        ],
        [
         "1214",
         "13458",
         "MONTECRISTO"
        ],
        [
         "1227",
         "13468",
         "MOMPOS"
        ],
        [
         "1256",
         "13473",
         "MORALES"
        ],
        [
         "1267",
         "13490",
         "NOROSI"
        ],
        [
         "1275",
         "13549",
         "PINILLOS"
        ],
        [
         "1301",
         "13580",
         "REGIDOR"
        ],
        [
         "1306",
         "13600",
         "RIO VIEJO"
        ]
       ],
       "shape": {
        "columns": 2,
        "rows": 197
       }
      },
      "text/html": [
       "<div>\n",
       "<style scoped>\n",
       "    .dataframe tbody tr th:only-of-type {\n",
       "        vertical-align: middle;\n",
       "    }\n",
       "\n",
       "    .dataframe tbody tr th {\n",
       "        vertical-align: top;\n",
       "    }\n",
       "\n",
       "    .dataframe thead th {\n",
       "        text-align: right;\n",
       "    }\n",
       "</style>\n",
       "<table border=\"1\" class=\"dataframe\">\n",
       "  <thead>\n",
       "    <tr style=\"text-align: right;\">\n",
       "      <th></th>\n",
       "      <th>COD_MUNI</th>\n",
       "      <th>MUNICIPIO</th>\n",
       "    </tr>\n",
       "  </thead>\n",
       "  <tbody>\n",
       "    <tr>\n",
       "      <th>836</th>\n",
       "      <td>08001</td>\n",
       "      <td>BARRANQUILLA</td>\n",
       "    </tr>\n",
       "    <tr>\n",
       "      <th>839</th>\n",
       "      <td>08078</td>\n",
       "      <td>BARANOA</td>\n",
       "    </tr>\n",
       "    <tr>\n",
       "      <th>843</th>\n",
       "      <td>08137</td>\n",
       "      <td>CAMPO DE LA CRUZ</td>\n",
       "    </tr>\n",
       "    <tr>\n",
       "      <th>845</th>\n",
       "      <td>08141</td>\n",
       "      <td>CANDELARIA</td>\n",
       "    </tr>\n",
       "    <tr>\n",
       "      <th>848</th>\n",
       "      <td>08296</td>\n",
       "      <td>GALAPA</td>\n",
       "    </tr>\n",
       "    <tr>\n",
       "      <th>...</th>\n",
       "      <td>...</td>\n",
       "      <td>...</td>\n",
       "    </tr>\n",
       "    <tr>\n",
       "      <th>7629</th>\n",
       "      <td>70771</td>\n",
       "      <td>SUCRE</td>\n",
       "    </tr>\n",
       "    <tr>\n",
       "      <th>7680</th>\n",
       "      <td>70820</td>\n",
       "      <td>SANTIAGO DE TOLU</td>\n",
       "    </tr>\n",
       "    <tr>\n",
       "      <th>7686</th>\n",
       "      <td>70823</td>\n",
       "      <td>TOLU VIEJO</td>\n",
       "    </tr>\n",
       "    <tr>\n",
       "      <th>195</th>\n",
       "      <td>88001</td>\n",
       "      <td>SAN ANDRÉS</td>\n",
       "    </tr>\n",
       "    <tr>\n",
       "      <th>196</th>\n",
       "      <td>88564</td>\n",
       "      <td>PROVIDENCIA</td>\n",
       "    </tr>\n",
       "  </tbody>\n",
       "</table>\n",
       "<p>197 rows × 2 columns</p>\n",
       "</div>"
      ],
      "text/plain": [
       "     COD_MUNI         MUNICIPIO\n",
       "836     08001      BARRANQUILLA\n",
       "839     08078           BARANOA\n",
       "843     08137  CAMPO DE LA CRUZ\n",
       "845     08141        CANDELARIA\n",
       "848     08296            GALAPA\n",
       "...       ...               ...\n",
       "7629    70771             SUCRE\n",
       "7680    70820  SANTIAGO DE TOLU\n",
       "7686    70823        TOLU VIEJO\n",
       "195     88001        SAN ANDRÉS\n",
       "196     88564       PROVIDENCIA\n",
       "\n",
       "[197 rows x 2 columns]"
      ]
     },
     "execution_count": 9,
     "metadata": {},
     "output_type": "execute_result"
    }
   ],
   "source": [
    "data_municipios"
   ]
  },
  {
   "cell_type": "code",
   "execution_count": 10,
   "id": "4fe34e05",
   "metadata": {},
   "outputs": [],
   "source": [
    "data_municipios.to_csv('data_processed/data_municipios_name.csv', index=False)"
   ]
  },
  {
   "cell_type": "markdown",
   "id": "109cf619",
   "metadata": {},
   "source": [
    "En total hay 197 municipios en la región Caribe"
   ]
  }
 ],
 "metadata": {
  "kernelspec": {
   "display_name": "convocatoria38",
   "language": "python",
   "name": "python3"
  },
  "language_info": {
   "codemirror_mode": {
    "name": "ipython",
    "version": 3
   },
   "file_extension": ".py",
   "mimetype": "text/x-python",
   "name": "python",
   "nbconvert_exporter": "python",
   "pygments_lexer": "ipython3",
   "version": "3.11.11"
  }
 },
 "nbformat": 4,
 "nbformat_minor": 5
}
