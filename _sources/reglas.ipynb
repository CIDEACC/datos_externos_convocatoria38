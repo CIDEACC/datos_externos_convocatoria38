{
 "cells": [
  {
   "cell_type": "markdown",
   "id": "0373e5e0",
   "metadata": {},
   "source": [
    "# **Reglas de Trabajo**\n",
    "\n",
    "Este documento agrupa las convenciones y estándares que debemos respetar al construir y procesar nuestro conjunto de datos.\n",
    "\n"
   ]
  },
  {
   "cell_type": "markdown",
   "id": "e398d8db",
   "metadata": {},
   "source": [
    "## **1. Paleta de Colores**\n",
    "\n",
    "Usaremos la siguiente escala para resaltar secciones, gráficos y tablas. Cada color está definido por su código hexadecimal y su nombre:\n",
    "\n",
    "| Muestra | Nombre               | Hex     |\n",
    "|:------:|:---------------------|:--------|\n",
    "| <span style=\"display:inline-block;width:40px;height:20px;background:#4F000B;\"></span> | Chocolate cosmos     | `#4F000B` |\n",
    "| <span style=\"display:inline-block;width:40px;height:20px;background:#720026;\"></span> | Claret               | `#720026` |\n",
    "| <span style=\"display:inline-block;width:40px;height:20px;background:#A0213F;\"></span> | Amaranth purple      | `#A0213F` |\n",
    "| <span style=\"display:inline-block;width:40px;height:20px;background:#CE4257;\"></span> | Amaranth             | `#CE4257` |\n",
    "| <span style=\"display:inline-block;width:40px;height:20px;background:#E76154;\"></span> | Bittersweet          | `#E76154` |\n",
    "| <span style=\"display:inline-block;width:40px;height:20px;background:#F37053;\"></span> | Burnt sienna         | `#F37053` |\n",
    "| <span style=\"display:inline-block;width:40px;height:20px;background:#FF7F51;\"></span> | Coral                | `#FF7F51` |\n",
    "| <span style=\"display:inline-block;width:40px;height:20px;background:#FF8D53;\"></span> | Atomic tangerine     | `#FF8D53` |\n",
    "| <span style=\"display:inline-block;width:40px;height:20px;background:#FF9B54;\"></span> | Sandy brown          | `#FF9B54` |\n",
    "\n"
   ]
  },
  {
   "cell_type": "markdown",
   "id": "35057ff0",
   "metadata": {},
   "source": [
    "##  **2. Convenciones de Nombres**\n",
    "\n",
    "### **2.1 Variables**\n",
    "- **Formato:**  \n",
    "  - Todas las variables en **MAYÚSCULAS**.  \n",
    "  - Si el nombre está compuesto, separar con guión bajo `_`.  \n",
    "- **Ejemplos:**  \n",
    "  - `DEPARTAMENTO`  \n",
    "  - `NUM_MUNICIPIOS`  \n",
    "  - `FECHA_ACTUALIZACION`\n",
    "- **Tipo de datos:**  \n",
    "  - Los **códigos** de departamento (`COD_DPTO`), municipio (`COD_MPIO`) y manzana (`COD_MANZANA`) deben manejarse siempre como **STRING**, preservando ceros a la izquierda (p.ej. `\"08006\"`).\n",
    "\n",
    "### **2.2 Categorías de Variables**\n",
    "- **Codificación:**  \n",
    "  - Las variables CATEGÓRICAS se codifican numéricamente para facilitar el procesamiento.  \n",
    "  - Cada código numérico se mapea a un valor textual en el **Diccionario de Variables**.  \n",
    "- **Acceso:**  \n",
    "  - Para interpretar cualquier categoría, consultar el `diccionario_variables` donde se describa cada par `código ↔ etiqueta`.\n",
    "\n",
    "\n",
    "### **2.3 Departamentos y Municipios**\n",
    "- **Formato:**  \n",
    "  - Todos los nombres en **MAYÚSCULAS**  \n",
    "  - Sin tildes ni caracteres especiales (A E I O U, Ñ normal).  \n",
    "  - **El código del municipio** debe tener siempre **5 caracteres** (añadir ceros a la izquierda si es necesario, p.ej. `08006`).  \n",
    "- **Fuente canónica:**  \n",
    "  - Respetar los nombres predeterminados ya asignados en el script `funciones/rename_nivel.py`\n",
    "\n",
    "  - No crear variaciones; si falta un nombre, añádelo ahí siguiendo el mismo patrón."
   ]
  },
  {
   "cell_type": "markdown",
   "id": "5f4e4145",
   "metadata": {},
   "source": [
    "\n",
    "##  **3. Estructura del Notebook**\n",
    "\n",
    "\n"
   ]
  },
  {
   "cell_type": "markdown",
   "id": "cba9d72d",
   "metadata": {},
   "source": [
    "## **4. Acceso a los datos**"
   ]
  },
  {
   "cell_type": "markdown",
   "id": "959b6aed",
   "metadata": {},
   "source": [
    "## **5. Referencias**\n",
    "\n",
    "- **Fuentes de datos y recursos**  \n",
    "  Siempre registrar y referenciar **todas** las fuentes de datos, scripts, librerías y cualquier otro recurso utilizado en este proyecto en el archivo `references.bib`.\n",
    "\n",
    "- **Convenciones de cita**  \n",
    "  Uso de **BibTeX** para todas las entradas.    \n",
    "\n",
    "\n",
    "- **Actualización**  \n",
    "  Cada vez que agregues o elimines datos o herramientas, **actualiza** inmediatamente `references.bib` para mantener el historial y la reproducibilidad.\n"
   ]
  },
  {
   "cell_type": "markdown",
   "id": "dcaaa476",
   "metadata": {},
   "source": [
    "\n",
    "## **Recuerda:**  \n",
    "\n",
    "> - Mantener celdas claras y comentadas.   \n",
    "> - Si agregas nuevas convenciones, actualiza este bloque de “Reglas de Trabajo”."
   ]
  }
 ],
 "metadata": {
  "language_info": {
   "name": "python"
  }
 },
 "nbformat": 4,
 "nbformat_minor": 5
}
