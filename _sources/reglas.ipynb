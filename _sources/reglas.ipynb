{
 "cells": [
  {
   "cell_type": "markdown",
   "id": "0373e5e0",
   "metadata": {},
   "source": [
    "# **Reglas de Trabajo**\n",
    "\n",
    "Este documento agrupa las convenciones y estándares que debemos respetar al construir y procesar nuestro conjunto de datos.\n",
    "\n"
   ]
  },
  {
   "cell_type": "markdown",
   "id": "e398d8db",
   "metadata": {},
   "source": [
    "## **1. Diseño del proyecto**\n",
    "\n",
    "### **1.1 Paleta de colores**\n",
    "\n",
    "Usaremos la siguiente escala (extraída de [Coolors](https://coolors.co/7209b7-640ab2-560bad-3a0ca3-3f37c9-4361ee-467bef-4895ef-4aaff0)) para resaltar secciones, gráficos y tablas. Cada color está definido por su código hexadecimal y su nombre:\n",
    "\n",
    "|                                        Muestra                                        | Nombre           | Hex       |\n",
    "| :-----------------------------------------------------------------------------------: | :--------------- | :-------- |\n",
    "| <span style=\"display:inline-block;width:40px;height:20px;background:#7209B7;\"></span> | Grape            | `#7209B7` |\n",
    "| <span style=\"display:inline-block;width:40px;height:20px;background:#640AB2;\"></span> | Grape            | `#640AB2` |\n",
    "| <span style=\"display:inline-block;width:40px;height:20px;background:#560BAD;\"></span> | Chrysler blue    | `#560BAD` |\n",
    "| <span style=\"display:inline-block;width:40px;height:20px;background:#3A0CA3;\"></span> | Zaffre           | `#3A0CA3` |\n",
    "| <span style=\"display:inline-block;width:40px;height:20px;background:#3F37C9;\"></span> | Palatinate blue  | `#3F37C9` |\n",
    "| <span style=\"display:inline-block;width:40px;height:20px;background:#4361EE;\"></span> | Neon blue        | `#4361EE` |\n",
    "| <span style=\"display:inline-block;width:40px;height:20px;background:#467BEF;\"></span> | Blue (Crayola)   | `#467BEF` |\n",
    "| <span style=\"display:inline-block;width:40px;height:20px;background:#4895EF;\"></span> | Chefchaouen Blue | `#4895EF` |\n",
    "| <span style=\"display:inline-block;width:40px;height:20px;background:#4AAFF0;\"></span> | Picton Blue      | `#4AAFF0` |\n",
    "\n",
    "### **1.2 Tipografía de las gráficas**\n",
    "\n",
    "Para todas las visualizaciones del proyecto utilizaremos la fuente **Bahnscripg**. Esta tipografía se ha seleccionado por su legibilidad y su estilo moderno, que complementa la paleta de colores definida. A continuación, las especificaciones de uso:\n",
    "\n",
    "* **Familia**: `Bahnschrift`\n",
    "* **Tamaño base de títulos**: 14 pt\n",
    "* **Tamaño base de ejes y etiquetas**: 10 pt\n",
    "* **Peso recomendado**: Regular\n",
    "* **Estilo**: Sin cursiva ni negrita por defecto, salvo destacar elementos específicos.\n",
    "\n",
    "**Nota técnica**: En Matplotlib, se configura mediante:\n",
    ">\n",
    "> ```python\n",
    "> import matplotlib.pyplot as plt\n",
    "> plt.rc('font', family='Bahnschrift')\n",
    "> ```\n",
    "\n",
    "\n"
   ]
  },
  {
   "cell_type": "markdown",
   "id": "35057ff0",
   "metadata": {},
   "source": [
    "##  **2. Convenciones de Nombres**\n",
    "\n",
    "### **2.1 Variables**\n",
    "- **Formato:**  \n",
    "  - Todas las variables en **MAYÚSCULAS**.  \n",
    "  - Si el nombre está compuesto, separar con guión bajo `_`.  \n",
    "- **Ejemplos:**  \n",
    "  - `DEPARTAMENTO`  \n",
    "  - `NUM_MUNICIPIOS`  \n",
    "  - `FECHA_ACTUALIZACION`\n",
    "- **Tipo de datos:**  \n",
    "  - Los **códigos** de departamento (`COD_DPTO`), municipio (`COD_MPIO`) y manzana (`COD_MANZANA`) deben manejarse siempre como **STRING**, preservando ceros a la izquierda (p.ej. `\"08006\"`).\n",
    "\n",
    "### **2.2 Departamentos y Municipios**\n",
    "- **Formato:**  \n",
    "  - Todos los nombres en **MAYÚSCULAS**  \n",
    "  - Sin tildes ni caracteres especiales (A E I O U, Ñ normal).  \n",
    "  - **El código del municipio** debe tener siempre **5 caracteres** (añadir ceros a la izquierda si es necesario, p.ej. `08006`).  \n",
    "- **Fuente canónica:**  \n",
    "  - Respetar los nombres predeterminados ya asignados en el script `funciones/rename_nivel.py`\n",
    "\n",
    "  - No crear variaciones; si falta un nombre, añádelo ahí siguiendo el mismo patrón."
   ]
  },
  {
   "cell_type": "markdown",
   "id": "5f4e4145",
   "metadata": {},
   "source": [
    "\n",
    "##  **3. Estructura del Notebook**\n",
    "\n",
    "\n"
   ]
  },
  {
   "cell_type": "markdown",
   "id": "cba9d72d",
   "metadata": {},
   "source": [
    "## **4. Acceso a los datos**"
   ]
  },
  {
   "cell_type": "markdown",
   "id": "959b6aed",
   "metadata": {},
   "source": [
    "## **5. Referencias**\n",
    "\n",
    "- **Fuentes de datos y recursos**  \n",
    "  Siempre registrar y referenciar **todas** las fuentes de datos, scripts, librerías y cualquier otro recurso utilizado en este proyecto en el archivo `references.bib`.\n",
    "\n",
    "- **Convenciones de cita**  \n",
    "  Uso de **BibTeX** para todas las entradas.    \n",
    "\n",
    "\n",
    "- **Actualización**  \n",
    "  Cada vez que agregues o elimines datos o herramientas, **actualiza** inmediatamente `references.bib` para mantener el historial y la reproducibilidad.\n"
   ]
  },
  {
   "cell_type": "markdown",
   "id": "dcaaa476",
   "metadata": {},
   "source": [
    "\n",
    "## **Recuerda:**  \n",
    "\n",
    "> - Mantener celdas claras y comentadas.   \n",
    "> - Si agregas nuevas convenciones, actualiza este bloque de “Reglas de Trabajo”."
   ]
  }
 ],
 "metadata": {
  "language_info": {
   "name": "python"
  }
 },
 "nbformat": 4,
 "nbformat_minor": 5
}
