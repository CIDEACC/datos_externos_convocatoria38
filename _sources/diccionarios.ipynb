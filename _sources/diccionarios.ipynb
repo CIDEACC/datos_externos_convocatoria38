{
 "cells": [
  {
   "cell_type": "markdown",
   "id": "e9724f41",
   "metadata": {},
   "source": [
    "# **Diccionarios: Identificación de variables**"
   ]
  },
  {
   "cell_type": "markdown",
   "id": "3231e41e",
   "metadata": {},
   "source": [
    "| **Grupo**                                 | **Descripción**                                                                                                                  | **Ejemplos de variables**                                           |\n",
    "|-------------------------------------------|----------------------------------------------------------------------------------------------------------------------------------|---------------------------------------------------------------------|\n",
    "| **General**                               | Información de identificación, ubicación y temporalidad de cada registro.                                                        | `COD_DEPTO`, `COD_MUNI`, `DEPARTAMENTO`, `MUNICIPIO`, `AÑO`         |\n",
    "| **Vulnerabilidad Económica (VE)**         | Mide la capacidad financiera de la población para acceder a recursos y servicios básicos de salud; bajos ingresos o desempleo elevado incrementan la vulnerabilidad. | `TASA_POBREZA`, `INGRESO_PROMEDIO_HOGAR`, `ESTRATO_SOCIOECONÓMICO`   |\n",
    "| **Vulnerabilidad Cultural (VC)**          | Evalúa las barreras derivadas de idioma, creencias o falta de adaptación cultural de los servicios de salud; mayor diversidad lingüística o prácticas tradicionales no atendidas aumentan la vulnerabilidad. | `IDIOMA_PRINCIPAL`, `PARTICIPACIÓN_CULTURAL`                        |\n",
    "| **Vulnerabilidad de Infraestructura (VI)**| Se refiere a la disponibilidad y calidad de equipamientos sanitarios, saneamiento y transporte hacia centros de salud; deficiencias en estos elementos elevan la vulnerabilidad. | `DISTANCIA_HOSPITAL_KM`, `ACCESO_SANEAMIENTO`, `TRANSPORTE_SALUD`    |\n",
    "| **Vulnerabilidad de Acceso a Salud (VH)** | Considera la cobertura, costo y cercanía de los servicios médicos; barreras económicas, geográficas o de calidad en la atención incrementan la vulnerabilidad. | `COBERTURA_SEGURO_SOCIAL`, `COSTO_CONSULTA`, `ÍNDICE_CALIDAD_SERVICIOS` |\n",
    "| **Vulnerabilidad Ambiental (VAM)**        | Mide la exposición a riesgos ambientales —contaminación, desastres naturales o cambios climáticos— que afectan la salud y la integridad del hábitat; mayor exposición empeora la vulnerabilidad. | `ÍNDICE_CONTAMINACIÓN`, `FRECUENCIA_DESASTRES_NATURALES`, `TEMPERATURA_EXTREMA` |\n",
    "| **Vulnerabilidad Geográfica (VG)**        | Mide la dificultad de acceso físico a servicios de salud debido a la ubicación en zonas rurales remotas o de difícil acceso; el aislamiento geográfico incrementa la vulnerabilidad. | `ES_ZONA_RURAL_REMOTA`, `ALTITUD`, `TIPO_DE_TERRENO`                |\n",
    "| **Vulnerabilidad Tecnológica (VT)**       | Refleja el acceso a tecnologías médicas y conectividad digital para consultas y seguimiento; falta de cobertura de internet o servicios de telemedicina eleva la vulnerabilidad. | `COBERTURA_INTERNET`, `USO_TELEMEDICINA`                            |\n",
    "| **Vulnerabilidad Social (VS)**            | Involucra dinámicas de discriminación, exclusión o violencia que afectan el acceso a recursos y servicios de salud; mayor marginación social aumenta la vulnerabilidad. | `TASA_VIOLENCIA`, `ÍNDICE_EXCLUSIÓN_SOCIAL`                         |\n",
    "| **Vulnerabilidad de Acceso a Información (VA)** | Se refiere a la disponibilidad y comprensión de la información en salud pública; carencia de materiales adaptados o bajo nivel de alfabetización elevan la vulnerabilidad. | `DISPONIBILIDAD_MATERIALES_INFORMATIVOS`, `NIVEL_ALFABETISMO`       |\n",
    "| **Vulnerabilidad Política (VP)**          | Evalúa la estabilidad del entorno político y su impacto en la provisión de servicios de salud; conflictos o inestabilidad institucional empeoran la vulnerabilidad. | `ÍNDICE_ESTABILIDAD_PÚBLICA`, `NÚMERO_PROTESTAS`                    |\n",
    "| **Vulnerabilidad por Género y Barreras Sociales (VGBS)** | Mide cómo las normas de género o barreras sociales limitan el acceso a servicios y recursos de salud; desigualdades de género o roles tradicionales no considerados aumentan la vulnerabilidad. | `BRECHA_ACCESO_SALUD_MUJERES`, `BARRERAS_CULTURALES`                |\n"
   ]
  },
  {
   "cell_type": "markdown",
   "id": "e91a712e",
   "metadata": {},
   "source": [
    "## **General**"
   ]
  },
  {
   "cell_type": "markdown",
   "id": "a00acaa0",
   "metadata": {},
   "source": [
    "Es importante destacar que en todos los conjuntos de datos que se usan y se describen, se incluyen las siguientes variables:\n",
    "\n",
    "| **Variable**   | **Tipo de variable** | **Descripción de la variable**                                                            |\n",
    "|----------------|----------------------|--------------------------------------------------------------------------------------------|\n",
    "| `COD_DEPTO`    | Texto                | Código DANE del departamento (2 dígitos)                                                  |\n",
    "| `DEPARTAMENTO` | Texto                | Nombre del departamento                                                                   |\n",
    "| `COD_MUNI`     | Texto                | Código DANE del municipio (5 dígitos, que incluye el código del departamento)              |\n",
    "| `MUNICIPIO`    | Texto                | Nombre del municipio                                                                       |\n",
    "\n",
    "\n"
   ]
  },
  {
   "cell_type": "markdown",
   "id": "e5ff5247",
   "metadata": {},
   "source": [
    "## **Nivel: Departamental**"
   ]
  },
  {
   "cell_type": "markdown",
   "id": "2c78f476",
   "metadata": {},
   "source": [
    "### **Data PIB (Producto Interno Bruto)**"
   ]
  },
  {
   "cell_type": "markdown",
   "id": "63d834e6",
   "metadata": {},
   "source": [
    "| **Variable**               | **Tipo de variable**  | **Descripción**                                                                            | **Categorías/Tipo** | **Tipo de vulnerabilidad**      |\n",
    "| -------------------------- | --------------------- | ------------------------------------------------------------------------------------------ | ------------------- | ------------------------------- |\n",
    "| `PIB`                      | Cuantitativa continua | Producto interno bruto departamental a precios corrientes y en miles de millones de pesos. | Valor numérico            | `Vulnerabilidad Económica (VE)` |\n",
    "| `PARTICIPACION_PORCENTUAL` | Cuantitativa continua | Participación porcentual de cada departamento en el PIB global de Colombia                 | Valor numérico            | `Vulnerabilidad Económica (VE)` |\n"
   ]
  },
  {
   "cell_type": "markdown",
   "id": "ba3c9da5",
   "metadata": {},
   "source": [
    "## **Nivel: Municipal**"
   ]
  },
  {
   "cell_type": "markdown",
   "id": "49c0ee71",
   "metadata": {},
   "source": [
    "### **Data Acceso a Internet**\n",
    "\n"
   ]
  },
  {
   "cell_type": "markdown",
   "id": "25e44f13",
   "metadata": {},
   "source": [
    "| **Variable**          | **Tipo de variable**       | **Descripción**                                                                                             | **Categorías/Tipo**      |     **Tipo de vulnerabilidad**          |\n",
    "|-----------------------|----------------------------|-------------------------------------------------------------------------------------------------------------|--------------------------------|-----------------------------|\n",
    "| `AÑO`                 | Cuantitativa discreta      | Año al que corresponde el registro (e.g., 2023).                                                            |       `2015 - 2023`                  |     General                |\n",
    "| `ACCESO_INTERNET`     | Cuantitativa discreta      | Número de accesos fijos a Internet por cada 100 habitantes en el año y municipio correspondiente.          |  Valor numérico   |  `Vulnerabilidad tecnológica (VT)` |\n"
   ]
  },
  {
   "cell_type": "markdown",
   "id": "b4d8b67f",
   "metadata": {},
   "source": [
    "### **Data Homicidios**"
   ]
  },
  {
   "cell_type": "markdown",
   "id": "7ffd5ffc",
   "metadata": {},
   "source": [
    "\n",
    "\n",
    "| **Variable** | **Tipo de variable**  | **Descripción**                                                                          | **Categorías/Tipo**     |       **Tipo de vulnerabilidad**   |\n",
    "|--------------|-----------------------|------------------------------------------------------------------------------------------|----------------------------|----------------------------|\n",
    "| `AÑO`        | Cuantitativa discreta | Año al que corresponde el registro (p.ej., 2023).                                        |         `2003 - 2024`         | `General `               |\n",
    "| `CANTIDAD`   | Cuantitativa discreta | Número de homicidios reportados en el año y municipio correspondientes.                  |   Valor numérico   |  `Vulnerabilidad social (VS)` |\n",
    "\n"
   ]
  },
  {
   "cell_type": "markdown",
   "id": "0a0554fe",
   "metadata": {},
   "source": [
    "### **Data Calidad del Agua para Consumo Humano**\n",
    "\n",
    "\n",
    "\n",
    "\n",
    "\n"
   ]
  },
  {
   "cell_type": "markdown",
   "id": "bf678ced",
   "metadata": {},
   "source": [
    "| **Variable**       | **Tipo de variable**     | **Descripción**                                                                                               | **Categorías/Tipo**                                                                                     | **Tipo de vulnerabilidad** |\n",
    "|--------------------|--------------------------|---------------------------------------------------------------------------------------------------------------|---------------------------------------------------------------------------------------------------|----------------------------|\n",
    "| `AÑO`              | Cuantitativa discreta    | Año del registro de calidad de agua potable (por ejemplo, 2023).                                              | `2007 - 2023`                                                                                                | `General`                    |\n",
    "| `IRCA`             | Cuantitativa continua    | Índice de Riesgo de la Calidad del Agua.                                       | Valor numérico                                                                                              |      `Vulnerabilidad de infraestructura (VI)`       |\n",
    "| `NIVEL_RIESGO`     | Categórica ordinal       | Clasificación cualitativa del riesgo según el IRCA.                                                           | `Sin riesgo`<br>`Bajo`<br>`Medio`<br>  `Alto`<br>  `Inviable sanitariamente` |     `Vulnerabilidad de infraestructura (VI)`     |"
   ]
  },
  {
   "cell_type": "markdown",
   "id": "f3670d3b",
   "metadata": {},
   "source": [
    "### **Data Riesgo de victimización**"
   ]
  },
  {
   "cell_type": "markdown",
   "id": "d202fc7e",
   "metadata": {},
   "source": [
    "| **Variable**             | **Tipo de variable**    | **Descripción**                                                                                                                                         | **Categorías/Tipo**                                   | **Tipo de vulnerabilidad**  |\n",
    "|--------------------------|-------------------------|---------------------------------------------------------------------------------------------------------------------------------------------------------|-------------------------------------------------------|-----------------------------|\n",
    "| `PDET`         | Categórica nominal      | Indica si el municipio hace parte del programa PDET                                                                         | `SI`<br>`NO`                                    | `Vulnerabilidad geográfica (VG)`    |\n",
    "| `PDET_SITIO`         | Categórica nominal      | Indica el lugar al que corresponde el municipio PDET                                                                         | Texto                                 | `Vulnerabilidad geográfica (VG)`    |\n",
    "| `CLUSTER_RIESGO`         | Categórica ordinal      | Nivel de riesgo de victimización del municipio, calculado a partir de indicadores de criminalidad y violencia, y clasificado en cinco niveles ordenados. | `Bajo`<br>`Medio Bajo`<br>`Medio`<br>`Medio Alto`<br>`Alto` | `Vulnerabilidad social (VS)`        |\n",
    "| `VALOR_ESTIMADO_CLUSTER` | Cuantitativa continua   | Valor numérico que estima el índice de riesgo de victimización por cada 100 habitantes, asociado al cluster de riesgo correspondiente.                  | Valor numérico                                         | `Vulnerabilidad social (VS)`       |\n",
    "\n"
   ]
  },
  {
   "cell_type": "markdown",
   "id": "b9fcac35",
   "metadata": {},
   "source": [
    "### **Encuesta Nacional de Calidad de vida 2023**"
   ]
  },
  {
   "cell_type": "markdown",
   "id": "fa0e71fd",
   "metadata": {},
   "source": [
    "| Variable                                       | Descripción                                                    | Categorías / Tipo                                |\n",
    "|-----------------------------------------------|----------------------------------------------------------------|--------------------------------------------------|\n",
    "| `ID`                                           | Identificador único de la vivienda donde se realizó la encuesta | `Numérico`                                       |\n",
    "| `FEX_C`                                        | Factor de expansión muestral                                   | `Numérico`                                       |\n",
    "| `COD_DPTO`                                     | Código del departamento según DANE                             | `Numérico`                                       |\n",
    "| `COD_MUNI`                                     | Código del municipio según DANE                                | `Numérico`                                       |\n",
    "| `REGION`                                       | Región geográfica del país                                     | - `CARIBE`<br> - `ANDINA`<br> - `PACIFICA`<br> - `ORINOQUIA`<br> - `AMAZONIA` <br> **En este caso solo se tendrá en cuenta la región Caribe** |\n",
    "| `MUNICIPIO`                                    | Nombre del municipio                                           | `Texto`                                          |\n",
    "| `DEPARTAMENTO`                                 | Nombre del departamento                                        | `Texto`                                          |\n",
    "| `RUIDOS`                                       | ¿Con qué frecuencia se presentan ruidos externos?              | - `NUNCA`<br> - `ALGUNAS VECES`<br> - `MUCHAS VECES`<br> - `SIEMPRE` |\n",
    "| `MALOS_OLORES`                                 | ¿Con qué frecuencia se presentan malos olores externos?        | - `NUNCA`<br> - `ALGUNAS VECES`<br> - `MUCHAS VECES`<br> - `SIEMPRE` |\n",
    "| `PRESENCIA_BASURAS`                            | ¿Con qué frecuencia se observan basuras en el entorno?         | - `NUNCA`<br> - `ALGUNAS VECES`<br> - `MUCHAS VECES`<br> - `SIEMPRE` |\n",
    "| `CONTAMINACION_AIRE`                           | ¿Con qué frecuencia se percibe contaminación del aire?         | - `NUNCA`<br> - `ALGUNAS VECES`<br> - `MUCHAS VECES`<br> - `SIEMPRE` |\n",
    "| `CONTAMINACION_AGUA`                           | ¿Contaminación en cuerpos de agua cercanos?                    | - `NUNCA`<br> - `ALGUNAS VECES`<br> - `MUCHAS VECES`<br> - `SIEMPRE` |\n",
    "| `INVASION_ESPACIO_PUBLICO`                     | ¿Se ha presentado ocupación indebida del espacio público?      | - `NUNCA`<br> - `ALGUNAS VECES`<br> - `MUCHAS VECES`<br> - `SIEMPRE` |\n",
    "| `MOLESTIAS_ANIMALES`                           | ¿Presencia de animales que generan molestias?                  | - `NUNCA`<br> - `ALGUNAS VECES`<br> - `MUCHAS VECES`<br> - `SIEMPRE` |\n",
    "| `PRESENCIA_INSECTOS`                           | ¿Presencia de insectos o plagas?                               | - `NUNCA`<br> - `ALGUNAS VECES`<br> - `MUCHAS VECES`<br> - `SIEMPRE` |\n",
    "| `INUNDACIONES_DESBORDAMIENTO_CRECIENTES_ARROYOS` | ¿La vivienda ha sido afectada por inundaciones?             | - `SI`<br> - `NO`                                  |\n",
    "| `AVALANCHAS_DERRUMBES_DESLIZAMIENTOS`          | ¿Ha sido afectada por derrumbes o deslizamientos?              | - `SI`<br> - `NO`                                  |\n",
    "| `HUNDIMIENTO_DE_TERRENO`                       | ¿Hundimiento o agrietamiento del terreno?                      | - `SI`<br> - `NO`                                  |\n",
    "| `VENTARRONES_TORMENTAS_VENDAVALES`             | ¿Fenómenos climáticos fuertes como vendavales?                 | - `SI`<br> - `NO`                                  |\n",
    "| `SISMO_TEMBLOR`                                 | ¿Ha sido afectada por sismos o temblores?                      | - `SI`<br> - `NO`                                  |\n",
    "| `INGRESO_MENSUAL_TOTAL`                        | Ingreso mensual total del hogar                                | `Numérico`                                       |\n",
    "| `PAGO_SEG_SOCIAL`                              | Valor del pago mensual en salud                                | `Numérico`                                       |\n",
    "| `UBICACION_ENTIDAD_SALUD`                      | Ubicación de la entidad de salud                               | - `MISMO MUNICIPIO`<br> - `DIFERENTE MUNICIPIO`     |\n",
    "| `RESPONSABLE_PAGO_AFILIACION`                  | Quién paga la afiliación mensual a salud                       | - `Parte propia y parte empresa`<br> - `Descuento por pensión`<br> - `Pago total propio`<br> - `Pago total empresa`<br> - `No paga (beneficiario)` |\n",
    "| `SEG_SOCIAL`                                    | Tipo de afiliación al sistema de salud                         | - `Contributivo (EPS)`<br> - `Especial (Fuerzas armadas, Ecopetrol, universidades públicas, magisterio)`<br> - `Subsidiado (EPS-S)`<br> - `No sabe, no informa` |\n",
    "| `MEDICINA_PREPAGADA`                           | ¿Tiene medicina prepagada?                                     | - `SI`<br> - `NO`                                  |\n",
    "| `PLAN_COMPLEMENTARIO_EPS`                      | ¿Tiene plan complementario de EPS?                             | - `SI`<br> - `NO`                                  |\n",
    "| `POLIZA_HOSPITALIZACION_CIRUGIA`               | ¿Cuenta con póliza para hospitalización o cirugía?             | - `SI`<br> - `NO`                                  |\n",
    "| `FRECUENCIA_INTERNET`                          | Frecuencia de acceso a internet                                | - `Todos los días`<br> - `Semanalmente`<br> - `Mensualmente`<br> - `Anualmente`<br> - `No usa internet` |\n",
    "| `PERCEPCION_CALIDAD_DE_VIDA`                   | Percepción sobre la calidad de vida                            | `10: Mejor vida - 0: Peor vida`                  |\n",
    "\n"
   ]
  },
  {
   "cell_type": "markdown",
   "id": "1f65f7b2",
   "metadata": {},
   "source": [
    "\n",
    ":::{note}\n",
    "El factor de expansión es un valor utilizado en estadísticas para ajustar una muestra de forma que represente adecuadamente a una población más grande, compensando las diferencias en la selección de la muestra.\n",
    "*Ejemplo: Si un factor de expansión es 3, significa que cada observación en la muestra debe ser multiplicada por 3 para estimar el valor correspondiente en la población completa.*\n",
    ":::"
   ]
  },
  {
   "cell_type": "markdown",
   "id": "b276ff6a",
   "metadata": {},
   "source": [
    "## **Nivel: Manzana**"
   ]
  },
  {
   "cell_type": "markdown",
   "id": "21aac2f8",
   "metadata": {},
   "source": [
    "### **Data Censo Nacional de Población y Vivienda 2018**"
   ]
  },
  {
   "cell_type": "markdown",
   "id": "6996d03e",
   "metadata": {},
   "source": [
    "| **Variable**              | **Tipo de variable**      | **Descripción**                                                       | **Categorías/Tipo**                                                                                                                                                     | **Tipo de vulnerabilidad**                    |\n",
    "| ------------------------- | ------------------------- | --------------------------------------------------------------------- | ----------------------------------------------------------------------------------------------------------------------------------------------------------------------- | --------------------------------------------- |\n",
    "| `COD_MANZANA`             | Cualitativa discreta (ID) | Código de la manzana para identificar y fusionar con datos de manzana | Código alfanumérico                                                                                                                                                     | `General`                                     |\n",
    "| `ALFABETA`                | Categórica nominal        | Sabe leer y escribir                                                  | `1: Sí`<br>`2: No`<br>`4: No aplica`<br>`9: No informa`                                                                                                                 | `Vulnerabilidad de Acceso a Información (VA)` |\n",
    "| `ASISTENCIA_ESCOLAR`      | Categórica nominal        | Asistencia escolar (presencial o virtual)                             | `1: Sí`<br>`2: No`<br>`4: No aplica`<br>`9: No informa`                                                                                                                 | `Vulnerabilidad Social (VS)`                  |\n",
    "| `NIVEL_EDUCATIVO`         | Categórica ordinal        | Nivel educativo más alto alcanzado y último año o grado aprobado      | Categorías sobre nivel educativo                                                                                                                                        | `Vulnerabilidad de Acceso a Información (VA)` |\n",
    "| `ULTIMOS_PROBLEMAS_SALUD` | Texto                     | Algún problema de salud en los últimos 30 días, sin hospitalización   | Texto libre                                                                                                                                                             | `Vulnerabilidad de Acceso a Salud (VH)`       |\n",
    "| `CALIDAD_SERVICIO_SALUD`  | Categórica ordinal        | Calidad de la prestación del servicio de salud                        | `1: Muy bueno`<br>`2: Bueno`<br>`3: Malo`<br>`4: Muy malo`<br>`6: No aplica`<br>`9: No informa`                                                                         | `Vulnerabilidad de Acceso a Salud (VH)`       |\n",
    "| `TIPO_VIVIENDA`           | Categórica nominal        | Tipo de vivienda                                                      | `1: Casa`<br>`2: Apartamento`<br>`3: Tipo cuarto`<br>`4: Vivienda tradicional indígena`<br>`5: Vivienda tradicional étnica (Afrocolombiana, Isleña, Rrom)`<br>`6: Otro` | `Vulnerabilidad Geográfica (VG)`              |\n",
    "| `TOTAL_HOGARES`           | Cuantitativa discreta     | Total de hogares en la vivienda                                       | Número entero                                                                                                                                                           | `General`                                     |\n",
    "| `TOTAL_PERSONAS_HOGAR`    | Cuantitativa discreta     | Total de personas en el hogar                                         | Número entero                                                                                                                                                           | `General`                                     |\n",
    "| `MATERIAL_PARED`          | Categórica nominal        | Material predominante en paredes exteriores                           | Categorías de materiales                                                                                                                                                | `Vulnerabilidad de Infraestructura (VI)`      |\n",
    "| `MATERIAL_PISO`           | Categórica nominal        | Material predominante en los pisos                                    | Categorías de materiales                                                                                                                                                | `Vulnerabilidad de Infraestructura (VI)`      |\n",
    "| `ALCANTARILLADO`          | Categórica nominal        | Cuenta con servicio de alcantarillado                                 | `1: Sí`<br>`2: No`                                                                                                                                                      | `Vulnerabilidad de Infraestructura (VI)`      |\n",
    "| `SERVICIO_INTERNET`       | Categórica nominal        | Cuenta con servicio de internet (fijo o móvil)                        | `1: Sí`<br>`2: No`<br>`9: No informa`                                                                                                                                   | `Vulnerabilidad Tecnológica (VT)`             |\n",
    "| `ENERGIA`                 | Categórica nominal        | Cuenta con servicio de energía eléctrica                              | `1: Sí`<br>`2: No`                                                                                                                                                      | `General`                                     |\n",
    "| `ACUEDUCTO`               | Categórica nominal        | Cuenta con servicio de acueducto                                      | `1: Sí`<br>`2: No`                                                                                                                                                      | `Vulnerabilidad de Infraestructura (VI)`      |\n",
    "| `GAS`                     | Categórica nominal        | Cuenta con servicio de gas natural conectado a red pública            | `1: Sí`<br>`2: No`<br>`9: No informa`                                                                                                                                   | `Vulnerabilidad de Infraestructura (VI)`      |\n",
    "| `ESTRATO`                 | Categórica ordinal        | Estrato de la vivienda (según servicio de energía)                    | `0: Sin estrato`<br>`1: Estrato 1`<br>`2: Estrato 2`<br>`3: Estrato 3`<br>`4: Estrato 4`<br>`5: Estrato 5`<br>`6: Estrato 6`<br>`9: No sabe el estrato`                 | `Vulnerabilidad Económica (VE)`               |\n",
    "| `AGUA_COCINA`             | Categórica nominal        | Fuente de agua para preparar los alimentos                            | Categorías de fuente de agua                                                                                                                                            | `Vulnerabilidad de Infraestructura (VI)`      |\n",
    "| `LUGAR_COCINA`            | Categórica nominal        | Lugar donde preparan los alimentos                                    | Categorías de ubicación                                                                                                                                                 | `Vulnerabilidad de Infraestructura (VI)`      |\n",
    "| `TERR_ETNICA`             | Categórica nominal        | Vivienda en una territorialidad étnica                                | `1: Sí`<br>`2: No`                                                                                                                                                      | `Vulnerabilidad Cultural (VC)`                |\n",
    "| `TIPO_TERR_ETNICA`        | Categórica nominal        | Tipo de territorialidad étnica                                        | `1: Resguardo indígena`<br>`2: Territorio colectivo de comunidad negra`                                                                                                 | `Vulnerabilidad Cultural (VC)`                |\n",
    "| `VIVIENDA_AREA_PROTEGIDA` | Categórica nominal        | Vivienda en un área protegida                                         | `1: Sí`<br>`2: No`<br>`4: No aplica`<br>`9: No informa`                                                                                                                 | `Vulnerabilidad Ambiental (VAM)`              |\n",
    "| `COD_VIV_AREA_PROTEGIDA`  | Cualitativa discreta (ID) | Código del área protegida                                             | Códigos de áreas protegidas                                                                                                                                             | `Vulnerabilidad Ambiental (VAM)`              |\n",
    "| `RECONOCIMIENTO_ETNICO`   | Categórica nominal        | Reconocimiento étnico                                                 | Categorías sobre grupos étnicos                                                                                                                                         | `Vulnerabilidad Cultural (VC)`                |\n",
    "| `COD_ETNIA`               | Categórica nominal        | Pueblo indígena de pertenencia                                        | Categorías sobre pueblos                                                                                                                                                | `Vulnerabilidad Cultural (VC)`                |\n",
    "| `HABLA_LENGUA_NATIVA`     | Categórica nominal        | Habla la lengua nativa de su pueblo                                   | `1: Sí`<br>`2: No`<br>`4: No aplica`<br>`9: No informa`                                                                                                                 | `Vulnerabilidad Cultural (VC)`                |\n",
    "| `ENTIENDE_LENGUA_NATIVA`  | Categórica nominal        | Entiende la lengua nativa de su pueblo                                | `1: Sí`<br>`2: No`<br>`4: No aplica`<br>`9: No informa`                                                                                                                 | `Vulnerabilidad Cultural (VC)`                |\n"
   ]
  },
  {
   "cell_type": "markdown",
   "id": "47c449ed",
   "metadata": {},
   "source": [
    "## **Georeferenciación de las manzanas**"
   ]
  },
  {
   "cell_type": "markdown",
   "id": "c31d53c2",
   "metadata": {},
   "source": [
    "\n",
    "\n",
    "| Variable     | Descripción                                                                               | Tipo / Categoría                       |\n",
    "| ------------ | ----------------------------------------------------------------------------------------------------------------- | -------------------------------------- |\n",
    "| `COD_DEPTO`    | Código DANE del departamento.                                    | `Text(2)`                                                                                 |\n",
    "| `DEPARTAMENTO` | Nombre del departamento.                                               |       `Texto`      | \n",
    "| `COD_MUNI`     | Código DANE del municipio.                                       |   `Text(3)` |\n",
    "| `MUNICIPIO`    | Nombre del municipio.                                                  |    `Texto`           |\n",
    "| `MPIO_CDPMP` | Código DANE concatenado del departamento y municipio.                                                             | `Text(5)`                              |\n",
    "| `CLAS_CCDGO` | Código DANE de la clase (1 = Cabecera municipal, 2 = Centro poblado).                                             | `Text(1)`                              |\n",
    "| `SETR_CCDGO` | Código DANE del sector rural.                                                                                     | `Text(3)`                              |\n",
    "| `SETR_CCNCT` | Código concatenado del departamento, municipio, clase y sector rural.                                             | `Text(9)`                              |\n",
    "| `SECR_CCDGO` | Código DANE de la sección rural.                                                                                  | `Text(2)`                              |\n",
    "| `SECR_CCNCT` | Código concatenado del departamento, municipio, clase, sector rural y sección rural.                              | `Text(11)`                             |\n",
    "| `ZU_CCDGO`   | Código DANE de la zona urbana (cabeceras municipales y centros poblados).                                         | `Text(3)`                              |\n",
    "| `ZU_CDIVI`   | Código DANE concatenado del departamento, municipio y zona urbana.                                                | `Text(8)`                              |\n",
    "| `SETU_CCDGO` | Código DANE del sector urbano.                                                                                    | `Text(4)`                              |\n",
    "| `SETU_CCNCT` | Código concatenado del departamento, municipio, clase, sector rural, zona urbana y sector urbano.                 | `Text(18)`                             |\n",
    "| `SECU_CCDGO` | Código DANE de la sección urbana.                                                                                 | `Text(2)`                              |\n",
    "| `SECU_CCNCT` | Código concatenado del departamento, municipio, clase, sector rural, zona urbana, sector urbano y sección urbana. | `Text(20)`                             |\n",
    "| `MANZ_CCDGO` | Código DANE de la manzana censal.                                                                                 | `Text(2)`                              |\n",
    "| `MANZ_CCNCT` | Código DANE concatenado del departamento, municipio, clase, sector rural, zona urbana, sector urbano y manzana.   | `Text(22)`                             |\n",
    "| `MANZ_CAG`   | Código DANE del Área Geográfica AG.                                                                               | `Text(6)`                              |\n",
    "| `MANZ_TIPO`  | Clasificación del tipo de manzana con mayor predominancia.                                                        | `Short Integer` (Dominio: `MANZ_TIPO`) |\n",
    "| `MANZ_NAREA` | Área de la manzana en metros cuadrados.                                                                           | `Double`                               |\n",
    "| `MANZ_LATI`  | Latitud geográfica del centroide de la manzana.                                                                   | `Double`                               |\n",
    "| `MANZ_LONG`  | Longitud geográfica del centroide de la manzana.                                                                  | `Double`                               |\n",
    "| `MANZ_VIV`   | Total viviendas en la manzana.                                                                                    | `Long Integer`                         |\n",
    "| `SHAPE_LENG`   | Longitud del perímetro de la manzana (según shapefile).                | Ej: `500.32`                                                                                               |\n",
    "| `SHAPE_AREA`   | Área de la manzana según el shapefile.                                 | Ej: `1600.45`                                                                                              |\n",
    "| `GEOMETRY`     | Geometría espacial de la manzana.                                      | Ej: `POLYGON ((-74.79 10.98, ...))`                                                                        |\n",
    "\n"
   ]
  }
 ],
 "metadata": {
  "language_info": {
   "name": "python"
  }
 },
 "nbformat": 4,
 "nbformat_minor": 5
}
