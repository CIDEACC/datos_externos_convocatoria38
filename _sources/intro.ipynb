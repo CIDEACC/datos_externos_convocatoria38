{
 "cells": [
  {
   "cell_type": "markdown",
   "id": "184edb46",
   "metadata": {},
   "source": [
    "# **Convocatoria 38**\n",
    "\n",
    "<p align=\"justify\">\n",
    "El presente proyecto propone el desarrollo de una solución basada en inteligencia artificial para apoyar la detección temprana y la prevención de la enfermedad renal crónica (ERC) en Colombia, con un enfoque dirigido a mejorar la eficiencia en la toma de decisiones en salud pública. La falta de tamizajes sistemáticos para detectar personas en riesgo de ERC ha llevado a un subdiagnóstico crítico, lo que incrementa los costos del sistema de salud y reduce las posibilidades de tratamiento oportuno. A través del diseño de un modelo predictivo robusto, acompañado de un tablero interactivo con mapas geoespaciales y listados priorizados por riesgo, esta herramienta permitirá identificar áreas y poblaciones de alto riesgo, facilitando intervenciones focalizadas. El proyecto responde a la necesidad urgente de optimizar la asignación de recursos en salud, reducir el avance silencioso de la enfermedad y generar evidencia para una política pública basada en datos.\n",
    "</p>\n",
    "\n",
    "\n",
    "<div style=\"text-align: center;\">\n",
    "    <img src=\"https://github.com/CIDEACC/prueba_datos_convocatoria38/blob/main/imagen_intro.png?raw=true\" alt= \" \" width=\"600\"/>\n",
    "</div>"
   ]
  }
 ],
 "metadata": {
  "language_info": {
   "name": "python"
  }
 },
 "nbformat": 4,
 "nbformat_minor": 5
}
